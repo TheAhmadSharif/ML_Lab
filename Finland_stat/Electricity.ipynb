{
 "cells": [
  {
   "cell_type": "code",
   "execution_count": 1,
   "id": "07d551fd-b928-4258-bd4e-a333b6466b14",
   "metadata": {},
   "outputs": [],
   "source": [
    "from IPython.core.interactiveshell import InteractiveShell\n",
    "InteractiveShell.ast_node_interactivity = \"all\""
   ]
  },
  {
   "cell_type": "code",
   "execution_count": 12,
   "id": "5cc8be57-b142-4534-93f6-633c20918eed",
   "metadata": {},
   "outputs": [
    {
     "data": {
      "text/html": [
       "<div>\n",
       "<style scoped>\n",
       "    .dataframe tbody tr th:only-of-type {\n",
       "        vertical-align: middle;\n",
       "    }\n",
       "\n",
       "    .dataframe tbody tr th {\n",
       "        vertical-align: top;\n",
       "    }\n",
       "\n",
       "    .dataframe thead th {\n",
       "        text-align: right;\n",
       "    }\n",
       "</style>\n",
       "<table border=\"1\" class=\"dataframe\">\n",
       "  <thead>\n",
       "    <tr style=\"text-align: right;\">\n",
       "      <th></th>\n",
       "      <th>startTime</th>\n",
       "      <th>endTime</th>\n",
       "      <th>Electricity production in Finland</th>\n",
       "      <th>Year</th>\n",
       "      <th>Month</th>\n",
       "      <th>Day</th>\n",
       "    </tr>\n",
       "  </thead>\n",
       "  <tbody>\n",
       "    <tr>\n",
       "      <th>0</th>\n",
       "      <td>2014-01-01 00:00:00+00:00</td>\n",
       "      <td>2014-01-01T01:00:00.000Z</td>\n",
       "      <td>7306.0</td>\n",
       "      <td>2014</td>\n",
       "      <td>1</td>\n",
       "      <td>1</td>\n",
       "    </tr>\n",
       "    <tr>\n",
       "      <th>1</th>\n",
       "      <td>2014-01-01 01:00:00+00:00</td>\n",
       "      <td>2014-01-01T02:00:00.000Z</td>\n",
       "      <td>7264.0</td>\n",
       "      <td>2014</td>\n",
       "      <td>1</td>\n",
       "      <td>1</td>\n",
       "    </tr>\n",
       "    <tr>\n",
       "      <th>2</th>\n",
       "      <td>2014-01-01 02:00:00+00:00</td>\n",
       "      <td>2014-01-01T03:00:00.000Z</td>\n",
       "      <td>7231.0</td>\n",
       "      <td>2014</td>\n",
       "      <td>1</td>\n",
       "      <td>1</td>\n",
       "    </tr>\n",
       "    <tr>\n",
       "      <th>3</th>\n",
       "      <td>2014-01-01 03:00:00+00:00</td>\n",
       "      <td>2014-01-01T04:00:00.000Z</td>\n",
       "      <td>7270.0</td>\n",
       "      <td>2014</td>\n",
       "      <td>1</td>\n",
       "      <td>1</td>\n",
       "    </tr>\n",
       "    <tr>\n",
       "      <th>4</th>\n",
       "      <td>2014-01-01 04:00:00+00:00</td>\n",
       "      <td>2014-01-01T05:00:00.000Z</td>\n",
       "      <td>7339.0</td>\n",
       "      <td>2014</td>\n",
       "      <td>1</td>\n",
       "      <td>1</td>\n",
       "    </tr>\n",
       "    <tr>\n",
       "      <th>...</th>\n",
       "      <td>...</td>\n",
       "      <td>...</td>\n",
       "      <td>...</td>\n",
       "      <td>...</td>\n",
       "      <td>...</td>\n",
       "      <td>...</td>\n",
       "    </tr>\n",
       "    <tr>\n",
       "      <th>140070</th>\n",
       "      <td>2025-02-11 20:45:00+00:00</td>\n",
       "      <td>2025-02-11T21:00:00.000Z</td>\n",
       "      <td>11187.5</td>\n",
       "      <td>2025</td>\n",
       "      <td>2</td>\n",
       "      <td>11</td>\n",
       "    </tr>\n",
       "    <tr>\n",
       "      <th>140071</th>\n",
       "      <td>2025-02-11 21:00:00+00:00</td>\n",
       "      <td>2025-02-11T21:15:00.000Z</td>\n",
       "      <td>11161.6</td>\n",
       "      <td>2025</td>\n",
       "      <td>2</td>\n",
       "      <td>11</td>\n",
       "    </tr>\n",
       "    <tr>\n",
       "      <th>140072</th>\n",
       "      <td>2025-02-11 21:15:00+00:00</td>\n",
       "      <td>2025-02-11T21:30:00.000Z</td>\n",
       "      <td>11186.9</td>\n",
       "      <td>2025</td>\n",
       "      <td>2</td>\n",
       "      <td>11</td>\n",
       "    </tr>\n",
       "    <tr>\n",
       "      <th>140073</th>\n",
       "      <td>2025-02-11 21:30:00+00:00</td>\n",
       "      <td>2025-02-11T21:45:00.000Z</td>\n",
       "      <td>11125.0</td>\n",
       "      <td>2025</td>\n",
       "      <td>2</td>\n",
       "      <td>11</td>\n",
       "    </tr>\n",
       "    <tr>\n",
       "      <th>140074</th>\n",
       "      <td>2025-02-11 21:45:00+00:00</td>\n",
       "      <td>2025-02-11T22:00:00.000Z</td>\n",
       "      <td>11078.3</td>\n",
       "      <td>2025</td>\n",
       "      <td>2</td>\n",
       "      <td>11</td>\n",
       "    </tr>\n",
       "  </tbody>\n",
       "</table>\n",
       "<p>140075 rows × 6 columns</p>\n",
       "</div>"
      ],
      "text/plain": [
       "                       startTime                   endTime  \\\n",
       "0      2014-01-01 00:00:00+00:00  2014-01-01T01:00:00.000Z   \n",
       "1      2014-01-01 01:00:00+00:00  2014-01-01T02:00:00.000Z   \n",
       "2      2014-01-01 02:00:00+00:00  2014-01-01T03:00:00.000Z   \n",
       "3      2014-01-01 03:00:00+00:00  2014-01-01T04:00:00.000Z   \n",
       "4      2014-01-01 04:00:00+00:00  2014-01-01T05:00:00.000Z   \n",
       "...                          ...                       ...   \n",
       "140070 2025-02-11 20:45:00+00:00  2025-02-11T21:00:00.000Z   \n",
       "140071 2025-02-11 21:00:00+00:00  2025-02-11T21:15:00.000Z   \n",
       "140072 2025-02-11 21:15:00+00:00  2025-02-11T21:30:00.000Z   \n",
       "140073 2025-02-11 21:30:00+00:00  2025-02-11T21:45:00.000Z   \n",
       "140074 2025-02-11 21:45:00+00:00  2025-02-11T22:00:00.000Z   \n",
       "\n",
       "        Electricity production in Finland  Year  Month  Day  \n",
       "0                                  7306.0  2014      1    1  \n",
       "1                                  7264.0  2014      1    1  \n",
       "2                                  7231.0  2014      1    1  \n",
       "3                                  7270.0  2014      1    1  \n",
       "4                                  7339.0  2014      1    1  \n",
       "...                                   ...   ...    ...  ...  \n",
       "140070                            11187.5  2025      2   11  \n",
       "140071                            11161.6  2025      2   11  \n",
       "140072                            11186.9  2025      2   11  \n",
       "140073                            11125.0  2025      2   11  \n",
       "140074                            11078.3  2025      2   11  \n",
       "\n",
       "[140075 rows x 6 columns]"
      ]
     },
     "execution_count": 12,
     "metadata": {},
     "output_type": "execute_result"
    },
    {
     "data": {
      "text/plain": [
       "<Figure size 1000x600 with 0 Axes>"
      ]
     },
     "execution_count": 12,
     "metadata": {},
     "output_type": "execute_result"
    },
    {
     "ename": "NameError",
     "evalue": "name 'moknthly_stats' is not defined",
     "output_type": "error",
     "traceback": [
      "\u001b[0;31m---------------------------------------------------------------------------\u001b[0m",
      "\u001b[0;31mNameError\u001b[0m                                 Traceback (most recent call last)",
      "Cell \u001b[0;32mIn[12], line 37\u001b[0m\n\u001b[1;32m     29\u001b[0m monthly_stats[\u001b[38;5;124m'\u001b[39m\u001b[38;5;124mMonth\u001b[39m\u001b[38;5;124m'\u001b[39m] \u001b[38;5;241m=\u001b[39m monthly_stats[\u001b[38;5;124m'\u001b[39m\u001b[38;5;124mMonth\u001b[39m\u001b[38;5;124m'\u001b[39m]\u001b[38;5;241m.\u001b[39mmap({\n\u001b[1;32m     30\u001b[0m     \u001b[38;5;241m1\u001b[39m: \u001b[38;5;124m'\u001b[39m\u001b[38;5;124mJanuary\u001b[39m\u001b[38;5;124m'\u001b[39m, \u001b[38;5;241m2\u001b[39m: \u001b[38;5;124m'\u001b[39m\u001b[38;5;124mFebruary\u001b[39m\u001b[38;5;124m'\u001b[39m, \u001b[38;5;241m3\u001b[39m: \u001b[38;5;124m'\u001b[39m\u001b[38;5;124mMarch\u001b[39m\u001b[38;5;124m'\u001b[39m, \u001b[38;5;241m4\u001b[39m: \u001b[38;5;124m'\u001b[39m\u001b[38;5;124mApril\u001b[39m\u001b[38;5;124m'\u001b[39m, \u001b[38;5;241m5\u001b[39m: \u001b[38;5;124m'\u001b[39m\u001b[38;5;124mMay\u001b[39m\u001b[38;5;124m'\u001b[39m, \u001b[38;5;241m6\u001b[39m: \u001b[38;5;124m'\u001b[39m\u001b[38;5;124mJune\u001b[39m\u001b[38;5;124m'\u001b[39m,\n\u001b[1;32m     31\u001b[0m     \u001b[38;5;241m7\u001b[39m: \u001b[38;5;124m'\u001b[39m\u001b[38;5;124mJuly\u001b[39m\u001b[38;5;124m'\u001b[39m, \u001b[38;5;241m8\u001b[39m: \u001b[38;5;124m'\u001b[39m\u001b[38;5;124mAugust\u001b[39m\u001b[38;5;124m'\u001b[39m, \u001b[38;5;241m9\u001b[39m: \u001b[38;5;124m'\u001b[39m\u001b[38;5;124mSeptember\u001b[39m\u001b[38;5;124m'\u001b[39m, \u001b[38;5;241m10\u001b[39m: \u001b[38;5;124m'\u001b[39m\u001b[38;5;124mOctober\u001b[39m\u001b[38;5;124m'\u001b[39m, \u001b[38;5;241m11\u001b[39m: \u001b[38;5;124m'\u001b[39m\u001b[38;5;124mNovember\u001b[39m\u001b[38;5;124m'\u001b[39m, \u001b[38;5;241m12\u001b[39m: \u001b[38;5;124m'\u001b[39m\u001b[38;5;124mDecember\u001b[39m\u001b[38;5;124m'\u001b[39m\n\u001b[1;32m     32\u001b[0m })\n\u001b[1;32m     36\u001b[0m plt\u001b[38;5;241m.\u001b[39mfigure(figsize\u001b[38;5;241m=\u001b[39m(\u001b[38;5;241m10\u001b[39m, \u001b[38;5;241m6\u001b[39m))\n\u001b[0;32m---> 37\u001b[0m plt\u001b[38;5;241m.\u001b[39mbar(monthly_stats[\u001b[38;5;124m'\u001b[39m\u001b[38;5;124mMonth\u001b[39m\u001b[38;5;124m'\u001b[39m], moknthly_stats[\u001b[38;5;124m'\u001b[39m\u001b[38;5;124mmean\u001b[39m\u001b[38;5;124m'\u001b[39m], yerr\u001b[38;5;241m=\u001b[39mmonthly_stats[\u001b[38;5;124m'\u001b[39m\u001b[38;5;124mstd\u001b[39m\u001b[38;5;124m'\u001b[39m], capsize\u001b[38;5;241m=\u001b[39m\u001b[38;5;241m5\u001b[39m, color\u001b[38;5;241m=\u001b[39m\u001b[38;5;124m'\u001b[39m\u001b[38;5;124mskyblue\u001b[39m\u001b[38;5;124m'\u001b[39m, alpha\u001b[38;5;241m=\u001b[39m\u001b[38;5;241m0.7\u001b[39m)\n\u001b[1;32m     38\u001b[0m plt\u001b[38;5;241m.\u001b[39mtitle(\u001b[38;5;124m'\u001b[39m\u001b[38;5;124mMonthly Electricity Production (Mean ± Std)\u001b[39m\u001b[38;5;124m'\u001b[39m)\n\u001b[1;32m     39\u001b[0m plt\u001b[38;5;241m.\u001b[39mxlabel(\u001b[38;5;124m'\u001b[39m\u001b[38;5;124mMonth\u001b[39m\u001b[38;5;124m'\u001b[39m)\n",
      "\u001b[0;31mNameError\u001b[0m: name 'moknthly_stats' is not defined"
     ]
    },
    {
     "data": {
      "text/plain": [
       "<Figure size 1000x600 with 0 Axes>"
      ]
     },
     "metadata": {},
     "output_type": "display_data"
    }
   ],
   "source": [
    "import pandas as pd\n",
    "import numpy as np\n",
    "import matplotlib.pyplot as plt\n",
    "import seaborn as sns\n",
    "\n",
    "\n",
    "# data_file = \"Electricity_Production_Finland_1914_2025_trim.csv\"\n",
    "data_file = \"Electricity_Production_Finland_1914_2025.csv\"\n",
    "# data_file = \"/kaggle/input/finland-electricity-production/Electricity_Production_Finland_1980-01-01T0000_2025-02-12T0000.csv\"\n",
    "\n",
    "\n",
    "df = pd.read_csv(data_file)\n",
    "df_data = pd.DataFrame(df)\n",
    "\n",
    "\n",
    "\n",
    "df_data['startTime'] = pd.to_datetime(df_data['startTime'])\n",
    "df_data['Year'] =  df_data['startTime'].dt.year\n",
    "df_data['Month'] =  df_data['startTime'].dt.month\n",
    "df_data['Day'] =  df_data['startTime'].dt.day\n",
    "df_data\n",
    "\n",
    "\n",
    "\n",
    "\n",
    "monthly_stats = df_data.groupby('Month')['Electricity production in Finland'].agg(['mean', 'std']).reset_index()\n",
    "\n",
    "# Rename the Month column to month names for better readability\n",
    "monthly_stats['Month'] = monthly_stats['Month'].map({\n",
    "    1: 'January', 2: 'February', 3: 'March', 4: 'April', 5: 'May', 6: 'June',\n",
    "    7: 'July', 8: 'August', 9: 'September', 10: 'October', 11: 'November', 12: 'December'\n",
    "})\n",
    "\n",
    "\n",
    "\n",
    "plt.figure(figsize=(10, 6))\n",
    "plt.bar(monthly_stats['Month'], moknthly_stats['mean'], yerr=monthly_stats['std'], capsize=5, color='skyblue', alpha=0.7)\n",
    "plt.title('Monthly Electricity Production (Mean ± Std)')\n",
    "plt.xlabel('Month')\n",
    "plt.ylabel('Electricity Production')\n",
    "plt.xticks(rotation=45)\n",
    "plt.grid(True, axis='y', linestyle='--', alpha=0.7)\n",
    "plt.show()\n"
   ]
  },
  {
   "cell_type": "code",
   "execution_count": 6,
   "id": "349519cd-4203-48a2-ab5a-5523016d4963",
   "metadata": {},
   "outputs": [
    {
     "data": {
      "text/plain": [
       "<Figure size 1200x600 with 0 Axes>"
      ]
     },
     "execution_count": 6,
     "metadata": {},
     "output_type": "execute_result"
    },
    {
     "ename": "NameError",
     "evalue": "name 'daily_stats' is not defined",
     "output_type": "error",
     "traceback": [
      "\u001b[0;31m---------------------------------------------------------------------------\u001b[0m",
      "\u001b[0;31mNameError\u001b[0m                                 Traceback (most recent call last)",
      "Cell \u001b[0;32mIn[6], line 2\u001b[0m\n\u001b[1;32m      1\u001b[0m plt\u001b[38;5;241m.\u001b[39mfigure(figsize\u001b[38;5;241m=\u001b[39m(\u001b[38;5;241m12\u001b[39m, \u001b[38;5;241m6\u001b[39m))\n\u001b[0;32m----> 2\u001b[0m plt\u001b[38;5;241m.\u001b[39mplot(daily_stats[\u001b[38;5;124m'\u001b[39m\u001b[38;5;124mDayOfYear\u001b[39m\u001b[38;5;124m'\u001b[39m], daily_stats[\u001b[38;5;124m'\u001b[39m\u001b[38;5;124mmean\u001b[39m\u001b[38;5;124m'\u001b[39m], label\u001b[38;5;241m=\u001b[39m\u001b[38;5;124m'\u001b[39m\u001b[38;5;124mMean\u001b[39m\u001b[38;5;124m'\u001b[39m, color\u001b[38;5;241m=\u001b[39m\u001b[38;5;124m'\u001b[39m\u001b[38;5;124mblue\u001b[39m\u001b[38;5;124m'\u001b[39m)\n\u001b[1;32m      3\u001b[0m plt\u001b[38;5;241m.\u001b[39mfill_between(\n\u001b[1;32m      4\u001b[0m     daily_stats[\u001b[38;5;124m'\u001b[39m\u001b[38;5;124mDayOfYear\u001b[39m\u001b[38;5;124m'\u001b[39m],\n\u001b[1;32m      5\u001b[0m     daily_stats[\u001b[38;5;124m'\u001b[39m\u001b[38;5;124mmean\u001b[39m\u001b[38;5;124m'\u001b[39m] \u001b[38;5;241m-\u001b[39m daily_stats[\u001b[38;5;124m'\u001b[39m\u001b[38;5;124mstd\u001b[39m\u001b[38;5;124m'\u001b[39m],\n\u001b[0;32m   (...)\u001b[0m\n\u001b[1;32m      9\u001b[0m     label\u001b[38;5;241m=\u001b[39m\u001b[38;5;124m'\u001b[39m\u001b[38;5;124mMean ± Std\u001b[39m\u001b[38;5;124m'\u001b[39m\n\u001b[1;32m     10\u001b[0m )\n\u001b[1;32m     11\u001b[0m plt\u001b[38;5;241m.\u001b[39mtitle(\u001b[38;5;124m'\u001b[39m\u001b[38;5;124mDaily Electricity Production (Mean ± Std)\u001b[39m\u001b[38;5;124m'\u001b[39m)\n",
      "\u001b[0;31mNameError\u001b[0m: name 'daily_stats' is not defined"
     ]
    },
    {
     "data": {
      "text/plain": [
       "<Figure size 1200x600 with 0 Axes>"
      ]
     },
     "metadata": {},
     "output_type": "display_data"
    }
   ],
   "source": [
    "plt.figure(figsize=(12, 6))\n",
    "plt.plot(daily_stats['DayOfYear'], daily_stats['mean'], label='Mean', color='blue')\n",
    "plt.fill_between(\n",
    "    daily_stats['DayOfYear'],\n",
    "    daily_stats['mean'] - daily_stats['std'],\n",
    "    daily_stats['mean'] + daily_stats['std'],\n",
    "    color='lightblue',\n",
    "    alpha=0.3,\n",
    "    label='Mean ± Std'\n",
    ")\n",
    "plt.title('Daily Electricity Production (Mean ± Std)')\n",
    "plt.xlabel('Day of the Year')\n",
    "plt.ylabel('Electricity Production')\n",
    "plt.legend()\n",
    "plt.grid(True, linestyle='--', alpha=0.7)\n",
    "plt.show()"
   ]
  }
 ],
 "metadata": {
  "kernelspec": {
   "display_name": "Python [conda env:base] *",
   "language": "python",
   "name": "conda-base-py"
  },
  "language_info": {
   "codemirror_mode": {
    "name": "ipython",
    "version": 3
   },
   "file_extension": ".py",
   "mimetype": "text/x-python",
   "name": "python",
   "nbconvert_exporter": "python",
   "pygments_lexer": "ipython3",
   "version": "3.12.7"
  }
 },
 "nbformat": 4,
 "nbformat_minor": 5
}
