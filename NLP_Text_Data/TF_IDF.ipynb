{
 "cells": [
  {
   "cell_type": "code",
   "execution_count": 2,
   "id": "02886c7d",
   "metadata": {},
   "outputs": [],
   "source": [
    "# Date: 31 March 2024\n",
    "from IPython.core.interactiveshell import InteractiveShell\n",
    "InteractiveShell.ast_node_interactivity = \"all\""
   ]
  },
  {
   "cell_type": "markdown",
   "id": "7f4adea1",
   "metadata": {},
   "source": [
    "Document frequency (DF) measures the importance of a document in a whole set of corpus. This is very similar to TF. The only difference is that TF is a frequency counter for a term t in document d, whereas DF is the count of occurrences of term t in the document set N."
   ]
  },
  {
   "cell_type": "markdown",
   "id": "546ea59c",
   "metadata": {},
   "source": [
    "The inverse document frequency (IDF) is a measure of how important a term is across all documents in the corpus.\n",
    "\n",
    "https://medium.com/@er.iit.pradeep09/understanding-tf-idf-in-nlp-a-comprehensive-guide-26707db0cec5"
   ]
  },
  {
   "cell_type": "code",
   "execution_count": null,
   "id": "6e24482c",
   "metadata": {},
   "outputs": [],
   "source": [
    "import nltk\n",
    "from sklearn.feature_extraction.text import TfidfVectorizer\n",
    "\n",
    "\n",
    "corpus = [\n",
    "    'This is the first document.',\n",
    "    'This document is the second document.',\n",
    "    'And this is the third one.',\n",
    "    'Is this the first document?',\n",
    "]\n",
    "\n",
    "\n",
    "d0 = 'Geeks for geeks!'\n",
    "d1 = 'Geeks for geeks!, Local'\n",
    " \n",
    "string = [d0, d1]\n",
    " \n",
    "\n",
    "\n",
    "tfidf = TfidfVectorizer()\n",
    "result = tfidf.fit_transform(string)\n",
    "\n",
    "\n",
    "print(result.toarray(), '___________ 29')\n",
    "\n",
    " \n",
    "# get indexing\n",
    "print('\\nWord indexes:')\n",
    "print(tfidf.vocabulary_)\n",
    " \n",
    "\n",
    "\n",
    "\n",
    "print('––––––––––––––––––– \\nIdf values: –––––––––––––––––––')\n",
    "for ele1, ele2 in zip(tfidf.get_feature_names_out(), tfidf.idf_):\n",
    "    print(ele1, ':', ele2)"
   ]
  }
 ],
 "metadata": {
  "kernelspec": {
   "display_name": "Python 3 (ipykernel)",
   "language": "python",
   "name": "python3"
  },
  "language_info": {
   "codemirror_mode": {
    "name": "ipython",
    "version": 3
   },
   "file_extension": ".py",
   "mimetype": "text/x-python",
   "name": "python",
   "nbconvert_exporter": "python",
   "pygments_lexer": "ipython3",
   "version": "3.11.5"
  }
 },
 "nbformat": 4,
 "nbformat_minor": 5
}
