{
 "cells": [
  {
   "cell_type": "code",
   "execution_count": 3,
   "id": "cd06a35b",
   "metadata": {},
   "outputs": [],
   "source": [
    "# Date: 20 March 2024\n",
    "from IPython.core.interactiveshell import InteractiveShell\n",
    "InteractiveShell.ast_node_interactivity = \"all\""
   ]
  },
  {
   "cell_type": "code",
   "execution_count": 15,
   "id": "ee010a65",
   "metadata": {},
   "outputs": [
    {
     "name": "stderr",
     "output_type": "stream",
     "text": [
      "[nltk_data] Downloading package punkt to /home/ahmad/nltk_data...\n",
      "[nltk_data]   Package punkt is already up-to-date!\n"
     ]
    },
    {
     "data": {
      "text/plain": [
       "True"
      ]
     },
     "execution_count": 15,
     "metadata": {},
     "output_type": "execute_result"
    },
    {
     "data": {
      "text/plain": [
       "['kiitos', ',', 'ole', 'hyvä']"
      ]
     },
     "execution_count": 15,
     "metadata": {},
     "output_type": "execute_result"
    }
   ],
   "source": [
    "import nltk\n",
    "nltk.download(\"punkt\")\n",
    "\n",
    "nltk.word_tokenize(\"kiitos, ole hyvä\", language='finnish')\n",
    "sentence_split = nltk.data.load('tokenizers/punkt/english.pickle')\n"
   ]
  },
  {
   "cell_type": "code",
   "execution_count": 17,
   "id": "b8acec74",
   "metadata": {},
   "outputs": [
    {
     "name": "stdout",
     "output_type": "stream",
     "text": [
      "Look, here   are   some   words!\n",
      "  Great!\n",
      "Look, here are some words! Great!\n"
     ]
    }
   ],
   "source": [
    "# How tokenize works\n",
    "\n",
    "mytext ='  Look, here   are   some   words!\\n  Great!     '\n",
    "t1 = mytext.strip() # Remove only leading space  \n",
    "\n",
    "print(t1)\n",
    "\n",
    "t2 = ' '.join(mytext.split()) # Remove extra space including intermediate \n",
    "\n",
    "print(t2)"
   ]
  },
  {
   "cell_type": "code",
   "execution_count": 22,
   "id": "fa99ce79",
   "metadata": {},
   "outputs": [
    {
     "data": {
      "text/plain": [
       "['E.g., J. Smith knows... and I know.', 'But do you?']"
      ]
     },
     "execution_count": 22,
     "metadata": {},
     "output_type": "execute_result"
    },
    {
     "name": "stdout",
     "output_type": "stream",
     "text": [
      "['Hey', ',', 'what', \"'s\", 'going', 'on', '?', 'Who', \"'s\", 'that', '?']\n"
     ]
    }
   ],
   "source": [
    "sentence_split.tokenize(\"E.g., J. Smith knows... and I know. But do you?\")\n",
    "res = nltk.word_tokenize(\"Hey, what's going on? Who's that?\")\n",
    "\n",
    "print(res)"
   ]
  },
  {
   "cell_type": "code",
   "execution_count": 16,
   "id": "de8ef9f8",
   "metadata": {},
   "outputs": [
    {
     "name": "stdout",
     "output_type": "stream",
     "text": [
      "['The First sentence is about Python.', 'The Second: about Django.', 'You can learn Python,Django and Data Ananlysis here.']\n"
     ]
    }
   ],
   "source": [
    "## Sentence Tokenization\n",
    "\n",
    "sentence_data = \"The First sentence is about Python. The Second: about Django. You can learn Python,Django and Data Ananlysis here. \"\n",
    "nltk_tokens = nltk.sent_tokenize(sentence_data)\n",
    "print (nltk_tokens)"
   ]
  },
  {
   "cell_type": "code",
   "execution_count": 21,
   "id": "8e28d825",
   "metadata": {},
   "outputs": [
    {
     "name": "stdout",
     "output_type": "stream",
     "text": [
      "['ওয়ানডেতে', 'বাংলাদেশের', 'এক', 'নম্বর', 'বোলার', 'এখন', 'শরীফুল']\n"
     ]
    }
   ],
   "source": [
    "bangla_text = \"ওয়ানডেতে বাংলাদেশের এক নম্বর বোলার এখন শরীফুল\"\n",
    "\n",
    "res = nltk.word_tokenize(bangla_text)\n",
    "print(res)"
   ]
  },
  {
   "cell_type": "code",
   "execution_count": 29,
   "id": "f9315220",
   "metadata": {},
   "outputs": [
    {
     "name": "stdout",
     "output_type": "stream",
     "text": [
      "['Wie geht es Ihnen?', 'Gut, danke.']\n"
     ]
    }
   ],
   "source": [
    "### German Tokenize\n",
    "\n",
    "german_tokenizer = nltk.data.load('tokenizers/punkt/german.pickle')\n",
    "german_token = german_tokenizer.tokenize('Wie geht es Ihnen?  Gut, danke.')\n",
    "print(german_tokens)"
   ]
  }
 ],
 "metadata": {
  "kernelspec": {
   "display_name": "Python 3 (ipykernel)",
   "language": "python",
   "name": "python3"
  },
  "language_info": {
   "codemirror_mode": {
    "name": "ipython",
    "version": 3
   },
   "file_extension": ".py",
   "mimetype": "text/x-python",
   "name": "python",
   "nbconvert_exporter": "python",
   "pygments_lexer": "ipython3",
   "version": "3.11.5"
  }
 },
 "nbformat": 4,
 "nbformat_minor": 5
}
