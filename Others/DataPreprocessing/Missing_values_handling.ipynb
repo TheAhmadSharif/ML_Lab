{
 "cells": [
  {
   "cell_type": "code",
   "execution_count": 18,
   "id": "b9201afa",
   "metadata": {},
   "outputs": [
    {
     "data": {
      "text/html": [
       "<div>\n",
       "<style scoped>\n",
       "    .dataframe tbody tr th:only-of-type {\n",
       "        vertical-align: middle;\n",
       "    }\n",
       "\n",
       "    .dataframe tbody tr th {\n",
       "        vertical-align: top;\n",
       "    }\n",
       "\n",
       "    .dataframe thead th {\n",
       "        text-align: right;\n",
       "    }\n",
       "</style>\n",
       "<table border=\"1\" class=\"dataframe\">\n",
       "  <thead>\n",
       "    <tr style=\"text-align: right;\">\n",
       "      <th></th>\n",
       "      <th>Name</th>\n",
       "      <th>Age</th>\n",
       "    </tr>\n",
       "  </thead>\n",
       "  <tbody>\n",
       "    <tr>\n",
       "      <th>0</th>\n",
       "      <td>Asad</td>\n",
       "      <td>24.0</td>\n",
       "    </tr>\n",
       "    <tr>\n",
       "      <th>1</th>\n",
       "      <td>Akram</td>\n",
       "      <td>26.0</td>\n",
       "    </tr>\n",
       "    <tr>\n",
       "      <th>2</th>\n",
       "      <td>Bably</td>\n",
       "      <td>25.0</td>\n",
       "    </tr>\n",
       "  </tbody>\n",
       "</table>\n",
       "</div>"
      ],
      "text/plain": [
       "    Name   Age\n",
       "0   Asad  24.0\n",
       "1  Akram  26.0\n",
       "2  Bably  25.0"
      ]
     },
     "execution_count": 18,
     "metadata": {},
     "output_type": "execute_result"
    }
   ],
   "source": [
    "\"\"\" \n",
    "01 March 2024\n",
    "https://stackoverflow.com/questions/38672695/nan-in-mapper-name-nan-is-not-defined\n",
    "\"\"\"\n",
    "import pandas as pd\n",
    "import numpy as np\n",
    "from numpy import nan\n",
    "\n",
    "\n",
    "\n",
    "data = pd.DataFrame( { \"Name\": [\"Asad\", \"Akram\", \"Bably\"], \"Age\": [24, 26, nan]})\n",
    "\n",
    "data\n",
    "\n",
    "\n",
    "mean_value_of_age = data[\"Age\"].mean()\n",
    "mean_value_of_age\n",
    "\n",
    "data[\"Age\"] = data[\"Age\"].fillna(mean_value_of_age)\n",
    "\n",
    "data"
   ]
  }
 ],
 "metadata": {
  "kernelspec": {
   "display_name": "Python 3 (ipykernel)",
   "language": "python",
   "name": "python3"
  },
  "language_info": {
   "codemirror_mode": {
    "name": "ipython",
    "version": 3
   },
   "file_extension": ".py",
   "mimetype": "text/x-python",
   "name": "python",
   "nbconvert_exporter": "python",
   "pygments_lexer": "ipython3",
   "version": "3.11.4"
  }
 },
 "nbformat": 4,
 "nbformat_minor": 5
}
