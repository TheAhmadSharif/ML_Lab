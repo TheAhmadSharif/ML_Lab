{
 "cells": [
  {
   "cell_type": "code",
   "execution_count": 2,
   "id": "20e2a158",
   "metadata": {},
   "outputs": [
    {
     "data": {
      "text/plain": [
       "array([[ 4.73623853, -2.19189572],\n",
       "       [-2.19189572,  1.3859401 ]])"
      ]
     },
     "execution_count": 2,
     "metadata": {},
     "output_type": "execute_result"
    }
   ],
   "source": [
    "# Given parameter estimates and design matrix X\n",
    "import numpy as np\n",
    "beta_hat = np.array([1, 0.5])\n",
    "X = np.array([[1, i] for i in range(1, 11)])\n",
    "phi_hat = 0.1\n",
    "\n",
    "eta = X.dot(beta_hat)\n",
    "mu = np.exp(eta)\n",
    "\n",
    "W = np.diag(1 / (phi_hat * mu ** 2))\n",
    "\n",
    "cov_beta_hat = np.linalg.inv(X.T @ W @ X)\n",
    "\n",
    "cov_beta_hat\n"
   ]
  }
 ],
 "metadata": {
  "kernelspec": {
   "display_name": "Python 3 (ipykernel)",
   "language": "python",
   "name": "python3"
  },
  "language_info": {
   "codemirror_mode": {
    "name": "ipython",
    "version": 3
   },
   "file_extension": ".py",
   "mimetype": "text/x-python",
   "name": "python",
   "nbconvert_exporter": "python",
   "pygments_lexer": "ipython3",
   "version": "3.11.5"
  }
 },
 "nbformat": 4,
 "nbformat_minor": 5
}
