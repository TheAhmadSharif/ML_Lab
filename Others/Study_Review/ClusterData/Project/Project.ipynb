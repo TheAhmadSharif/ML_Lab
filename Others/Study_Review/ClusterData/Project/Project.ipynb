{
 "cells": [
  {
   "cell_type": "code",
   "execution_count": 3,
   "id": "6ae2d2e0",
   "metadata": {},
   "outputs": [
    {
     "name": "stderr",
     "output_type": "stream",
     "text": [
      "/home/ahmad/anaconda3/lib/python3.11/site-packages/statsmodels/regression/mixed_linear_model.py:2262: ConvergenceWarning: The Hessian matrix at the estimated parameter values is not positive definite.\n",
      "  warnings.warn(msg, ConvergenceWarning)\n"
     ]
    },
    {
     "data": {
      "text/plain": [
       "{'Total Medals Model': <class 'statsmodels.iolib.summary2.Summary'>\n",
       " \"\"\"\n",
       "             Mixed Linear Model Regression Results\n",
       " =============================================================\n",
       " Model:              MixedLM   Dependent Variable:   total    \n",
       " No. Observations:   90        Method:               REML     \n",
       " No. Groups:         90        Scale:                124.2548 \n",
       " Min. group size:    1         Log-Likelihood:       -370.8636\n",
       " Max. group size:    1         Converged:            Yes      \n",
       " Mean group size:    1.0                                      \n",
       " -------------------------------------------------------------\n",
       "                 Coef.  Std.Err.    z    P>|z|  [0.025  0.975]\n",
       " -------------------------------------------------------------\n",
       " Intercept      -71.697    3.058 -23.445 0.000 -77.690 -65.703\n",
       " log_gdp          7.141    0.028 251.012 0.000   7.085   7.197\n",
       " log_population   5.722    0.942   6.073 0.000   3.876   7.569\n",
       " Group Var      124.255                                       \n",
       " =============================================================\n",
       " \n",
       " \"\"\"}"
      ]
     },
     "execution_count": 3,
     "metadata": {},
     "output_type": "execute_result"
    }
   ],
   "source": [
    "import pandas as pd\n",
    "\n",
    "file_path = 'olympics-economics.csv'\n",
    "data = pd.read_csv(file_path)\n",
    "\n",
    "data.head()\n",
    "\n",
    "\n",
    "import numpy as np\n",
    "import statsmodels.api as sm\n",
    "import statsmodels.formula.api as smf\n",
    "\n",
    "# Log-transform GDP and Population to normalize the predictors\n",
    "data['log_gdp'] = np.log(data['gdp'])\n",
    "data['log_population'] = np.log(data['population'])\n",
    "\n",
    "# Model 1: Total Medals as response variable (without Gold, Silver, Bronze as predictors)\n",
    "model_total = smf.mixedlm(\n",
    "    \"total ~ log_gdp + log_population\",\n",
    "    data,\n",
    "    groups=data[\"country_code\"]\n",
    ").fit()\n",
    "\n",
    "\n",
    "\n",
    "# Summarizing the results\n",
    "results = {\n",
    "    \"Total Medals Model\": model_total.summary()\n",
    "}\n",
    "\n",
    "results\n"
   ]
  }
 ],
 "metadata": {
  "kernelspec": {
   "display_name": "Python 3 (ipykernel)",
   "language": "python",
   "name": "python3"
  },
  "language_info": {
   "codemirror_mode": {
    "name": "ipython",
    "version": 3
   },
   "file_extension": ".py",
   "mimetype": "text/x-python",
   "name": "python",
   "nbconvert_exporter": "python",
   "pygments_lexer": "ipython3",
   "version": "3.11.5"
  }
 },
 "nbformat": 4,
 "nbformat_minor": 5
}
