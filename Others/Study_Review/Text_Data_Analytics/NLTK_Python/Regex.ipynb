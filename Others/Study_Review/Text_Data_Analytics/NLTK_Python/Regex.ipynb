{
 "cells": [
  {
   "cell_type": "markdown",
   "id": "ef0efb1a",
   "metadata": {},
   "source": [
    "31 October 2023"
   ]
  },
  {
   "cell_type": "code",
   "execution_count": 44,
   "id": "0dec1817",
   "metadata": {},
   "outputs": [
    {
     "data": {
      "text/plain": [
       "['The ', ' in Spain ', '']"
      ]
     },
     "execution_count": 44,
     "metadata": {},
     "output_type": "execute_result"
    }
   ],
   "source": [
    "import re\n",
    "\n",
    "txt = \"The rain in Spain rain\"\n",
    "\n",
    "m = re.split(\"rain*\", txt)\n",
    "m"
   ]
  },
  {
   "cell_type": "code",
   "execution_count": 18,
   "id": "e6596270",
   "metadata": {},
   "outputs": [
    {
     "name": "stdout",
     "output_type": "stream",
     "text": [
      "split: ['', '']\n"
     ]
    }
   ],
   "source": [
    "split = re.split(\"^The.*Spain\", txt)\n",
    "print(\"split:\", split)"
   ]
  },
  {
   "cell_type": "code",
   "execution_count": 19,
   "id": "91551b1f",
   "metadata": {},
   "outputs": [
    {
     "name": "stdout",
     "output_type": "stream",
     "text": [
      "findall :  ['The rain in Spain']\n"
     ]
    }
   ],
   "source": [
    "findall = re.findall(\"^The.*Spain\", txt)\n",
    "print(\"findall : \", findall)"
   ]
  }
 ],
 "metadata": {
  "kernelspec": {
   "display_name": "Python 3 (ipykernel)",
   "language": "python",
   "name": "python3"
  },
  "language_info": {
   "codemirror_mode": {
    "name": "ipython",
    "version": 3
   },
   "file_extension": ".py",
   "mimetype": "text/x-python",
   "name": "python",
   "nbconvert_exporter": "python",
   "pygments_lexer": "ipython3",
   "version": "3.11.4"
  }
 },
 "nbformat": 4,
 "nbformat_minor": 5
}
