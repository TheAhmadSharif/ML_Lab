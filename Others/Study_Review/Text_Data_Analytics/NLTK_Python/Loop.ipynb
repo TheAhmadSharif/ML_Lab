{
 "cells": [
  {
   "cell_type": "code",
   "execution_count": 8,
   "id": "14a1e61a",
   "metadata": {},
   "outputs": [
    {
     "name": "stdout",
     "output_type": "stream",
     "text": [
      "The\n",
      "Quick\n",
      "Brown\n",
      "Fox\n",
      "Jumps\n",
      "Right\n",
      "Over\n",
      "The\n",
      "Lazy\n",
      "Dog\n",
      ".\n"
     ]
    }
   ],
   "source": [
    "from nltk.tokenize import word_tokenize \n",
    "sentence = \"The Quick Brown Fox Jumps Right Over The Lazy Dog.\"\n",
    "\n",
    "word_list = word_tokenize(sentence)\n",
    "\n",
    "len(word_list)\n",
    "\n",
    "\n",
    "for word in range(0, len(word_list)):\n",
    "    print(word_list[word])"
   ]
  }
 ],
 "metadata": {
  "kernelspec": {
   "display_name": "Python 3 (ipykernel)",
   "language": "python",
   "name": "python3"
  },
  "language_info": {
   "codemirror_mode": {
    "name": "ipython",
    "version": 3
   },
   "file_extension": ".py",
   "mimetype": "text/x-python",
   "name": "python",
   "nbconvert_exporter": "python",
   "pygments_lexer": "ipython3",
   "version": "3.11.4"
  }
 },
 "nbformat": 4,
 "nbformat_minor": 5
}
