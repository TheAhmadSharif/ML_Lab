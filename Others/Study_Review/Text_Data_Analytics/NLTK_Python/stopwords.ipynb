{
 "cells": [
  {
   "cell_type": "code",
   "execution_count": 2,
   "id": "5015dc67",
   "metadata": {},
   "outputs": [
    {
     "name": "stderr",
     "output_type": "stream",
     "text": [
      "[nltk_data] Downloading package stopwords to /home/ahmad/nltk_data...\n",
      "[nltk_data]   Package stopwords is already up-to-date!\n"
     ]
    },
    {
     "data": {
      "text/plain": [
       "True"
      ]
     },
     "execution_count": 2,
     "metadata": {},
     "output_type": "execute_result"
    }
   ],
   "source": [
    "import nltk\n",
    "from nltk.corpus import stopwords\n",
    "nltk.download('stopwords')"
   ]
  },
  {
   "cell_type": "markdown",
   "id": "0d9cf78d",
   "metadata": {},
   "source": [
    "Resource About Stopwords\n",
    "\n",
    "https://advertools.readthedocs.io/en/master/advertools.stopwords.html"
   ]
  },
  {
   "cell_type": "code",
   "execution_count": 24,
   "id": "2086fcf4",
   "metadata": {},
   "outputs": [
    {
     "name": "stdout",
     "output_type": "stream",
     "text": [
      "\n",
      "\n",
      "['himself', 'she', \"she's\", 'her', 'hers', 'herself', 'it', \"it's\", 'its', 'itself']\n"
     ]
    }
   ],
   "source": [
    "# print(stopwords.words('bengali'))\n",
    "print()\n",
    "# print(stopwords.words('finnish'))\n",
    "print()\n",
    "print(stopwords.words('english')[20:30])"
   ]
  },
  {
   "cell_type": "code",
   "execution_count": 1,
   "id": "81152c2c",
   "metadata": {},
   "outputs": [
    {
     "name": "stdout",
     "output_type": "stream",
     "text": [
      "['This', 'is', 'a', 'sample', 'sentence', ',', 'showing', 'off', 'the', 'stop', 'words', 'filtration', '.']\n",
      "['This', 'sample', 'sentence', ',', 'showing', 'stop', 'words', 'filtration']\n"
     ]
    }
   ],
   "source": [
    "from nltk.tokenize import word_tokenize\n",
    "from nltk.corpus import stopwords\n",
    "from spacy.lang.en import English\n",
    "from spacy.lang.en.stop_words import STOP_WORDS\n",
    "\n",
    "example_text = \"\"\"This is a sample sentence,showing off the stop words filtration.\"\"\"\n",
    "stop_words = stopwords.words('english')\n",
    "stop_words.extend(['#', '!', '.', '*', '&', '%', '&', '(', ')', '$', '-', '_', '--'])\n",
    "# stop_words\n",
    "\n",
    "word_list = word_tokenize(example_text)\n",
    "print(word_list)\n",
    "\n",
    "# Create list of word tokens after removing stopwords\n",
    "filtered_sentence =[] \n",
    "\n",
    "for word in word_list:\n",
    "    if(word not in stop_words):\n",
    "        filtered_sentence.append(word)\n",
    "        \n",
    "print(filtered_sentence)       "
   ]
  },
  {
   "cell_type": "code",
   "execution_count": 55,
   "id": "c96082be",
   "metadata": {},
   "outputs": [
    {
     "name": "stdout",
     "output_type": "stream",
     "text": [
      "accomplished\n",
      "accomplishment\n",
      "acquire\n",
      "acquired\n",
      "better\n",
      "better : good\n"
     ]
    }
   ],
   "source": [
    "from nltk.stem import WordNetLemmatizer\n",
    "from nltk.stem import WordNetLemmatizer\n",
    "\n",
    "\n",
    "crawled_lemmatize_word_list = ['accomplished','accomplishment', 'acquire', 'acquired', 'better']\n",
    "\n",
    "lemmatizer = WordNetLemmatizer()\n",
    "for word in crawled_lemmatize_word_list:\n",
    "    l = lemmatizer.lemmatize(word).lower()\n",
    "    print(l)\n",
    "    #crawled_lemmatize_word_list.append(l)\n",
    "    nltk_text = nltk.Text(l)"
   ]
  },
  {
   "cell_type": "code",
   "execution_count": 3,
   "id": "d792bd57",
   "metadata": {},
   "outputs": [
    {
     "data": {
      "text/plain": [
       "[1, 3, 4]"
      ]
     },
     "execution_count": 3,
     "metadata": {},
     "output_type": "execute_result"
    }
   ],
   "source": [
    "l = [1, 2, 3, 4]\n",
    "\n",
    "\n",
    "l.remove(2)\n",
    "l\n",
    "        "
   ]
  }
 ],
 "metadata": {
  "kernelspec": {
   "display_name": "Python 3 (ipykernel)",
   "language": "python",
   "name": "python3"
  },
  "language_info": {
   "codemirror_mode": {
    "name": "ipython",
    "version": 3
   },
   "file_extension": ".py",
   "mimetype": "text/x-python",
   "name": "python",
   "nbconvert_exporter": "python",
   "pygments_lexer": "ipython3",
   "version": "3.11.4"
  }
 },
 "nbformat": 4,
 "nbformat_minor": 5
}
