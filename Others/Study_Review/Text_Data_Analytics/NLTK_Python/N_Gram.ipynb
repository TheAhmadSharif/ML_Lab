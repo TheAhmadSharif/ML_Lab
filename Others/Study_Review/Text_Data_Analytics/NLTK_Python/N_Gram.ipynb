{
 "cells": [
  {
   "cell_type": "code",
   "execution_count": 40,
   "id": "bc1f72bc",
   "metadata": {},
   "outputs": [
    {
     "name": "stdout",
     "output_type": "stream",
     "text": [
      "55\n",
      "[['Natural', 'language'], ['language', 'processing'], ['processing', '(NLP)'], ['(NLP)', 'is'], ['is', 'an'], ['an', 'interdisciplinary'], ['interdisciplinary', 'subfield'], ['subfield', 'of'], ['of', 'computer'], ['computer', 'science'], ['science', 'and'], ['and', 'linguistics.'], ['linguistics.', 'It'], ['It', 'is'], ['is', 'primarily'], ['primarily', 'concerned'], ['concerned', 'with'], ['with', 'giving'], ['giving', 'computers'], ['computers', 'the'], ['the', 'ability'], ['ability', 'to'], ['to', 'support'], ['support', 'and'], ['and', 'manipulate'], ['manipulate', 'speech.'], ['speech.', 'It'], ['It', 'involves'], ['involves', 'processing'], ['processing', 'natural'], ['natural', 'language'], ['language', 'datasets,'], ['datasets,', 'such'], ['such', 'as'], ['as', 'text'], ['text', 'corpora'], ['corpora', 'or'], ['or', 'speech'], ['speech', 'corpora,'], ['corpora,', 'using'], ['using', 'either'], ['either', 'rule-based'], ['rule-based', 'or'], ['or', 'probabilistic'], ['probabilistic', '(i.e.'], ['(i.e.', 'statistical'], ['statistical', 'and,'], ['and,', 'most'], ['most', 'recently,'], ['recently,', 'neural'], ['neural', 'network-based)'], ['network-based)', 'machine']]\n"
     ]
    }
   ],
   "source": [
    "Text = \"Natural language processing (NLP) is an interdisciplinary subfield of computer science and linguistics. It is primarily concerned with giving computers the ability to support and manipulate speech. It involves processing natural language datasets, such as text corpora or speech corpora, using either rule-based or probabilistic (i.e. statistical and, most recently, neural network-based) machine learning approaches.\"\n",
    "\n",
    "\n",
    "\n",
    "def generate_ngrams(Text, words_number):\n",
    "    words = Text.split()\n",
    "    print(len(words))\n",
    "    output = []\n",
    "    for i in range(len(words) - 3):\n",
    "        output.append(words[i: i + words_number])\n",
    "    return output\n",
    "\n",
    "t = generate_ngrams(Text, words_number = 2)\n",
    "print(t)\n"
   ]
  },
  {
   "cell_type": "code",
   "execution_count": 41,
   "id": "8d624918",
   "metadata": {},
   "outputs": [
    {
     "name": "stderr",
     "output_type": "stream",
     "text": [
      "[nltk_data] Downloading package punkt to /home/ahmad/nltk_data...\n",
      "[nltk_data]   Package punkt is already up-to-date!\n",
      "[nltk_data] Downloading package stopwords to /home/ahmad/nltk_data...\n",
      "[nltk_data]   Package stopwords is already up-to-date!\n",
      "[nltk_data] Downloading package reuters to /home/ahmad/nltk_data...\n",
      "[nltk_data]   Package reuters is already up-to-date!\n"
     ]
    }
   ],
   "source": [
    "import string \n",
    "import random \n",
    "import nltk \n",
    "nltk.download('punkt') \n",
    "nltk.download('stopwords') \n",
    "nltk.download('reuters') \n",
    "from nltk.corpus import reuters \n",
    "from nltk import FreqDist \n",
    "  \n",
    "# input the reuters sentences \n",
    "sents  = reuters.sents() "
   ]
  }
 ],
 "metadata": {
  "kernelspec": {
   "display_name": "Python 3 (ipykernel)",
   "language": "python",
   "name": "python3"
  },
  "language_info": {
   "codemirror_mode": {
    "name": "ipython",
    "version": 3
   },
   "file_extension": ".py",
   "mimetype": "text/x-python",
   "name": "python",
   "nbconvert_exporter": "python",
   "pygments_lexer": "ipython3",
   "version": "3.11.4"
  }
 },
 "nbformat": 4,
 "nbformat_minor": 5
}
