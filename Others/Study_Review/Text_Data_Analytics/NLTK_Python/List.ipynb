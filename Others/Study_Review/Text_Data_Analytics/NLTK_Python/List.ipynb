{
 "cells": [
  {
   "cell_type": "markdown",
   "id": "daa17bc6",
   "metadata": {},
   "source": [
    "29 October 2023\n",
    "\n",
    "List is a collection which is ordered and changeable. Allows duplicate members.\n",
    "List is equalvalent to Array\n",
    "\n",
    " &#8226;  Key points\n",
    " \n",
    " &#8226;  Allows duplicate members.\n",
    " \n",
    " &#8226; Changeable"
   ]
  },
  {
   "cell_type": "code",
   "execution_count": 15,
   "id": "db83dcb2",
   "metadata": {},
   "outputs": [
    {
     "name": "stdout",
     "output_type": "stream",
     "text": [
      "1\n",
      "2\n",
      "66\n",
      "\n",
      "66\n"
     ]
    }
   ],
   "source": [
    "t = [1,2, 66]\n",
    "t\n",
    "\n",
    "x = 1\n",
    "for x in t:\n",
    "    print(x)\n",
    "    \n",
    "def funlist():\n",
    "    t.append(88)\n",
    "    print(x)\n",
    "print()\n",
    "funlist()\n",
    "\n",
    "t\n",
    "\n",
    "thislist = [\"orange\", \"mango\", \"kiwi\", \"pineapple\", \"banana\"]\n",
    "thislist.sort()"
   ]
  },
  {
   "cell_type": "code",
   "execution_count": 14,
   "id": "f1b9b7d9",
   "metadata": {},
   "outputs": [
    {
     "data": {
      "text/plain": [
       "[2, 1, 4]"
      ]
     },
     "execution_count": 14,
     "metadata": {},
     "output_type": "execute_result"
    }
   ],
   "source": [
    "l = [\"one\", 1]\n",
    "l\n",
    "\n",
    "l = [2, 1, 4]\n",
    "l"
   ]
  }
 ],
 "metadata": {
  "kernelspec": {
   "display_name": "Python 3 (ipykernel)",
   "language": "python",
   "name": "python3"
  },
  "language_info": {
   "codemirror_mode": {
    "name": "ipython",
    "version": 3
   },
   "file_extension": ".py",
   "mimetype": "text/x-python",
   "name": "python",
   "nbconvert_exporter": "python",
   "pygments_lexer": "ipython3",
   "version": "3.11.4"
  }
 },
 "nbformat": 4,
 "nbformat_minor": 5
}
