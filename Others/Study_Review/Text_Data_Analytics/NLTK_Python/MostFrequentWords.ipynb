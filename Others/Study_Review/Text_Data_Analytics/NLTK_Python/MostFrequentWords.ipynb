{
 "cells": [
  {
   "cell_type": "code",
   "execution_count": 32,
   "id": "b65eeb72",
   "metadata": {},
   "outputs": [
    {
     "name": "stdout",
     "output_type": "stream",
     "text": [
      "{'one': 1, 'two': 2, 'three': 3, 'four': 4}\n",
      "one ________\n",
      "two ________\n",
      "three ________\n",
      "four ________\n"
     ]
    }
   ],
   "source": [
    "import numpy\n",
    "word_list = [\"one\", \"two\", \"three\", \"four\", \"two\", \"three\", \"four\", \"three\", \"four\", \"four\"]\n",
    "\n",
    "\n",
    "new_list = [\"one\", \"two\", \"three\", \"four\"]\n",
    "\n",
    "my_counter = {}\n",
    "for word in word_list:\n",
    "    my_counter[word] = my_counter.get(word, 0) + 1\n",
    "    \n",
    "sorted_frequency = sorted(my_counter.items(), key=lambda x: x[1], reverse=True)\n",
    "sorted_frequency\n",
    "\n",
    "unifiedvocabulary_totaloccurrencecounts = numpy.zeros((len(word_list),1))\n",
    "\n",
    "print(my_counter)\n",
    "\n",
    "\n",
    "for x in new_list:\n",
    "    if ((x in my_counter) and (my_counter[x] > 0.01)):\n",
    "        print(x, '________')"
   ]
  }
 ],
 "metadata": {
  "kernelspec": {
   "display_name": "Python 3 (ipykernel)",
   "language": "python",
   "name": "python3"
  },
  "language_info": {
   "codemirror_mode": {
    "name": "ipython",
    "version": 3
   },
   "file_extension": ".py",
   "mimetype": "text/x-python",
   "name": "python",
   "nbconvert_exporter": "python",
   "pygments_lexer": "ipython3",
   "version": "3.11.4"
  }
 },
 "nbformat": 4,
 "nbformat_minor": 5
}
