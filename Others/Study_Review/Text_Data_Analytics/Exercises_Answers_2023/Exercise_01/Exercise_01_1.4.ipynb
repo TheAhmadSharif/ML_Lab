{
 "cells": [
  {
   "cell_type": "code",
   "execution_count": 27,
   "id": "7680650d",
   "metadata": {},
   "outputs": [],
   "source": [
    "# Ahmad Sharif\n",
    "# K436765\n",
    "# DATA.STAT.840 Statistical Methods for Text Data Analysis "
   ]
  },
  {
   "cell_type": "code",
   "execution_count": 35,
   "id": "1a18c1cd",
   "metadata": {},
   "outputs": [],
   "source": [
    "import numpy as np\n",
    "import matplotlib.pyplot as plt\n",
    "from scipy.stats import multivariate_normal\n",
    "import sys\n"
   ]
  },
  {
   "cell_type": "code",
   "execution_count": 45,
   "id": "2f467c8e",
   "metadata": {},
   "outputs": [
    {
     "name": "stdout",
     "output_type": "stream",
     "text": [
      "Python 3.11.4\r\n"
     ]
    }
   ],
   "source": [
    "# Exercise 1.4\n",
    "# a ) Install Python (for example the Anaconda installation).\n",
    "\n",
    "!python -V\n",
    "\n"
   ]
  },
  {
   "cell_type": "code",
   "execution_count": 47,
   "id": "fc5ba2f6",
   "metadata": {},
   "outputs": [
    {
     "data": {
      "text/plain": [
       "array([0.00108914, 0.01033349, 0.05946514, 0.20755375, 0.43939129,\n",
       "       0.56418958, 0.43939129, 0.20755375, 0.05946514, 0.01033349])"
      ]
     },
     "execution_count": 47,
     "metadata": {},
     "output_type": "execute_result"
    }
   ],
   "source": [
    "#b)  (b) Write in Python a function that computes and prints the probability density function of a\n",
    "# multivariate Gaussian distribution, at a set of multiple (one or more) desired evaluation\n",
    "# locations. The function should take in the parameters of the Gaussian and the set of\n",
    "# evaluation locations as arguments, in a suitable format of your choosing. You may use\n",
    "# Python libraries such as math, numpy, and scipy, but do not use a ready-made function for\n",
    "# the multivariate Gaussian probability density - implement it yourself.\n",
    "\n",
    "\n",
    "x = np.linspace(0, 5, 10, endpoint=False)\n",
    "y = multivariate_normal.pdf(x, mean=2.5, cov=0.5); \n",
    "y"
   ]
  },
  {
   "cell_type": "code",
   "execution_count": 50,
   "id": "1cd26768",
   "metadata": {},
   "outputs": [
    {
     "data": {
      "text/plain": [
       "array([0.0013718 , 0.00260903, 0.00572415])"
      ]
     },
     "execution_count": 50,
     "metadata": {},
     "output_type": "execute_result"
    }
   ],
   "source": [
    " # c ) \n",
    "_mean = np.array([1, 3, 5])\n",
    "_cov = np.array([[4, 2, 1], [2, 5, 2], [1, 2, 3] ])\n",
    "_x = np.array([ [2, 2, 2], [1, 4, 3], [1, 1, 5] ])\n",
    "\n",
    "pdf = multivariate_normal.pdf(_x, mean = _mean, cov = _cov)\n",
    "pdf"
   ]
  },
  {
   "cell_type": "code",
   "execution_count": null,
   "id": "afc7e70d",
   "metadata": {},
   "outputs": [],
   "source": []
  }
 ],
 "metadata": {
  "kernelspec": {
   "display_name": "Python 3 (ipykernel)",
   "language": "python",
   "name": "python3"
  },
  "language_info": {
   "codemirror_mode": {
    "name": "ipython",
    "version": 3
   },
   "file_extension": ".py",
   "mimetype": "text/x-python",
   "name": "python",
   "nbconvert_exporter": "python",
   "pygments_lexer": "ipython3",
   "version": "3.11.4"
  }
 },
 "nbformat": 4,
 "nbformat_minor": 5
}
