{
 "cells": [
  {
   "cell_type": "code",
   "execution_count": 1,
   "id": "7680650d",
   "metadata": {},
   "outputs": [],
   "source": [
    "# Ahmad Sharif\n",
    "# K436765\n",
    "# DATA.STAT.840 Statistical Methods for Text Data Analysis "
   ]
  },
  {
   "cell_type": "code",
   "execution_count": 24,
   "id": "cf9b3b66",
   "metadata": {},
   "outputs": [
    {
     "name": "stderr",
     "output_type": "stream",
     "text": [
      "[nltk_data] Downloading package stopwords to /home/ahmad/nltk_data...\n",
      "[nltk_data]   Package stopwords is already up-to-date!\n"
     ]
    },
    {
     "name": "stdout",
     "output_type": "stream",
     "text": [
      "1  :  https://www.gutenberg.org/files/84/84-0.txt\n",
      "2  :  https://www.gutenberg.org/files/1513/1513-0.txt\n",
      "3  :  https://www.gutenberg.org/files/1342/1342-0.txt\n",
      "4  :  https://www.gutenberg.org/files/25344/25344-0.txt\n",
      "5  :  https://www.gutenberg.org/files/11/11-0.txt\n",
      "6  :  https://www.gutenberg.org/files/345/345-0.txt\n",
      "7  :  https://www.gutenberg.org/files/174/174-0.txt\n",
      "8  :  https://www.gutenberg.org/files/5200/5200-0.txt\n",
      "9  :  https://www.gutenberg.org/files/64317/64317-0.txt\n",
      "10  :  https://www.gutenberg.org/files/26184/26184-0.txt\n",
      "11  :  https://www.gutenberg.org/files/2542/2542-0.txt\n",
      "12  :  https://www.gutenberg.org/files/1952/1952-0.txt\n",
      "13  :  https://www.gutenberg.org/files/1080/1080-0.txt\n",
      "14  :  https://www.gutenberg.org/files/43/43-0.txt\n",
      "15  :  https://www.gutenberg.org/files/844/844-0.txt\n",
      "16  :  https://www.gutenberg.org/files/98/98-0.txt\n",
      "17  :  https://www.gutenberg.org/files/2701/2701-0.txt\n",
      "18  :  https://www.gutenberg.org/files/41/41-0.txt\n",
      "19  :  https://www.gutenberg.org/files/1661/1661-0.txt\n"
     ]
    }
   ],
   "source": [
    "import nltk\n",
    "from nltk.tokenize import word_tokenize\n",
    "from nltk.stem import WordNetLemmatizer\n",
    "import urllib\n",
    "import random\n",
    "import requests\n",
    "import bs4\n",
    "import urllib.request\n",
    "import numpy\n",
    "from nltk.corpus import stopwords\n",
    "nltk.download('stopwords')\n",
    "\n",
    "\n",
    "webpage_url = \"https://gutenberg.org/browse/scores/top\"\n",
    "webpage_html = requests.get(webpage_url)\n",
    "webpage_parsed_html = bs4.BeautifulSoup(webpage_html.content, 'html.parser')\n",
    "\n",
    "pageList = webpage_parsed_html.find(\"h2\", {\"id\": \"books-last30\"})\n",
    "ol = pageList.find_next_sibling(\"ol\")\n",
    "book_list = {}\n",
    "book_id_list = []\n",
    "\n",
    "def collect_all_download_link(count):\n",
    "    index = 0\n",
    "    for x in (ol.findAll('li')):\n",
    "        index = index + 1\n",
    "        url = x.a['href']\n",
    "        \n",
    "        book_id = url.split('/')[2]\n",
    "        book_name = x.a.text\n",
    "        \n",
    "        book_id_list.append(book_id)\n",
    "        download_link = 'https://www.gutenberg.org/files/' + book_id + '/' + book_id + '-0.txt'\n",
    "        if(index < count):\n",
    "            print(index, \" : \", download_link)\n",
    "        if(index < count):\n",
    "            book_list[book_id] = {\n",
    "                \"book_name\": book_name,\n",
    "                \"download_link\": download_link\n",
    "            }\n",
    "collect_all_download_link(20)"
   ]
  },
  {
   "cell_type": "code",
   "execution_count": 25,
   "id": "7e7caeb5",
   "metadata": {},
   "outputs": [
    {
     "name": "stdout",
     "output_type": "stream",
     "text": [
      "Book ID :  1513\n"
     ]
    },
    {
     "data": {
      "text/plain": [
       "' almost no restrictions\\r\\nwhatsoever. You may copy it, give it away or re-use it under the terms\\r\\nof '"
      ]
     },
     "execution_count": 25,
     "metadata": {},
     "output_type": "execute_result"
    }
   ],
   "source": [
    "book_id = random.choice(book_id_list)\n",
    "print(\"Book ID : \", book_id)\n",
    "crawled_lemmatize_word_list = []\n",
    "book_id = list(book_list.keys())[0]\n",
    "url = \"https://www.gutenberg.org/files/\" + book_id + \"/\" + book_id + \"-0.txt\"\n",
    "book_content = urllib.request.urlopen(url).read().decode('utf-8')\n",
    "\n",
    "book_content[200:300]"
   ]
  },
  {
   "cell_type": "code",
   "execution_count": 4,
   "id": "1a18c1cd",
   "metadata": {},
   "outputs": [
    {
     "data": {
      "text/plain": [
       "['abandon',\n",
       " 'abandoned',\n",
       " 'abbey',\n",
       " 'abhor',\n",
       " 'abhorred',\n",
       " 'abhorrence',\n",
       " 'abhorrent',\n",
       " 'abide',\n",
       " 'ability',\n",
       " 'abject',\n",
       " 'able',\n",
       " 'aboard',\n",
       " 'abode',\n",
       " 'abortion',\n",
       " 'abortive',\n",
       " 'abroad',\n",
       " 'abrupt',\n",
       " 'absence',\n",
       " 'absent',\n",
       " 'absolute',\n",
       " 'absolutely',\n",
       " 'absolution',\n",
       " 'absorbed',\n",
       " 'absorbing',\n",
       " 'abstained',\n",
       " 'abstruse',\n",
       " 'abyss',\n",
       " 'acceded',\n",
       " 'accent',\n",
       " 'accept',\n",
       " 'acceptance',\n",
       " 'accepted',\n",
       " 'accepting',\n",
       " 'access',\n",
       " 'accessed',\n",
       " 'accessible',\n",
       " 'accident',\n",
       " 'accidentally',\n",
       " 'accompanied',\n",
       " 'accompany',\n",
       " 'accomplish',\n",
       " 'accomplished',\n",
       " 'accomplishment',\n",
       " 'accordance',\n",
       " 'accorded',\n",
       " 'according',\n",
       " 'accordingly',\n",
       " 'account',\n",
       " 'accounted',\n",
       " 'accumulated',\n",
       " 'accumulation',\n",
       " 'accuracy',\n",
       " 'accurate',\n",
       " 'accursed',\n",
       " 'accusation',\n",
       " 'accuse',\n",
       " 'accused',\n",
       " 'accuses',\n",
       " 'accustomed',\n",
       " 'achieve',\n",
       " 'achieved',\n",
       " 'achievement',\n",
       " 'aching',\n",
       " 'acknowledged',\n",
       " 'acorn',\n",
       " 'acquaintance',\n",
       " 'acquainted',\n",
       " 'acquiesced',\n",
       " 'acquire',\n",
       " 'acquired',\n",
       " 'acquirement',\n",
       " 'acquiring',\n",
       " 'acquisition',\n",
       " 'acquit',\n",
       " 'acquitted',\n",
       " 'across',\n",
       " 'act',\n",
       " 'acted',\n",
       " 'acting',\n",
       " 'action',\n",
       " 'active',\n",
       " 'activity',\n",
       " 'actor',\n",
       " 'actual',\n",
       " 'actually',\n",
       " 'actuated',\n",
       " 'acuteness',\n",
       " 'adam',\n",
       " 'adapt',\n",
       " 'add',\n",
       " 'added',\n",
       " 'addition',\n",
       " 'additional',\n",
       " 'address',\n",
       " 'addressed',\n",
       " 'adduced',\n",
       " 'adequate',\n",
       " 'adieu',\n",
       " 'adjacent',\n",
       " 'adjuration']"
      ]
     },
     "execution_count": 4,
     "metadata": {},
     "output_type": "execute_result"
    }
   ],
   "source": [
    "# Prune the vocabulary to remove stopwords, overly short and long words, the top 1% most frequent\n",
    "# words and words occurring less than 4 times. Report the top-100 words after pruning.\n",
    "\n",
    "\n",
    "\n",
    "crawled_lemmatize_word_list = []\n",
    "book_id = list(book_list.keys())[0]\n",
    "url = \"https://www.gutenberg.org/files/\" + book_id + \"/\" + book_id + \"-0.txt\"\n",
    "book_content = urllib.request.urlopen(url).read().decode('utf-8')\n",
    "\n",
    "# print(book_content)\n",
    "\n",
    "\n",
    "\n",
    "# Tokenize\n",
    "book_word_list = word_tokenize(book_content)\n",
    "# print(book_word_list)\n",
    "\n",
    "\n",
    "# Lemmatize\n",
    "lemmatizer = WordNetLemmatizer()\n",
    "for word in book_word_list:\n",
    "    l = lemmatizer.lemmatize(word).lower()\n",
    "    crawled_lemmatize_word_list.append(l)\n",
    "    nltk_text = nltk.Text(l)\n",
    "    \n",
    "\n",
    "unified_vocabulary_array = numpy.unique(crawled_lemmatize_word_list, return_inverse=True)\n",
    "unified_vocabulary = unified_vocabulary_array[0]\n",
    "\n",
    "#%% Count the numbers of occurrences of each unique word\n",
    "# Let's count also various statistics over the documents\n",
    "\n",
    "\n",
    "unifiedvocabulary_total_occurrence_counts = len(numpy.zeros((len(unified_vocabulary),1)))\n",
    "unifiedvocabulary_total_occurrence_counts\n",
    "\n",
    "\n",
    "\n",
    "word_counter = {}\n",
    "for word in crawled_lemmatize_word_list:\n",
    "    word_counter[word] = word_counter.get(word, 0) + 1\n",
    "    \n",
    "    \n",
    "\n",
    "freq = nltk.FreqDist(crawled_lemmatize_word_list)\n",
    "freq\n",
    "\n",
    "stop_words = stopwords.words('english')\n",
    "stop_words.extend(['#', '!', '.', '*', '&', '%', '&', '(', ')', '$', '-', '_', '--', '', ',', '.', '?', ';'])\n",
    "\n",
    "filtered_word_list =[] \n",
    "\n",
    "for word in unified_vocabulary:\n",
    "    if((word not in stop_words) and (word.isalpha() == True) and (len(unified_vocabulary) > 2) or (len(unified_vocabulary) < 20)):\n",
    "        filtered_word_list.append(word)\n",
    "       \n",
    "\n",
    "# --- Top 1% Words  --- #\n",
    "for word in filtered_word_list:\n",
    "    if((word in word_counter) and word_counter[word] > (unifiedvocabulary_total_occurrence_counts * 0.01)):\n",
    "        filtered_word_list.remove(word)\n",
    "        \n",
    "len(filtered_word_list)\n",
    "\n",
    "# Top 100\n",
    "\n",
    "filtered_word_list[0:100]"
   ]
  },
  {
   "cell_type": "code",
   "execution_count": null,
   "id": "e873325a",
   "metadata": {},
   "outputs": [],
   "source": []
  },
  {
   "cell_type": "code",
   "execution_count": 5,
   "id": "06d0094b",
   "metadata": {},
   "outputs": [
    {
     "name": "stdout",
     "output_type": "stream",
     "text": [
      "<Text: ﻿The Project Gutenberg eBook of Pride and prejudice...>\n"
     ]
    }
   ],
   "source": [
    "# Exercise 3.1: Lexical dispersion in Pride and Prejudice\n",
    "# (a) Download the Project Gutenberg .TXT ebook of Jane Austen's \"Pride and Prejudice\", and\n",
    "# process it using the pipeline as in Exercise 2.2 (a)-(d), no need to prune the vocabulary. (See\n",
    "# https://en.wikipedia.org/wiki/Pride_and_Prejudice for information about the work.)\n",
    "\n",
    "\n",
    "    \n",
    "webpage_url = \"https://www.gutenberg.org/files/1342/1342-0.txt\"\n",
    "\n",
    "\n",
    "import nltk\n",
    "from nltk.tokenize import word_tokenize\n",
    "from nltk.stem import WordNetLemmatizer\n",
    "import urllib\n",
    "\n",
    "\n",
    "crawled_lemmatize_word_list = []\n",
    "book_content = urllib.request.urlopen(webpage_url).read().decode('utf-8')\n",
    "\n",
    "\n",
    "# Tokenize\n",
    "book_word_list = word_tokenize(book_content)\n",
    "# print(book_word_list)\n",
    "\n",
    "\n",
    "# Lemmatize\n",
    "lemmatizer = WordNetLemmatizer()\n",
    "for word in book_word_list:\n",
    "    l = lemmatizer.lemmatize(word).lower()\n",
    "    nltk_text = nltk.Text(l)\n",
    "    crawled_lemmatize_word_list.append(l)\n",
    "    \n",
    "    \n",
    "text = nltk.Text(book_word_list)\n",
    "print(text)"
   ]
  },
  {
   "cell_type": "code",
   "execution_count": 6,
   "id": "55702ce0",
   "metadata": {},
   "outputs": [
    {
     "data": {
      "text/plain": [
       "<Axes: title={'center': 'Lexical Dispersion Plot'}, xlabel='Word Offset'>"
      ]
     },
     "execution_count": 6,
     "metadata": {},
     "output_type": "execute_result"
    },
    {
     "data": {
      "image/png": "[encoded data removed]",
      "text/plain": [
       "<Figure size 640x480 with 1 Axes>"
      ]
     },
     "metadata": {},
     "output_type": "display_data"
    }
   ],
   "source": [
    "# (b) Compute a lexical dispersion plot (or plots) for the following words: 'pride', 'prejudice',\n",
    "# 'elizabeth', 'darcy', 'charlotte', 'love', 'hate', 'marriage', 'husband', 'wife', 'father', 'mother',\n",
    "# 'daughter', 'family', 'dance', 'happy'. You can do this either as a single plot or multiple\n",
    "# separate plots for different words or groups of words. Report the resulting plots.\n",
    "\n",
    "from nltk.draw.dispersion import dispersion_plot\n",
    "targets = ['pride','prejudice','elizabeth', 'darcy', 'charlotte', 'love', 'hate', 'marriage', 'husband', 'wife', 'father', 'mother',\n",
    "'daughter', 'family', 'dance', 'happy']\n",
    "\n",
    "\n",
    "dispersion_plot(text, targets, ignore_case=True, title='Lexical Dispersion Plot')"
   ]
  },
  {
   "cell_type": "markdown",
   "id": "65d353ba",
   "metadata": {},
   "source": [
    " (c) Discuss the results. Do the plots suggest something about the focus of the text in different\n",
    " parts of the book? You may also inspect the lexical dispersion of other words if you wish.\n",
    "\n",
    "Here \"family\" and \"daughter\" are most frequent used words. In contrast 'wife', 'dance' are less frequent words "
   ]
  },
  {
   "cell_type": "code",
   "execution_count": null,
   "id": "67bb2c64",
   "metadata": {},
   "outputs": [],
   "source": []
  },
  {
   "cell_type": "code",
   "execution_count": null,
   "id": "b74b1005",
   "metadata": {},
   "outputs": [],
   "source": [
    "# (d) Optional extra part: Ask a chatbot (see Exercise 2.4 for some resources on current chatbots)\n",
    "# to summarize the plot of Pride and Prejudice. How well does the summary correspond to\n",
    "# what the dispersion plot revealed to you?"
   ]
  },
  {
   "cell_type": "markdown",
   "id": "4a1d5893",
   "metadata": {},
   "source": [
    "Exercise 3.2: The concordances of Frankenstein.\n",
    "\n",
    "(a) Download the Project Gutenberg .TXT ebook of Mary Wollstonecraft Shelley's\n",
    "\"Frankenstein; Or, The Modern Prometheus\", and process it using the pipeline as in Exercise\n",
    "2.2 (a)-(d), no need to prune the vocabulary. (See https://en.wikipedia.org/wiki/Frankenstein\n",
    "for information about the work.)\n",
    "\n",
    "(b) Create a concordance view of the following words each: 'science', 'horror', 'monster', 'fear'.\n",
    "Comment on the results.\n",
    "\n",
    "(c) Optional extra part: Ask a chatbot (see Exercise 2.4 for some resources on current chatbots)\n",
    "to describe how science is featured in the novel Frankenstein. How well does the description\n",
    "correspond to what you can see from the concordance views?\n",
    "Report the resulting plots, your code, and your comments.\n",
    "\n",
    "\n",
    "A concordance view shows us every occurrence of a given word, together with some context."
   ]
  },
  {
   "cell_type": "code",
   "execution_count": null,
   "id": "81c45196",
   "metadata": {},
   "outputs": [],
   "source": [
    "from nltk.corpus import gutenberg\n",
    "from nltk.text import Text\n",
    "\n",
    "\n",
    "webpage_url = \"https://www.gutenberg.org/cache/epub/41445/pg41445.txt\"\n",
    "book_content = urllib.request.urlopen(webpage_url).read().decode('utf-8')\n",
    "crawled_lemmatize_word_list = []\n",
    "# Tokenize\n",
    "book_word_list = word_tokenize(book_content)\n",
    "text = nltk.Text(book_word_list)\n",
    "\n",
    "concordance_word = ['science', 'horror', 'monster', 'fear']\n",
    "\n",
    "text.concordance(concordance_word)\n",
    "# It does not match"
   ]
  },
  {
   "cell_type": "markdown",
   "id": "9a2693d0",
   "metadata": {},
   "source": [
    "Exercise 3.4: Regular expressions of Frankenstein.\n",
    "Use the Python regular expression syntax to find occurrences of the phrase \"for ... years\" where ...\n",
    "denotes one or more words in the middle of the phrase in \"Frankenstein; Or, The Modern\n",
    "Prometheus\". Print the resulting matches.\n",
    "\n",
    "• For this exercise, you do not need to (and should not) do most of the preprocessing of\n",
    "Exercises 2.2 and 2.3, since regular expression search operates on the original string of\n",
    "letters of the text.\n",
    "\n",
    "• This particular use case was not discussed on the lecture: you will need to read more about\n",
    "Python regular expressions here: https://docs.python.org/3/howto/regex.html . Hint: since\n",
    "you want to allow words of arbitrary length between \"for\" and \"years\", consider repeating\n",
    "patterns.\n",
    "\n",
    "Report the matches you found and your program code. You also do this exercise in another language\n",
    "or using another regular expression library."
   ]
  },
  {
   "cell_type": "code",
   "execution_count": 22,
   "id": "de1d6630",
   "metadata": {},
   "outputs": [
    {
     "data": {
      "text/plain": [
       "' use of anyone anywhere in the United States and\\r\\nmost other parts of the world at no cost and with '"
      ]
     },
     "execution_count": 22,
     "metadata": {},
     "output_type": "execute_result"
    }
   ],
   "source": [
    "import re\n",
    "import urllib\n",
    "\n",
    "webpage_url = \"https://www.gutenberg.org/cache/epub/41445/pg41445.txt\"\n",
    "book_content = urllib.request.urlopen(webpage_url).read().decode('utf-8')\n",
    "\n",
    "regex = '*for *years'\n",
    "# x = re.search(regex, book_content)"
   ]
  }
 ],
 "metadata": {
  "kernelspec": {
   "display_name": "Python 3 (ipykernel)",
   "language": "python",
   "name": "python3"
  },
  "language_info": {
   "codemirror_mode": {
    "name": "ipython",
    "version": 3
   },
   "file_extension": ".py",
   "mimetype": "text/x-python",
   "name": "python",
   "nbconvert_exporter": "python",
   "pygments_lexer": "ipython3",
   "version": "3.11.4"
  }
 },
 "nbformat": 4,
 "nbformat_minor": 5
}
