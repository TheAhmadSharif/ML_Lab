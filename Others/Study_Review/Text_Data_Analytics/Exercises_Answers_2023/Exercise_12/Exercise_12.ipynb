{
 "cells": [
  {
   "cell_type": "markdown",
   "id": "6779cba8",
   "metadata": {},
   "source": [
    "# Ahmad Sharif\n",
    "***K436765***\n",
    "\n",
    "***Exercise 12***\n",
    "\n",
    "***DATA.STAT.840 Statistical Methods for Text Data Analysis***"
   ]
  },
  {
   "cell_type": "code",
   "execution_count": 8,
   "id": "9d78e858",
   "metadata": {},
   "outputs": [
    {
     "name": "stderr",
     "output_type": "stream",
     "text": [
      "[nltk_data] Downloading package stopwords to /home/ahmad/nltk_data...\n",
      "[nltk_data]   Package stopwords is already up-to-date!\n"
     ]
    }
   ],
   "source": [
    "import nltk\n",
    "from sklearn.feature_extraction.text import TfidfVectorizer\n",
    "from sklearn.decomposition import TruncatedSVD\n",
    "from sklearn.datasets import fetch_20newsgroups\n",
    "from sklearn.cluster import KMeans\n",
    "from sklearn.model_selection import train_test_split\n",
    "from sklearn.svm import SVC  \n",
    "import matplotlib.pyplot as plt\n",
    "import sklearn\n",
    "import sklearn.decomposition  \n",
    "import sklearn.manifold\n",
    "nltk.download('stopwords')\n",
    "import gensim\n",
    "import numpy, hmmlearn, hmmlearn.hmm\n",
    "from nltk.tokenize import word_tokenize\n",
    "import numpy as np\n",
    "\n",
    "stop_words = 'english'  \n",
    "\n",
    "categories = ['rec.autos', 'rec.motorcycles', 'rec.sport.baseball', 'rec.sport.hockey']\n",
    "\n",
    "newsgroups_data = fetch_20newsgroups(subset='all', remove=('headers', 'footers', 'quotes'))\n",
    "gensim_tagged_docs=[]\n"
   ]
  },
  {
   "cell_type": "code",
   "execution_count": 20,
   "id": "482d305d",
   "metadata": {},
   "outputs": [
    {
     "name": "stdout",
     "output_type": "stream",
     "text": [
      "Not found\n"
     ]
    }
   ],
   "source": [
    "newsgroups_data = fetch_20newsgroups(subset='train', categories=categories, remove=('headers', 'footers', 'quotes'))\n",
    "\n",
    "document_ids = [101551, 103118, 98657, 52550]\n",
    "\n",
    "texts = []\n",
    "valid_document_indices = [] \n",
    "min_doc_length = 50  \n",
    "for id, category in zip(document_ids, categories):\n",
    "    indices = np.where(newsgroups_data.target_names == category)[0] \n",
    "    if len(indices) > 0:\n",
    "        file_index = newsgroups_data.filenames[indices[0]].split('/')[-1]  \n",
    "        full_path = f'{newsgroups_data.filenames[indices[0]]}/{file_index}-{id}'  \n",
    "        text = newsgroups_data.data[newsgroups_data.filenames.index(full_path)]\n",
    "        if len(text.split()) > min_doc_length: \n",
    "            texts.append(text)\n",
    "            valid_document_indices.append(indices[0])\n",
    "        else:\n",
    "            print(\"Excluded\")\n",
    "\n",
    "if len(texts) > 0:\n",
    "    vectorizer = TfidfVectorizer(stop_words='english')\n",
    "    tfidf_matrix = vectorizer.fit_transform(texts)\n",
    "\n",
    "    svd = TruncatedSVD(n_components=100, random_state=42)  # Adjust n_components as needed\n",
    "    tfidf_matrix_svd = svd.fit_transform(tfidf_matrix)\n",
    "\n",
    "    def euclidean_distance(a, b):\n",
    "        return np.linalg.norm(a - b)\n",
    "\n",
    "    for i, doc_id in enumerate(document_ids):\n",
    "        distances = [euclidean_distance(tfidf_matrix_svd[i], doc) for j, doc in enumerate(tfidf_matrix_svd) if j != i]\n",
    "        closest_doc_index = np.argmin(distances)\n",
    "        closest_doc_category = newsgroups_data.target_names[valid_document_indices[closest_doc_index]]\n",
    "        print(f\"Category: {closest_doc_category}\\n\")\n",
    "else:\n",
    "    print(\"Not found\")\n"
   ]
  }
 ],
 "metadata": {
  "kernelspec": {
   "display_name": "Python 3 (ipykernel)",
   "language": "python",
   "name": "python3"
  },
  "language_info": {
   "codemirror_mode": {
    "name": "ipython",
    "version": 3
   },
   "file_extension": ".py",
   "mimetype": "text/x-python",
   "name": "python",
   "nbconvert_exporter": "python",
   "pygments_lexer": "ipython3",
   "version": "3.11.4"
  }
 },
 "nbformat": 4,
 "nbformat_minor": 5
}
