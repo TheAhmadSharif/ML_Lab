{
 "cells": [
  {
   "cell_type": "code",
   "execution_count": 8,
   "id": "6bec573e",
   "metadata": {},
   "outputs": [],
   "source": [
    "import numpy as np"
   ]
  },
  {
   "cell_type": "code",
   "execution_count": 6,
   "id": "1736bd93",
   "metadata": {},
   "outputs": [],
   "source": [
    "def NN(m1, m2, w1, w2, b):\n",
    "    z = m1 * w1 + m2 * w2 + b\n",
    "    return sigmoid(z)\n",
    "def sigmoid(x):\n",
    "    return 1/(1 + np.exp(-x))"
   ]
  },
  {
   "cell_type": "code",
   "execution_count": 10,
   "id": "d96a2f1a",
   "metadata": {},
   "outputs": [],
   "source": [
    "w1 = np.random.randn()\n",
    "w2 = np.random.randn()\n",
    "b = np.random.randn()"
   ]
  },
  {
   "cell_type": "code",
   "execution_count": 11,
   "id": "31674928",
   "metadata": {},
   "outputs": [
    {
     "data": {
      "text/plain": [
       "-0.11923759943471206"
      ]
     },
     "execution_count": 11,
     "metadata": {},
     "output_type": "execute_result"
    }
   ],
   "source": [
    "w1"
   ]
  },
  {
   "cell_type": "code",
   "execution_count": 12,
   "id": "fc11203f",
   "metadata": {},
   "outputs": [
    {
     "data": {
      "text/plain": [
       "0.0011300525279791256"
      ]
     },
     "execution_count": 12,
     "metadata": {},
     "output_type": "execute_result"
    }
   ],
   "source": [
    "w2"
   ]
  },
  {
   "cell_type": "code",
   "execution_count": 13,
   "id": "e4512097",
   "metadata": {},
   "outputs": [
    {
     "data": {
      "text/plain": [
       "0.1542401326617696"
      ]
     },
     "execution_count": 13,
     "metadata": {},
     "output_type": "execute_result"
    }
   ],
   "source": [
    "b"
   ]
  },
  {
   "cell_type": "code",
   "execution_count": 14,
   "id": "226cedd2",
   "metadata": {},
   "outputs": [
    {
     "data": {
      "text/plain": [
       "0.44972605957049355"
      ]
     },
     "execution_count": 14,
     "metadata": {},
     "output_type": "execute_result"
    }
   ],
   "source": [
    "NN(3, 1.5, w1, w2, b)"
   ]
  },
  {
   "cell_type": "code",
   "execution_count": 15,
   "id": "e6a2e4f5",
   "metadata": {},
   "outputs": [
    {
     "data": {
      "text/plain": [
       "0.4792356958288184"
      ]
     },
     "execution_count": 15,
     "metadata": {},
     "output_type": "execute_result"
    }
   ],
   "source": [
    "NN(2, 1, w1, w2, b)"
   ]
  },
  {
   "cell_type": "code",
   "execution_count": 16,
   "id": "0aae9dd2",
   "metadata": {},
   "outputs": [
    {
     "data": {
      "text/plain": [
       "0.4790946845356193"
      ]
     },
     "execution_count": 16,
     "metadata": {},
     "output_type": "execute_result"
    }
   ],
   "source": [
    "NN(2, 0.5, w1, w2, b)"
   ]
  }
 ],
 "metadata": {
  "kernelspec": {
   "display_name": "Python 3 (ipykernel)",
   "language": "python",
   "name": "python3"
  },
  "language_info": {
   "codemirror_mode": {
    "name": "ipython",
    "version": 3
   },
   "file_extension": ".py",
   "mimetype": "text/x-python",
   "name": "python",
   "nbconvert_exporter": "python",
   "pygments_lexer": "ipython3",
   "version": "3.9.12"
  }
 },
 "nbformat": 4,
 "nbformat_minor": 5
}
