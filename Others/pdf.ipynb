{
 "cells": [
  {
   "cell_type": "code",
   "execution_count": 7,
   "id": "39038bb1",
   "metadata": {},
   "outputs": [
    {
     "name": "stdout",
     "output_type": "stream",
     "text": [
      "Probability that X falls between 8 and 12: 0.6826894921370859\n"
     ]
    }
   ],
   "source": [
    "import scipy.stats as stats\n",
    "import numpy as np\n",
    "\n",
    "# Define the mean and standard deviation\n",
    "mu = 10\n",
    "sigma = 2\n",
    "\n",
    "# Calculate the probability\n",
    "\n",
    "probability = stats.norm.cdf(12, mu, sigma) - stats.norm.cdf(8, mu, sigma)\n",
    "\n",
    "\n",
    "print(\"Probability that X falls between 8 and 12:\", probability)"
   ]
  },
  {
   "cell_type": "code",
   "execution_count": 8,
   "id": "1ff792b9",
   "metadata": {},
   "outputs": [
    {
     "name": "stdout",
     "output_type": "stream",
     "text": [
      "Probability of getting exactly 5 heads out of 10 coin flips: 0.24609375000000003\n"
     ]
    }
   ],
   "source": [
    "n = 10  # number of trials (coin flips)\n",
    "k = 5   # number of successes (heads)\n",
    "p = 0.5 # probability of success (getting a head)\n",
    "\n",
    "probability = stats.binom.pmf(k, n, p)\n",
    "\n",
    "print(\"Probability of getting exactly 5 heads out of 10 coin flips:\", probability)"
   ]
  }
 ],
 "metadata": {
  "kernelspec": {
   "display_name": "Python 3 (ipykernel)",
   "language": "python",
   "name": "python3"
  },
  "language_info": {
   "codemirror_mode": {
    "name": "ipython",
    "version": 3
   },
   "file_extension": ".py",
   "mimetype": "text/x-python",
   "name": "python",
   "nbconvert_exporter": "python",
   "pygments_lexer": "ipython3",
   "version": "3.11.4"
  }
 },
 "nbformat": 4,
 "nbformat_minor": 5
}
