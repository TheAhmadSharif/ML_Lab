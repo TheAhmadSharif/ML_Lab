{
 "cells": [
  {
   "cell_type": "code",
   "execution_count": 3,
   "id": "02886c7d",
   "metadata": {},
   "outputs": [],
   "source": [
    "# Date: 20 March 2024\n",
    "from IPython.core.interactiveshell import InteractiveShell\n",
    "InteractiveShell.ast_node_interactivity = \"all\""
   ]
  },
  {
   "cell_type": "code",
   "execution_count": 4,
   "id": "a91319cf",
   "metadata": {},
   "outputs": [
    {
     "name": "stderr",
     "output_type": "stream",
     "text": [
      "[nltk_data] Downloading package punkt to /home/ahmad/nltk_data...\n",
      "[nltk_data]   Package punkt is already up-to-date!\n",
      "[nltk_data] Downloading package stopwords to /home/ahmad/nltk_data...\n",
      "[nltk_data]   Package stopwords is already up-to-date!\n"
     ]
    },
    {
     "data": {
      "text/plain": [
       "True"
      ]
     },
     "execution_count": 4,
     "metadata": {},
     "output_type": "execute_result"
    }
   ],
   "source": [
    "import nltk\n",
    "nltk.download(\"punkt\")\n",
    "\n",
    "nltk.word_tokenize(\"kiitos, ole hyvä\", language='finnish')\n",
    "sentence_split = nltk.data.load('tokenizers/punkt/english.pickle')\n",
    "\n",
    "import string\n",
    "from nltk.corpus import stopwords\n",
    " \n",
    "nltk.download('stopwords')\n",
    "# print(stopwords.words('finnish'))\n",
    "nltk.download('brown')\n",
    "nltk.download('wordnet')"
   ]
  },
  {
   "cell_type": "markdown",
   "id": "7fd050a9",
   "metadata": {},
   "source": [
    "# Tokenization"
   ]
  },
  {
   "cell_type": "code",
   "execution_count": 17,
   "id": "70ee3157",
   "metadata": {},
   "outputs": [
    {
     "name": "stdout",
     "output_type": "stream",
     "text": [
      "Look, here   are   some   words!\n",
      "  Great!\n",
      "Look, here are some words! Great!\n"
     ]
    }
   ],
   "source": [
    "# How tokenize works\n",
    "\n",
    "mytext ='  Look, here   are   some   words!\\n  Great!     '\n",
    "t1 = mytext.strip() # Remove only leading space  \n",
    "\n",
    "print(t1)\n",
    "\n",
    "t2 = ' '.join(mytext.split()) # Remove extra space including intermediate \n",
    "\n",
    "print(t2)"
   ]
  },
  {
   "cell_type": "code",
   "execution_count": 22,
   "id": "24fd5d64",
   "metadata": {},
   "outputs": [
    {
     "data": {
      "text/plain": [
       "['E.g., J. Smith knows... and I know.', 'But do you?']"
      ]
     },
     "execution_count": 22,
     "metadata": {},
     "output_type": "execute_result"
    },
    {
     "name": "stdout",
     "output_type": "stream",
     "text": [
      "['Hey', ',', 'what', \"'s\", 'going', 'on', '?', 'Who', \"'s\", 'that', '?']\n"
     ]
    }
   ],
   "source": [
    "sentence_split.tokenize(\"E.g., J. Smith knows... and I know. But do you?\")\n",
    "res = nltk.word_tokenize(\"Hey, what's going on? Who's that?\")\n",
    "\n",
    "print(res)"
   ]
  },
  {
   "cell_type": "code",
   "execution_count": 16,
   "id": "a3a51551",
   "metadata": {},
   "outputs": [
    {
     "name": "stdout",
     "output_type": "stream",
     "text": [
      "['The First sentence is about Python.', 'The Second: about Django.', 'You can learn Python,Django and Data Ananlysis here.']\n"
     ]
    }
   ],
   "source": [
    "## Sentence Tokenization\n",
    "\n",
    "sentence_data = \"The First sentence is about Python. The Second: about Django. You can learn Python,Django and Data Ananlysis here. \"\n",
    "nltk_tokens = nltk.sent_tokenize(sentence_data)\n",
    "print (nltk_tokens)"
   ]
  },
  {
   "cell_type": "code",
   "execution_count": 21,
   "id": "b90fd659",
   "metadata": {},
   "outputs": [
    {
     "name": "stdout",
     "output_type": "stream",
     "text": [
      "['ওয়ানডেতে', 'বাংলাদেশের', 'এক', 'নম্বর', 'বোলার', 'এখন', 'শরীফুল']\n"
     ]
    }
   ],
   "source": [
    "bangla_text = \"ওয়ানডেতে বাংলাদেশের এক নম্বর বোলার এখন শরীফুল\"\n",
    "\n",
    "res = nltk.word_tokenize(bangla_text)\n",
    "print(res)"
   ]
  },
  {
   "cell_type": "code",
   "execution_count": 29,
   "id": "86dfc3f3",
   "metadata": {},
   "outputs": [
    {
     "name": "stdout",
     "output_type": "stream",
     "text": [
      "['Wie geht es Ihnen?', 'Gut, danke.']\n"
     ]
    }
   ],
   "source": [
    "### German Tokenize\n",
    "\n",
    "german_tokenizer = nltk.data.load('tokenizers/punkt/german.pickle')\n",
    "german_token = german_tokenizer.tokenize('Wie geht es Ihnen?  Gut, danke.')\n",
    "print(german_tokens)"
   ]
  },
  {
   "cell_type": "markdown",
   "id": "47ca848b",
   "metadata": {},
   "source": [
    "# Creating corpus"
   ]
  },
  {
   "cell_type": "code",
   "execution_count": 32,
   "id": "07251f56",
   "metadata": {},
   "outputs": [
    {
     "data": {
      "text/plain": [
       "['we have added :',\n",
       " 'geeks',\n",
       " 'for',\n",
       " 'geeks',\n",
       " 'welcomes',\n",
       " 'you',\n",
       " 'to',\n",
       " 'nlp',\n",
       " 'articles']"
      ]
     },
     "execution_count": 32,
     "metadata": {},
     "output_type": "execute_result"
    },
    {
     "data": {
      "text/plain": [
       "['/home/ahmad/Desktop/ML_Lab/NLP_Text_Data/corpus_list.txt']"
      ]
     },
     "execution_count": 32,
     "metadata": {},
     "output_type": "execute_result"
    }
   ],
   "source": [
    "from nltk.corpus.reader import WordListCorpusReader \n",
    "x = WordListCorpusReader('.', ['/home/ahmad/Desktop/ML_Lab/NLP_Text_Data/corpus_list.txt']) \n",
    "x.words() \n",
    "  \n",
    "x.fileids()"
   ]
  },
  {
   "cell_type": "code",
   "execution_count": 33,
   "id": "0187d3dd",
   "metadata": {},
   "outputs": [
    {
     "name": "stdout",
     "output_type": "stream",
     "text": [
      "Wordlist :  ['we have added :', 'geeks', 'for', 'geeks', 'welcomes', 'you', 'to', 'nlp', 'articles']\n"
     ]
    }
   ],
   "source": [
    "from nltk.tokenize import line_tokenize \n",
    "print (\"Wordlist : \", line_tokenize(x.raw())) "
   ]
  },
  {
   "cell_type": "code",
   "execution_count": 48,
   "id": "085f4654",
   "metadata": {},
   "outputs": [
    {
     "name": "stdout",
     "output_type": "stream",
     "text": [
      "Path :  ['female.txt', 'male.txt']\n"
     ]
    }
   ],
   "source": [
    "from nltk import corpus \n",
    "\n",
    "print (\"Path : \", corpus.names.fileids()) "
   ]
  },
  {
   "cell_type": "code",
   "execution_count": 49,
   "id": "8279a17e",
   "metadata": {},
   "outputs": [
    {
     "data": {
      "text/plain": [
       "nltk.corpus.reader.twitter.TwitterCorpusReader"
      ]
     },
     "execution_count": 49,
     "metadata": {},
     "output_type": "execute_result"
    }
   ],
   "source": [
    "from nltk.corpus import TwitterCorpusReader\n",
    "TwitterCorpusReader\n",
    "\n"
   ]
  },
  {
   "cell_type": "code",
   "execution_count": 54,
   "id": "03bf2381",
   "metadata": {},
   "outputs": [
    {
     "name": "stderr",
     "output_type": "stream",
     "text": [
      "[nltk_data] Downloading package brown to /home/ahmad/nltk_data...\n",
      "[nltk_data]   Package brown is already up-to-date!\n"
     ]
    },
    {
     "data": {
      "text/plain": [
       "True"
      ]
     },
     "execution_count": 54,
     "metadata": {},
     "output_type": "execute_result"
    },
    {
     "name": "stderr",
     "output_type": "stream",
     "text": [
      "IOPub data rate exceeded.\n",
      "The notebook server will temporarily stop sending output\n",
      "to the client in order to avoid crashing it.\n",
      "To change this limit, set the config variable\n",
      "`--NotebookApp.iopub_data_rate_limit`.\n",
      "\n",
      "Current values:\n",
      "NotebookApp.iopub_data_rate_limit=1000000.0 (bytes/sec)\n",
      "NotebookApp.rate_limit_window=3.0 (secs)\n",
      "\n"
     ]
    }
   ],
   "source": [
    "\n",
    "from nltk.corpus import brown\n",
    "\n",
    "\n",
    "print(\", \".join(brown.words()))"
   ]
  },
  {
   "cell_type": "markdown",
   "id": "c7b7c354",
   "metadata": {},
   "source": [
    "# Most Frequent word"
   ]
  },
  {
   "cell_type": "code",
   "execution_count": 66,
   "id": "6ee2a363",
   "metadata": {},
   "outputs": [
    {
     "data": {
      "text/plain": [
       "['This', 'is', 'a', 'simple', 'Hello', 'World', '.', 'simple', 'sentence']"
      ]
     },
     "execution_count": 66,
     "metadata": {},
     "output_type": "execute_result"
    },
    {
     "name": "stdout",
     "output_type": "stream",
     "text": [
      "[('simple', 2), ('This', 1), ('is', 1), ('a', 1), ('Hello', 1)]\n",
      "\n",
      "______________________________\n",
      "\n"
     ]
    }
   ],
   "source": [
    "### Most Frequent word\n",
    "\n",
    "import operator\n",
    "\n",
    "Text = \"This is a simple Hello World. simple sentence\"\n",
    "\n",
    "\n",
    "token_list = nltk.word_tokenize(Text)\n",
    "token_list\n",
    "\n",
    "freq_word = {}\n",
    "\n",
    "for word in token_list:\n",
    "    if(word in freq_word):\n",
    "        freq_word[word] += 1\n",
    "    else:\n",
    "        freq_word[word] = 1\n",
    "        \n",
    "        \n",
    "        \n",
    "sorted_freq_dist = sorted(freq_word.items(), key = operator.itemgetter(1), reverse=True)\n",
    "\n",
    "print(sorted_freq_dist[:5])\n",
    "\n",
    "\n",
    "print(\"\")\n",
    "print(\"______________________________\")\n",
    "print(\"\")"
   ]
  },
  {
   "cell_type": "code",
   "execution_count": 93,
   "id": "c4a6a048",
   "metadata": {},
   "outputs": [
    {
     "name": "stdout",
     "output_type": "stream",
     "text": [
      "<FreqDist with 5 samples and 7 outcomes>\n"
     ]
    },
    {
     "data": {
      "image/png": "[encoded data removed]",
      "text/plain": [
       "<Figure size 640x480 with 1 Axes>"
      ]
     },
     "metadata": {},
     "output_type": "display_data"
    },
    {
     "data": {
      "text/plain": [
       "<Axes: xlabel='Samples', ylabel='Counts'>"
      ]
     },
     "execution_count": 93,
     "metadata": {},
     "output_type": "execute_result"
    }
   ],
   "source": [
    "Text = \"This is a simple Hello World. simple sentence, Hello\"\n",
    "\n",
    "stop = set(stopwords.words('english') + list(string.punctuation))\n",
    "\n",
    "token_list = nltk.word_tokenize(Text)\n",
    "\n",
    "filtered_token = [w for w in token_list if not w in stop]\n",
    "\n",
    "\n",
    "\n",
    "\n",
    "freq_word = nltk.FreqDist(filtered_token)\n",
    "print(freq_word)\n",
    "    \n",
    "    \n",
    "freq_word.plot(50, cumulative=False)"
   ]
  },
  {
   "cell_type": "markdown",
   "id": "70a3de37",
   "metadata": {},
   "source": [
    "#  Stemer"
   ]
  },
  {
   "cell_type": "code",
   "execution_count": 5,
   "id": "6531ce4d",
   "metadata": {},
   "outputs": [
    {
     "data": {
      "text/plain": [
       "'statist'"
      ]
     },
     "execution_count": 5,
     "metadata": {},
     "output_type": "execute_result"
    }
   ],
   "source": [
    "stemmer = nltk.stem.porter.PorterStemmer()\n",
    "stemmer.stem('modelling')\n",
    "\n",
    "stemmer.stem('incredible')\n",
    "stemmer.stem('study')\n",
    "stemmer.stem('statistics')"
   ]
  },
  {
   "cell_type": "markdown",
   "id": "642826e8",
   "metadata": {},
   "source": [
    "#  lemmatizer"
   ]
  },
  {
   "cell_type": "code",
   "execution_count": 108,
   "id": "014be86a",
   "metadata": {},
   "outputs": [
    {
     "name": "stderr",
     "output_type": "stream",
     "text": [
      "[nltk_data] Downloading package wordnet to /home/ahmad/nltk_data...\n",
      "[nltk_data]   Package wordnet is already up-to-date!\n"
     ]
    },
    {
     "data": {
      "text/plain": [
       "True"
      ]
     },
     "execution_count": 108,
     "metadata": {},
     "output_type": "execute_result"
    },
    {
     "data": {
      "text/plain": [
       "'good'"
      ]
     },
     "execution_count": 108,
     "metadata": {},
     "output_type": "execute_result"
    },
    {
     "data": {
      "text/plain": [
       "'lighter'"
      ]
     },
     "execution_count": 108,
     "metadata": {},
     "output_type": "execute_result"
    },
    {
     "data": {
      "text/plain": [
       "'ate'"
      ]
     },
     "execution_count": 108,
     "metadata": {},
     "output_type": "execute_result"
    },
    {
     "data": {
      "text/plain": [
       "'go'"
      ]
     },
     "execution_count": 108,
     "metadata": {},
     "output_type": "execute_result"
    }
   ],
   "source": [
    "from nltk.stem import WordNetLemmatizer\n",
    "\n",
    "\n",
    "\n",
    "lemmatizer = nltk.stem.WordNetLemmatizer()\n",
    "lemmatizer.lemmatize('better','a')\n",
    "lemmatizer.lemmatize('lighter','n')\n",
    "\n",
    "lemmatizer.lemmatize('ate')\n",
    "wlem = WordNetLemmatizer()\n",
    "\n",
    "\n",
    "wlem.lemmatize(\"went\", 'v')"
   ]
  },
  {
   "cell_type": "markdown",
   "id": "33fc2078",
   "metadata": {},
   "source": [
    "#  Rare Words"
   ]
  },
  {
   "cell_type": "code",
   "execution_count": 121,
   "id": "b1b9a129",
   "metadata": {},
   "outputs": [
    {
     "data": {
      "text/plain": [
       "FreqDist({'simple': 2, 'Hello': 2, 'This': 1, 'is': 1, 'a': 1, 'World': 1, '.': 1, 'sentence': 1, ',': 1})"
      ]
     },
     "execution_count": 121,
     "metadata": {},
     "output_type": "execute_result"
    },
    {
     "data": {
      "text/plain": [
       "['This']"
      ]
     },
     "execution_count": 121,
     "metadata": {},
     "output_type": "execute_result"
    }
   ],
   "source": [
    "Text = \"This is a simple Hello World. simple sentence, Hello\"\n",
    "\n",
    "token = nltk.word_tokenize(Text)\n",
    "\n",
    "\n",
    "freq_dist = nltk.FreqDist(token)\n",
    "freq_dist\n",
    "\n",
    "\n",
    "rarewords = list(freq_dist.keys())[:-8]\n",
    "rarewords"
   ]
  },
  {
   "cell_type": "code",
   "execution_count": 123,
   "id": "04e245c0",
   "metadata": {},
   "outputs": [
    {
     "name": "stderr",
     "output_type": "stream",
     "text": [
      "[nltk_data] Downloading package averaged_perceptron_tagger to\n",
      "[nltk_data]     /home/ahmad/nltk_data...\n",
      "[nltk_data]   Package averaged_perceptron_tagger is already up-to-\n",
      "[nltk_data]       date!\n"
     ]
    },
    {
     "data": {
      "text/plain": [
       "True"
      ]
     },
     "execution_count": 123,
     "metadata": {},
     "output_type": "execute_result"
    },
    {
     "data": {
      "text/plain": [
       "[('it', 'PRP'),\n",
       " ('is', 'VBZ'),\n",
       " ('lighter', 'JJR'),\n",
       " ('than', 'IN'),\n",
       " ('before', 'IN')]"
      ]
     },
     "execution_count": 123,
     "metadata": {},
     "output_type": "execute_result"
    },
    {
     "data": {
      "text/plain": [
       "[('it', 'PRP'),\n",
       " ('is', 'VBZ'),\n",
       " ('lighter', 'JJR'),\n",
       " ('than', 'IN'),\n",
       " ('before', 'IN')]"
      ]
     },
     "execution_count": 123,
     "metadata": {},
     "output_type": "execute_result"
    },
    {
     "data": {
      "text/plain": [
       "[('it', 'PRP'),\n",
       " ('is', 'VBZ'),\n",
       " ('a', 'DT'),\n",
       " ('lighter', 'NN'),\n",
       " ('that', 'WDT'),\n",
       " ('I', 'PRP'),\n",
       " ('bought', 'VBD')]"
      ]
     },
     "execution_count": 123,
     "metadata": {},
     "output_type": "execute_result"
    }
   ],
   "source": [
    "# Download tagger resource if you do not have it already\n",
    "nltk.download('averaged_perceptron_tagger')\n",
    "text1 = nltk.Text(nltk.word_tokenize('it is lighter than before'))\n",
    "nltk.pos_tag(text1)\n",
    "\n",
    "text2 = nltk.Text(nltk.word_tokenize('it is lighter than before'))\n",
    "nltk.pos_tag(text2)\n",
    "nltk.pos_tag(nltk.Text(nltk.word_tokenize('it is a lighter that I bought')))\n",
    "\n",
    "\n",
    "\n",
    "#%% Convert a POS tag for WordNet\n",
    "def tagtowordnet(postag):\n",
    "    wordnettag=-1\n",
    "    if postag[0]=='N':\n",
    "        wordnettag='n'\n",
    "    elif postag[0]=='V':\n",
    "        wordnettag='v'\n",
    "    elif postag[0]=='J':\n",
    "        wordnettag='a'\n",
    "    elif postag[0]=='R':\n",
    "        wordnettag='r'\n",
    "    return(wordnettag)"
   ]
  },
  {
   "cell_type": "code",
   "execution_count": null,
   "id": "820c09a3",
   "metadata": {},
   "outputs": [],
   "source": [
    "''' \n",
    "https://www.nltk.org/api/nltk.tag.pos_tag.html\n",
    "https://en.wikipedia.org/wiki/Brown_Corpus\n",
    "\n",
    "PRP === Pronoun  \n",
    "JJ  === Adjective\n",
    "VBZ === Verb\n",
    "RB  === Adjective\n",
    "\n",
    "\n",
    "'''"
   ]
  },
  {
   "cell_type": "code",
   "execution_count": 1,
   "id": "3f39e92e",
   "metadata": {},
   "outputs": [
    {
     "data": {
      "text/plain": [
       "<BarContainer object of 4 artists>"
      ]
     },
     "execution_count": 1,
     "metadata": {},
     "output_type": "execute_result"
    },
    {
     "data": {
      "image/png": "[encoded data removed]",
      "text/plain": [
       "<Figure size 640x480 with 1 Axes>"
      ]
     },
     "metadata": {},
     "output_type": "display_data"
    }
   ],
   "source": [
    "import pandas as pd\n",
    "import matplotlib.pyplot as plt\n",
    "\n",
    "df = pd.DataFrame({'c1':['apple','banana','banana'],'c2':['orange','apple','apple'],'c3':['banana','date','orange']})\n",
    "\n",
    "df_stack=df.stack(level=0) \n",
    "counter=df_stack.value_counts() # set top 10: df_stack.value_counts()[0:10]\n",
    "plt.bar(counter.index,counter.values)"
   ]
  },
  {
   "cell_type": "code",
   "execution_count": 12,
   "id": "620b84d4",
   "metadata": {},
   "outputs": [
    {
     "name": "stderr",
     "output_type": "stream",
     "text": [
      "[nltk_data] Downloading collection 'book'\n",
      "[nltk_data]    | \n",
      "[nltk_data]    | Downloading package abc to /home/ahmad/nltk_data...\n",
      "[nltk_data]    |   Unzipping corpora/abc.zip.\n",
      "[nltk_data]    | Downloading package brown to /home/ahmad/nltk_data...\n",
      "[nltk_data]    |   Package brown is already up-to-date!\n",
      "[nltk_data]    | Downloading package chat80 to\n",
      "[nltk_data]    |     /home/ahmad/nltk_data...\n",
      "[nltk_data]    |   Unzipping corpora/chat80.zip.\n",
      "[nltk_data]    | Downloading package cmudict to\n",
      "[nltk_data]    |     /home/ahmad/nltk_data...\n",
      "[nltk_data]    |   Unzipping corpora/cmudict.zip.\n",
      "[nltk_data]    | Downloading package conll2000 to\n",
      "[nltk_data]    |     /home/ahmad/nltk_data...\n",
      "[nltk_data]    |   Unzipping corpora/conll2000.zip.\n",
      "[nltk_data]    | Downloading package conll2002 to\n",
      "[nltk_data]    |     /home/ahmad/nltk_data...\n",
      "[nltk_data]    |   Unzipping corpora/conll2002.zip.\n",
      "[nltk_data]    | Downloading package dependency_treebank to\n",
      "[nltk_data]    |     /home/ahmad/nltk_data...\n",
      "[nltk_data]    |   Unzipping corpora/dependency_treebank.zip.\n",
      "[nltk_data]    | Downloading package genesis to\n",
      "[nltk_data]    |     /home/ahmad/nltk_data...\n",
      "[nltk_data]    |   Unzipping corpora/genesis.zip.\n",
      "[nltk_data]    | Downloading package gutenberg to\n",
      "[nltk_data]    |     /home/ahmad/nltk_data...\n",
      "[nltk_data]    |   Unzipping corpora/gutenberg.zip.\n",
      "[nltk_data]    | Downloading package ieer to /home/ahmad/nltk_data...\n",
      "[nltk_data]    |   Unzipping corpora/ieer.zip.\n",
      "[nltk_data]    | Downloading package inaugural to\n",
      "[nltk_data]    |     /home/ahmad/nltk_data...\n",
      "[nltk_data]    |   Unzipping corpora/inaugural.zip.\n",
      "[nltk_data]    | Downloading package movie_reviews to\n",
      "[nltk_data]    |     /home/ahmad/nltk_data...\n",
      "[nltk_data]    |   Unzipping corpora/movie_reviews.zip.\n",
      "[nltk_data]    | Downloading package nps_chat to\n",
      "[nltk_data]    |     /home/ahmad/nltk_data...\n",
      "[nltk_data]    |   Unzipping corpora/nps_chat.zip.\n",
      "[nltk_data]    | Downloading package names to /home/ahmad/nltk_data...\n",
      "[nltk_data]    |   Package names is already up-to-date!\n",
      "[nltk_data]    | Downloading package ppattach to\n",
      "[nltk_data]    |     /home/ahmad/nltk_data...\n",
      "[nltk_data]    |   Unzipping corpora/ppattach.zip.\n",
      "[nltk_data]    | Downloading package reuters to\n",
      "[nltk_data]    |     /home/ahmad/nltk_data...\n",
      "[nltk_data]    | Downloading package senseval to\n",
      "[nltk_data]    |     /home/ahmad/nltk_data...\n",
      "[nltk_data]    |   Unzipping corpora/senseval.zip.\n",
      "[nltk_data]    | Downloading package state_union to\n",
      "[nltk_data]    |     /home/ahmad/nltk_data...\n",
      "[nltk_data]    |   Unzipping corpora/state_union.zip.\n",
      "[nltk_data]    | Downloading package stopwords to\n",
      "[nltk_data]    |     /home/ahmad/nltk_data...\n",
      "[nltk_data]    |   Package stopwords is already up-to-date!\n",
      "[nltk_data]    | Downloading package swadesh to\n",
      "[nltk_data]    |     /home/ahmad/nltk_data...\n",
      "[nltk_data]    |   Unzipping corpora/swadesh.zip.\n",
      "[nltk_data]    | Downloading package timit to /home/ahmad/nltk_data...\n",
      "[nltk_data]    |   Unzipping corpora/timit.zip.\n",
      "[nltk_data]    | Downloading package treebank to\n",
      "[nltk_data]    |     /home/ahmad/nltk_data...\n",
      "[nltk_data]    |   Unzipping corpora/treebank.zip.\n",
      "[nltk_data]    | Downloading package toolbox to\n",
      "[nltk_data]    |     /home/ahmad/nltk_data...\n",
      "[nltk_data]    |   Unzipping corpora/toolbox.zip.\n",
      "[nltk_data]    | Downloading package udhr to /home/ahmad/nltk_data...\n",
      "[nltk_data]    |   Unzipping corpora/udhr.zip.\n",
      "[nltk_data]    | Downloading package udhr2 to /home/ahmad/nltk_data...\n",
      "[nltk_data]    |   Unzipping corpora/udhr2.zip.\n",
      "[nltk_data]    | Downloading package unicode_samples to\n",
      "[nltk_data]    |     /home/ahmad/nltk_data...\n",
      "[nltk_data]    |   Unzipping corpora/unicode_samples.zip.\n",
      "[nltk_data]    | Downloading package webtext to\n",
      "[nltk_data]    |     /home/ahmad/nltk_data...\n",
      "[nltk_data]    |   Unzipping corpora/webtext.zip.\n",
      "[nltk_data]    | Downloading package wordnet to\n",
      "[nltk_data]    |     /home/ahmad/nltk_data...\n",
      "[nltk_data]    |   Package wordnet is already up-to-date!\n",
      "[nltk_data]    | Downloading package wordnet_ic to\n",
      "[nltk_data]    |     /home/ahmad/nltk_data...\n",
      "[nltk_data]    |   Unzipping corpora/wordnet_ic.zip.\n",
      "[nltk_data]    | Downloading package words to /home/ahmad/nltk_data...\n",
      "[nltk_data]    |   Unzipping corpora/words.zip.\n",
      "[nltk_data]    | Downloading package maxent_treebank_pos_tagger to\n",
      "[nltk_data]    |     /home/ahmad/nltk_data...\n",
      "[nltk_data]    |   Unzipping taggers/maxent_treebank_pos_tagger.zip.\n",
      "[nltk_data]    | Downloading package maxent_ne_chunker to\n",
      "[nltk_data]    |     /home/ahmad/nltk_data...\n",
      "[nltk_data]    |   Unzipping chunkers/maxent_ne_chunker.zip.\n",
      "[nltk_data]    | Downloading package universal_tagset to\n",
      "[nltk_data]    |     /home/ahmad/nltk_data...\n",
      "[nltk_data]    |   Unzipping taggers/universal_tagset.zip.\n",
      "[nltk_data]    | Downloading package punkt to /home/ahmad/nltk_data...\n",
      "[nltk_data]    |   Package punkt is already up-to-date!\n",
      "[nltk_data]    | Downloading package book_grammars to\n",
      "[nltk_data]    |     /home/ahmad/nltk_data...\n",
      "[nltk_data]    |   Unzipping grammars/book_grammars.zip.\n",
      "[nltk_data]    | Downloading package city_database to\n",
      "[nltk_data]    |     /home/ahmad/nltk_data...\n",
      "[nltk_data]    |   Unzipping corpora/city_database.zip.\n",
      "[nltk_data]    | Downloading package tagsets to\n",
      "[nltk_data]    |     /home/ahmad/nltk_data...\n",
      "[nltk_data]    |   Unzipping help/tagsets.zip.\n",
      "[nltk_data]    | Downloading package panlex_swadesh to\n",
      "[nltk_data]    |     /home/ahmad/nltk_data...\n",
      "[nltk_data]    | Downloading package averaged_perceptron_tagger to\n",
      "[nltk_data]    |     /home/ahmad/nltk_data...\n",
      "[nltk_data]    |   Package averaged_perceptron_tagger is already up-\n",
      "[nltk_data]    |       to-date!\n",
      "[nltk_data]    | \n",
      "[nltk_data]  Done downloading collection book\n"
     ]
    },
    {
     "name": "stdout",
     "output_type": "stream",
     "text": [
      "*** Introductory Examples for the NLTK Book ***\n",
      "Loading text1, ..., text9 and sent1, ..., sent9\n",
      "Type the name of the text or sentence to view it.\n",
      "Type: 'texts()' or 'sents()' to list the materials.\n",
      "text1: Moby Dick by Herman Melville 1851\n",
      "text2: Sense and Sensibility by Jane Austen 1811\n",
      "text3: The Book of Genesis\n",
      "text4: Inaugural Address Corpus\n",
      "text5: Chat Corpus\n",
      "text6: Monty Python and the Holy Grail\n",
      "text7: Wall Street Journal\n",
      "text8: Personals Corpus\n",
      "text9: The Man Who Was Thursday by G . K . Chesterton 1908\n"
     ]
    }
   ],
   "source": [
    "nltk.download('book')\n",
    "from nltk.book import *"
   ]
  },
  {
   "cell_type": "code",
   "execution_count": 21,
   "id": "ee2a905a",
   "metadata": {},
   "outputs": [
    {
     "data": {
      "text/plain": [
       "FreqDist({',': 18713, 'the': 13721, '.': 6862, 'of': 6536, 'and': 6024, 'a': 4569, 'to': 4542, ';': 4072, 'in': 3916, 'that': 2982, ...})"
      ]
     },
     "execution_count": 21,
     "metadata": {},
     "output_type": "execute_result"
    },
    {
     "data": {
      "image/png": "[encoded data removed]",
      "text/plain": [
       "<Figure size 640x480 with 1 Axes>"
      ]
     },
     "metadata": {},
     "output_type": "display_data"
    }
   ],
   "source": [
    "text8.dispersion_plot(\n",
    "    [\"lady\", \"foo\"]\n",
    ")\n",
    "\n",
    "text1.vocab()"
   ]
  }
 ],
 "metadata": {
  "kernelspec": {
   "display_name": "Python 3 (ipykernel)",
   "language": "python",
   "name": "python3"
  },
  "language_info": {
   "codemirror_mode": {
    "name": "ipython",
    "version": 3
   },
   "file_extension": ".py",
   "mimetype": "text/x-python",
   "name": "python",
   "nbconvert_exporter": "python",
   "pygments_lexer": "ipython3",
   "version": "3.11.5"
  }
 },
 "nbformat": 4,
 "nbformat_minor": 5
}
