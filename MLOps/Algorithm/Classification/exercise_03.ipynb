{
 "cells": [
  {
   "cell_type": "code",
   "execution_count": 117,
   "metadata": {},
   "outputs": [],
   "source": [
    "# Student Name: Ahmad Sharif\n",
    "# Student ID : K436765\n",
    "# Exercise 03\n",
    "# Date: 18 September 2022"
   ]
  },
  {
   "cell_type": "code",
   "execution_count": 89,
   "metadata": {},
   "outputs": [],
   "source": [
    "import pickle\n",
    "import numpy as np\n",
    "import matplotlib.pyplot as plt\n",
    "from random import random\n",
    "from sklearn.neighbors import KNeighborsClassifier\n",
    "from sklearn.ensemble import RandomForestClassifier\n",
    "\n",
    "\n",
    "#Cifar-10 KNN code\n",
    "import sys \n",
    "sys.executable\n",
    "import numpy as np\n",
    "import os\n",
    "#pickle for serialisation and de-serialisation\n",
    "import pickle\n",
    "import matplotlib.pyplot as plt\n",
    "#For embedded Visualisation \n",
    "#from vega3 import VegaLite\n",
    "#API for display tools\n",
    "from IPython.display import clear_output\n"
   ]
  },
  {
   "cell_type": "markdown",
   "metadata": {},
   "source": [
    "## Importing Datsets"
   ]
  },
  {
   "cell_type": "code",
   "execution_count": 90,
   "metadata": {},
   "outputs": [],
   "source": [
    "rel_path = \"data/cifar-10-batches-py/\"\n"
   ]
  },
  {
   "cell_type": "code",
   "execution_count": 91,
   "metadata": {},
   "outputs": [],
   "source": [
    "def unpickle(file):\n",
    "    with open(file, 'rb') as f:\n",
    "        dict = pickle.load(f, encoding=\"latin1\")\n",
    "    return dict\n"
   ]
  },
  {
   "cell_type": "code",
   "execution_count": 92,
   "metadata": {},
   "outputs": [
    {
     "name": "stdout",
     "output_type": "stream",
     "text": [
      "[[ 59  43  50 ... 140  84  72]\n",
      " [154 126 105 ... 139 142 144]\n",
      " [255 253 253 ...  83  83  84]\n",
      " ...\n",
      " [ 71  60  74 ...  68  69  68]\n",
      " [250 254 211 ... 215 255 254]\n",
      " [ 62  61  60 ... 130 130 131]]\n",
      "shape (10000, 3072)\n"
     ]
    }
   ],
   "source": [
    "X = unpickle(rel_path + 'data_batch_1')\n",
    "img_data = X['data']\n",
    "img_label_orig = img_label = X['labels']\n",
    "img_label = np.array(img_label).reshape(-1, 1)\n",
    "#Now that our data and labels are loaded lets check their presence \n",
    "print(img_data)\n",
    "print('shape', img_data.shape)"
   ]
  },
  {
   "cell_type": "code",
   "execution_count": 93,
   "metadata": {},
   "outputs": [
    {
     "name": "stdout",
     "output_type": "stream",
     "text": [
      "[[158 159 165 ... 124 129 110]\n",
      " [235 231 232 ... 178 191 199]\n",
      " [158 158 139 ...   8   3   7]\n",
      " ...\n",
      " [ 20  19  15 ...  50  53  47]\n",
      " [ 25  15  23 ...  80  81  80]\n",
      " [ 73  98  99 ...  94  58  26]]\n",
      "shape (10000, 3072)\n"
     ]
    }
   ],
   "source": [
    "test_X = unpickle(rel_path + 'test_batch');\n",
    "test_data = test_X['data']\n",
    "test_label = test_X['labels']\n",
    "test_label = np.array(test_label).reshape(-1, 1)\n",
    "#Let's check the Test dataset \n",
    "print(test_data)\n",
    "print('shape', test_data.shape)"
   ]
  },
  {
   "cell_type": "code",
   "execution_count": 102,
   "metadata": {},
   "outputs": [
    {
     "name": "stdout",
     "output_type": "stream",
     "text": [
      "[[ 53  54  56 ...  39  46  41]\n",
      " [142 172 176 ... 105 106 111]\n",
      " [164 162 162 ... 108 107 100]\n",
      " ...\n",
      " [110 142 151 ...  60  60  62]\n",
      " [197 198 201 ...  61  63  57]\n",
      " [ 23  47  52 ... 184 183 186]]\n",
      "shape (10, 3072)\n",
      "['airplane', 'automobile', 'bird', 'cat', 'deer', 'dog', 'frog', 'horse', 'ship', 'truck']\n"
     ]
    }
   ],
   "source": [
    "sample_img_data = img_data[10:20, :]\n",
    "print(sample_img_data)\n",
    "print('shape', sample_img_data.shape)\n",
    "# We, obtain 10*3072 data matrice \n",
    "#The dataset has image names in the batches.meta file, lets get the file to display the image\n",
    "batch = unpickle(rel_path + 'batches.meta');\n",
    "meta = batch['label_names']\n",
    "print(meta)"
   ]
  },
  {
   "cell_type": "code",
   "execution_count": 99,
   "metadata": {},
   "outputs": [],
   "source": [
    "from PIL import Image\n",
    "import numpy as np\n",
    "from IPython.display import display\n",
    "\n",
    "def default_label_fn(i, original):\n",
    "    return original\n",
    "\n",
    "\n",
    "def show_img(img_arr, label_arr, meta, index, label_fn=default_label_fn):\n",
    "    \"\"\"\n",
    "        Given a numpy array of image from CIFAR-10 labels this method transform the data so that PIL can read and show\n",
    "        the image.\n",
    "        Check here how CIFAR encodes the image http://www.cs.toronto.edu/~kriz/cifar.html\n",
    "    \"\"\"\n",
    "    \n",
    "    one_img = img_arr[index,:]\n",
    "    # Assume image size is 32 x 32. First 1024 px is r, next 1024 px is g, last 1024 px is b from the (r,g b) channel\n",
    "    r = one_img[:1024].reshape(32, 32)\n",
    "    g = one_img[1024:2048].reshape(32, 32)\n",
    "    b = one_img[2048:]. reshape(32, 32)\n",
    "    rgb = np.dstack([r, g, b])\n",
    "    img = Image.fromarray(np.array(rgb), 'RGB')\n",
    "    display(img)\n",
    "    print(label_fn(index, meta[label_arr[index][0]]))\n",
    "    \n",
    "\n",
    "for i in range(0, 10):\n",
    "    # show_img(sample_img_data, img_label, meta, i)\n",
    "    pass"
   ]
  },
  {
   "cell_type": "code",
   "execution_count": 128,
   "metadata": {},
   "outputs": [
    {
     "ename": "TypeError",
     "evalue": "can only concatenate list (not \"str\") to list",
     "output_type": "error",
     "traceback": [
      "\u001b[0;31m---------------------------------------------------------------------------\u001b[0m",
      "\u001b[0;31mTypeError\u001b[0m                                 Traceback (most recent call last)",
      "Input \u001b[0;32mIn [128]\u001b[0m, in \u001b[0;36m<cell line: 14>\u001b[0;34m()\u001b[0m\n\u001b[1;32m     12\u001b[0m     \u001b[38;5;28;01mreturn\u001b[39;00m gt \u001b[38;5;241m+\u001b[39m \u001b[38;5;124m'\u001b[39m\u001b[38;5;124m::\u001b[39m\u001b[38;5;124m'\u001b[39m \u001b[38;5;241m+\u001b[39m meta[YPred_soa[pred]]\n\u001b[1;32m     14\u001b[0m \u001b[38;5;28;01mfor\u001b[39;00m x \u001b[38;5;129;01min\u001b[39;00m \u001b[38;5;28mrange\u001b[39m(\u001b[38;5;241m0\u001b[39m, \u001b[38;5;28mlen\u001b[39m(YPred_soa)):\n\u001b[0;32m---> 15\u001b[0m     \u001b[43maccuracy\u001b[49m\u001b[43m(\u001b[49m\u001b[43mmeta\u001b[49m\u001b[43m,\u001b[49m\u001b[43m \u001b[49m\u001b[43mtest_label\u001b[49m\u001b[43m,\u001b[49m\u001b[43m \u001b[49m\u001b[43mx\u001b[49m\u001b[43m)\u001b[49m\n\u001b[1;32m     16\u001b[0m     show_img(sample_img_data, test_label, meta, x, label_fn\u001b[38;5;241m=\u001b[39mclass_acc)\n",
      "Input \u001b[0;32mIn [128]\u001b[0m, in \u001b[0;36maccuracy\u001b[0;34m(meta, test_label, x)\u001b[0m\n\u001b[1;32m      6\u001b[0m \u001b[38;5;28;01mdef\u001b[39;00m \u001b[38;5;21maccuracy\u001b[39m(meta, test_label, x):\n\u001b[0;32m----> 7\u001b[0m     \u001b[38;5;28mprint\u001b[39m(\u001b[43mmeta\u001b[49m\u001b[43m \u001b[49m\u001b[38;5;241;43m+\u001b[39;49m\u001b[43m \u001b[49m\u001b[38;5;124;43m'\u001b[39;49m\u001b[38;5;124;43m::\u001b[39;49m\u001b[38;5;124;43m'\u001b[39;49m \u001b[38;5;241m+\u001b[39m meta[YPred_soa[pred]])\n",
      "\u001b[0;31mTypeError\u001b[0m: can only concatenate list (not \"str\") to list"
     ]
    }
   ],
   "source": [
    "from sklearn.neighbors import KNeighborsClassifier\n",
    "neighbors = KNeighborsClassifier(n_neighbors=3, algorithm='brute').fit(img_data, img_label_orig)\n",
    "YPred_soa = neighbors.predict(sample_img_data)\n",
    "\n",
    "\n",
    "def accuracy(meta, test_label, x):\n",
    "    print(meta meta[YPred_soa[pred]])\n",
    "    \n",
    "# Exercise 2\n",
    "def class_acc(pred, gt):\n",
    "    _pred = meta[YPred_soa[pred]]\n",
    "    return gt + '::' + meta[YPred_soa[pred]]\n",
    "\n",
    "for x in range(0, len(YPred_soa)):\n",
    "    accuracy(meta, test_label, x)\n",
    "    show_img(sample_img_data, test_label, meta, x, label_fn=class_acc)\n"
   ]
  },
  {
   "cell_type": "code",
   "execution_count": null,
   "metadata": {},
   "outputs": [],
   "source": []
  }
 ],
 "metadata": {
  "anaconda-cloud": {},
  "kernelspec": {
   "display_name": "Python 3 (ipykernel)",
   "language": "python",
   "name": "python3"
  },
  "language_info": {
   "codemirror_mode": {
    "name": "ipython",
    "version": 3
   },
   "file_extension": ".py",
   "mimetype": "text/x-python",
   "name": "python",
   "nbconvert_exporter": "python",
   "pygments_lexer": "ipython3",
   "version": "3.9.12"
  }
 },
 "nbformat": 4,
 "nbformat_minor": 1
}
