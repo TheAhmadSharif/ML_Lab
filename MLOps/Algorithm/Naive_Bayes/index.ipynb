{
 "cells": [
  {
   "cell_type": "code",
   "execution_count": 1,
   "id": "11dd4898",
   "metadata": {},
   "outputs": [],
   "source": [
    "# 05 April 2023\n",
    "# Naive Bayes"
   ]
  },
  {
   "cell_type": "code",
   "execution_count": 7,
   "id": "9e2bceff",
   "metadata": {},
   "outputs": [
    {
     "name": "stdout",
     "output_type": "stream",
     "text": [
      "['send', 'us', 'your', 'password', 'review', 'our', 'website', 'send', 'your', 'password', 'send', 'us', 'your', 'account']\n",
      "['send', 'us', 'your', 'password', 'review', 'our', 'website', 'account']\n"
     ]
    }
   ],
   "source": [
    "train_spam = ['send us your password', 'review our website', 'send your password', 'send us your account']\n",
    "train_ham = ['Your activity report','benefits physical activity', 'the importance vows']\n",
    "test_emails = {'spam':['renew your password', 'renew your vows'], 'ham':['benefits of our account', 'the importance of physical activity']}\n",
    "                                                                         \n",
    "                                                                         \n",
    "                                                                         \n",
    "vocab_words_spam = []\n",
    "\n",
    "for sentence in train_spam:\n",
    "    sentence_as_list = sentence.split()\n",
    "    for word in sentence_as_list:\n",
    "        vocab_words_spam.append(word)     \n",
    "        \n",
    "print(vocab_words_spam)\n",
    "\n",
    "\n",
    "vocab_unique_words_spam = list(dict.fromkeys(vocab_words_spam))\n",
    "print(vocab_unique_words_spam)"
   ]
  }
 ],
 "metadata": {
  "kernelspec": {
   "display_name": "Python 3 (ipykernel)",
   "language": "python",
   "name": "python3"
  },
  "language_info": {
   "codemirror_mode": {
    "name": "ipython",
    "version": 3
   },
   "file_extension": ".py",
   "mimetype": "text/x-python",
   "name": "python",
   "nbconvert_exporter": "python",
   "pygments_lexer": "ipython3",
   "version": "3.10.9"
  }
 },
 "nbformat": 4,
 "nbformat_minor": 5
}
