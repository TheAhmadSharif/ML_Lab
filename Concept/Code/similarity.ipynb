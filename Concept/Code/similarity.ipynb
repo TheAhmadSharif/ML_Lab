{
 "cells": [
  {
   "cell_type": "code",
   "execution_count": 2,
   "id": "3b1b1f85",
   "metadata": {},
   "outputs": [],
   "source": [
    "import pandas as pd\n",
    "import numpy as np\n",
    "from numpy.linalg import norm\n",
    "from sklearn.metrics.pairwise import cosine_similarity"
   ]
  },
  {
   "cell_type": "code",
   "execution_count": 3,
   "id": "f61d9f6a",
   "metadata": {},
   "outputs": [
    {
     "data": {
      "text/html": [
       "<div>\n",
       "<style scoped>\n",
       "    .dataframe tbody tr th:only-of-type {\n",
       "        vertical-align: middle;\n",
       "    }\n",
       "\n",
       "    .dataframe tbody tr th {\n",
       "        vertical-align: top;\n",
       "    }\n",
       "\n",
       "    .dataframe thead th {\n",
       "        text-align: right;\n",
       "    }\n",
       "</style>\n",
       "<table border=\"1\" class=\"dataframe\">\n",
       "  <thead>\n",
       "    <tr style=\"text-align: right;\">\n",
       "      <th></th>\n",
       "      <th>movie1</th>\n",
       "      <th>movie2</th>\n",
       "      <th>movie3</th>\n",
       "    </tr>\n",
       "  </thead>\n",
       "  <tbody>\n",
       "    <tr>\n",
       "      <th>0</th>\n",
       "      <td>3</td>\n",
       "      <td>2</td>\n",
       "      <td>4</td>\n",
       "    </tr>\n",
       "    <tr>\n",
       "      <th>1</th>\n",
       "      <td>4</td>\n",
       "      <td>5</td>\n",
       "      <td>2</td>\n",
       "    </tr>\n",
       "    <tr>\n",
       "      <th>2</th>\n",
       "      <td>2</td>\n",
       "      <td>1</td>\n",
       "      <td>6</td>\n",
       "    </tr>\n",
       "  </tbody>\n",
       "</table>\n",
       "</div>"
      ],
      "text/plain": [
       "   movie1  movie2  movie3\n",
       "0       3       2       4\n",
       "1       4       5       2\n",
       "2       2       1       6"
      ]
     },
     "execution_count": 3,
     "metadata": {},
     "output_type": "execute_result"
    }
   ],
   "source": [
    "df = pd.DataFrame(np.array([[3, 2, 4], [4, 5, 2], [2, 1, 6]]),\n",
    "                   columns=['movie1', 'movie2', 'movie3'])\n",
    "df"
   ]
  },
  {
   "cell_type": "code",
   "execution_count": 4,
   "id": "431227ff",
   "metadata": {},
   "outputs": [
    {
     "data": {
      "text/plain": [
       "movie3    4.000000\n",
       "movie1    3.000000\n",
       "movie2    2.666667\n",
       "dtype: float64"
      ]
     },
     "execution_count": 4,
     "metadata": {},
     "output_type": "execute_result"
    }
   ],
   "source": [
    "recommended_movie = df.mean(axis = 0)\n",
    "recommended_movie.sort_values(ascending=False).head()"
   ]
  },
  {
   "cell_type": "code",
   "execution_count": 5,
   "id": "9407337a",
   "metadata": {},
   "outputs": [
    {
     "name": "stdout",
     "output_type": "stream",
     "text": [
      "A: [2 4 2]\n",
      "B: [-2 -4  2]\n",
      "Cosine Similarity:\n",
      " -0.6666666666666667\n",
      "   A  B\n",
      "0  1  2\n",
      "1  2  2\n"
     ]
    },
    {
     "data": {
      "text/plain": [
       "array([[1.       , 0.9486833],\n",
       "       [0.9486833, 1.       ]])"
      ]
     },
     "execution_count": 5,
     "metadata": {},
     "output_type": "execute_result"
    }
   ],
   "source": [
    "A = np.array([2,4,2])\n",
    "B = np.array([-2,-4,2])\n",
    "print(\"A:\", A)\n",
    "print(\"B:\", B)\n",
    "\n",
    "\n",
    "# compute cosine similarity\n",
    "cosine = np.dot(A,B)/(norm(A, axis=0)*norm(B))\n",
    "print(\"Cosine Similarity:\\n\", cosine)\n",
    "\n",
    "df = pd.DataFrame({\"A\": [1,2], \"B\":[2,2]})\n",
    "print(df)\n",
    "cosine_similarity(df)"
   ]
  },
  {
   "cell_type": "code",
   "execution_count": 6,
   "id": "10eace5e",
   "metadata": {},
   "outputs": [
    {
     "name": "stdout",
     "output_type": "stream",
     "text": [
      "   Sleeve  Quality\n",
      "0       1        4\n",
      "1       2        4\n"
     ]
    },
    {
     "data": {
      "text/plain": [
       "array([[1.        , 0.97618706],\n",
       "       [0.97618706, 1.        ]])"
      ]
     },
     "execution_count": 6,
     "metadata": {},
     "output_type": "execute_result"
    }
   ],
   "source": [
    "# Cosine Similarity\n",
    "from sklearn.metrics.pairwise import cosine_similarity\n",
    "\n",
    "data = {'Sleeve': [1, 2],\n",
    "        'Quality': [4, 4]}\n",
    "df = pd.DataFrame (data, columns = ['Sleeve','Quality'])\n",
    "print(df)\n",
    "similarity = cosine_similarity(df)\n",
    "similarity"
   ]
  }
 ],
 "metadata": {
  "kernelspec": {
   "display_name": "Python 3 (ipykernel)",
   "language": "python",
   "name": "python3"
  },
  "language_info": {
   "codemirror_mode": {
    "name": "ipython",
    "version": 3
   },
   "file_extension": ".py",
   "mimetype": "text/x-python",
   "name": "python",
   "nbconvert_exporter": "python",
   "pygments_lexer": "ipython3",
   "version": "3.9.12"
  }
 },
 "nbformat": 4,
 "nbformat_minor": 5
}
