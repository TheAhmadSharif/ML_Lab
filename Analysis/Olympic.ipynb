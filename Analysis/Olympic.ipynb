{
 "cells": [
  {
   "cell_type": "code",
   "execution_count": 25,
   "id": "c6989936-e418-4393-8ab4-9692ac2997b3",
   "metadata": {},
   "outputs": [],
   "source": [
    "# 25 May 2025"
   ]
  },
  {
   "cell_type": "markdown",
   "id": "8faa3292-5f10-48e0-b6f0-3905bb8a5fd9",
   "metadata": {},
   "source": [
    "<h1 style=\"line-height:3rem;\">Olympic</h1>"
   ]
  },
  {
   "cell_type": "code",
   "execution_count": 18,
   "id": "585e4481-b8df-48ed-8484-1d66f78bace4",
   "metadata": {},
   "outputs": [
    {
     "name": "stdout",
     "output_type": "stream",
     "text": [
      "Included countries found in dataset: ['Pakistan']\n"
     ]
    },
    {
     "data": {
      "application/vnd.plotly.v1+json": {
       "config": {
        "plotlyServerURL": "https://plot.ly"
       },
       "data": [
        {
         "alignmentgroup": "True",
         "hovertemplate": "medal=gold<br>country=%{x}<br>count=%{text}<extra></extra>",
         "legendgroup": "gold",
         "marker": {
          "color": "#636efa",
          "pattern": {
           "shape": ""
          }
         },
         "name": "gold",
         "offsetgroup": "gold",
         "orientation": "v",
         "showlegend": true,
         "text": [
          40,
          40,
          14,
          16,
          18,
          20,
          12,
          15,
          12,
          13,
          1
         ],
         "textposition": "auto",
         "type": "bar",
         "x": [
          "United States",
          "China",
          "Great Britain",
          "France",
          "Australia",
          "Japan",
          "Italy",
          "Netherlands",
          "Germany",
          "South Korea",
          "Pakistan"
         ],
         "xaxis": "x",
         "y": [
          40,
          40,
          14,
          16,
          18,
          20,
          12,
          15,
          12,
          13,
          1
         ],
         "yaxis": "y"
        },
        {
         "alignmentgroup": "True",
         "hovertemplate": "medal=silver<br>country=%{x}<br>count=%{text}<extra></extra>",
         "legendgroup": "silver",
         "marker": {
          "color": "#EF553B",
          "pattern": {
           "shape": ""
          }
         },
         "name": "silver",
         "offsetgroup": "silver",
         "orientation": "v",
         "showlegend": true,
         "text": [
          44,
          27,
          22,
          26,
          19,
          12,
          13,
          7,
          13,
          9,
          0
         ],
         "textposition": "auto",
         "type": "bar",
         "x": [
          "United States",
          "China",
          "Great Britain",
          "France",
          "Australia",
          "Japan",
          "Italy",
          "Netherlands",
          "Germany",
          "South Korea",
          "Pakistan"
         ],
         "xaxis": "x",
         "y": [
          44,
          27,
          22,
          26,
          19,
          12,
          13,
          7,
          13,
          9,
          0
         ],
         "yaxis": "y"
        },
        {
         "alignmentgroup": "True",
         "hovertemplate": "medal=bronze<br>country=%{x}<br>count=%{text}<extra></extra>",
         "legendgroup": "bronze",
         "marker": {
          "color": "#00cc96",
          "pattern": {
           "shape": ""
          }
         },
         "name": "bronze",
         "offsetgroup": "bronze",
         "orientation": "v",
         "showlegend": true,
         "text": [
          42,
          24,
          29,
          22,
          16,
          13,
          15,
          12,
          8,
          10,
          0
         ],
         "textposition": "auto",
         "type": "bar",
         "x": [
          "United States",
          "China",
          "Great Britain",
          "France",
          "Australia",
          "Japan",
          "Italy",
          "Netherlands",
          "Germany",
          "South Korea",
          "Pakistan"
         ],
         "xaxis": "x",
         "y": [
          42,
          24,
          29,
          22,
          16,
          13,
          15,
          12,
          8,
          10,
          0
         ],
         "yaxis": "y"
        }
       ],
       "layout": {
        "autosize": true,
        "barmode": "stack",
        "legend": {
         "title": {
          "text": "medal"
         },
         "tracegroupgap": 0
        },
        "template": {
         "data": {
          "bar": [
           {
            "error_x": {
             "color": "#2a3f5f"
            },
            "error_y": {
             "color": "#2a3f5f"
            },
            "marker": {
             "line": {
              "color": "#E5ECF6",
              "width": 0.5
             },
             "pattern": {
              "fillmode": "overlay",
              "size": 10,
              "solidity": 0.2
             }
            },
            "type": "bar"
           }
          ],
          "barpolar": [
           {
            "marker": {
             "line": {
              "color": "#E5ECF6",
              "width": 0.5
             },
             "pattern": {
              "fillmode": "overlay",
              "size": 10,
              "solidity": 0.2
             }
            },
            "type": "barpolar"
           }
          ],
          "carpet": [
           {
            "aaxis": {
             "endlinecolor": "#2a3f5f",
             "gridcolor": "white",
             "linecolor": "white",
             "minorgridcolor": "white",
             "startlinecolor": "#2a3f5f"
            },
            "baxis": {
             "endlinecolor": "#2a3f5f",
             "gridcolor": "white",
             "linecolor": "white",
             "minorgridcolor": "white",
             "startlinecolor": "#2a3f5f"
            },
            "type": "carpet"
           }
          ],
          "choropleth": [
           {
            "colorbar": {
             "outlinewidth": 0,
             "ticks": ""
            },
            "type": "choropleth"
           }
          ],
          "contour": [
           {
            "colorbar": {
             "outlinewidth": 0,
             "ticks": ""
            },
            "colorscale": [
             [
              0,
              "#0d0887"
             ],
             [
              0.1111111111111111,
              "#46039f"
             ],
             [
              0.2222222222222222,
              "#7201a8"
             ],
             [
              0.3333333333333333,
              "#9c179e"
             ],
             [
              0.4444444444444444,
              "#bd3786"
             ],
             [
              0.5555555555555556,
              "#d8576b"
             ],
             [
              0.6666666666666666,
              "#ed7953"
             ],
             [
              0.7777777777777778,
              "#fb9f3a"
             ],
             [
              0.8888888888888888,
              "#fdca26"
             ],
             [
              1,
              "#f0f921"
             ]
            ],
            "type": "contour"
           }
          ],
          "contourcarpet": [
           {
            "colorbar": {
             "outlinewidth": 0,
             "ticks": ""
            },
            "type": "contourcarpet"
           }
          ],
          "heatmap": [
           {
            "colorbar": {
             "outlinewidth": 0,
             "ticks": ""
            },
            "colorscale": [
             [
              0,
              "#0d0887"
             ],
             [
              0.1111111111111111,
              "#46039f"
             ],
             [
              0.2222222222222222,
              "#7201a8"
             ],
             [
              0.3333333333333333,
              "#9c179e"
             ],
             [
              0.4444444444444444,
              "#bd3786"
             ],
             [
              0.5555555555555556,
              "#d8576b"
             ],
             [
              0.6666666666666666,
              "#ed7953"
             ],
             [
              0.7777777777777778,
              "#fb9f3a"
             ],
             [
              0.8888888888888888,
              "#fdca26"
             ],
             [
              1,
              "#f0f921"
             ]
            ],
            "type": "heatmap"
           }
          ],
          "heatmapgl": [
           {
            "colorbar": {
             "outlinewidth": 0,
             "ticks": ""
            },
            "colorscale": [
             [
              0,
              "#0d0887"
             ],
             [
              0.1111111111111111,
              "#46039f"
             ],
             [
              0.2222222222222222,
              "#7201a8"
             ],
             [
              0.3333333333333333,
              "#9c179e"
             ],
             [
              0.4444444444444444,
              "#bd3786"
             ],
             [
              0.5555555555555556,
              "#d8576b"
             ],
             [
              0.6666666666666666,
              "#ed7953"
             ],
             [
              0.7777777777777778,
              "#fb9f3a"
             ],
             [
              0.8888888888888888,
              "#fdca26"
             ],
             [
              1,
              "#f0f921"
             ]
            ],
            "type": "heatmapgl"
           }
          ],
          "histogram": [
           {
            "marker": {
             "pattern": {
              "fillmode": "overlay",
              "size": 10,
              "solidity": 0.2
             }
            },
            "type": "histogram"
           }
          ],
          "histogram2d": [
           {
            "colorbar": {
             "outlinewidth": 0,
             "ticks": ""
            },
            "colorscale": [
             [
              0,
              "#0d0887"
             ],
             [
              0.1111111111111111,
              "#46039f"
             ],
             [
              0.2222222222222222,
              "#7201a8"
             ],
             [
              0.3333333333333333,
              "#9c179e"
             ],
             [
              0.4444444444444444,
              "#bd3786"
             ],
             [
              0.5555555555555556,
              "#d8576b"
             ],
             [
              0.6666666666666666,
              "#ed7953"
             ],
             [
              0.7777777777777778,
              "#fb9f3a"
             ],
             [
              0.8888888888888888,
              "#fdca26"
             ],
             [
              1,
              "#f0f921"
             ]
            ],
            "type": "histogram2d"
           }
          ],
          "histogram2dcontour": [
           {
            "colorbar": {
             "outlinewidth": 0,
             "ticks": ""
            },
            "colorscale": [
             [
              0,
              "#0d0887"
             ],
             [
              0.1111111111111111,
              "#46039f"
             ],
             [
              0.2222222222222222,
              "#7201a8"
             ],
             [
              0.3333333333333333,
              "#9c179e"
             ],
             [
              0.4444444444444444,
              "#bd3786"
             ],
             [
              0.5555555555555556,
              "#d8576b"
             ],
             [
              0.6666666666666666,
              "#ed7953"
             ],
             [
              0.7777777777777778,
              "#fb9f3a"
             ],
             [
              0.8888888888888888,
              "#fdca26"
             ],
             [
              1,
              "#f0f921"
             ]
            ],
            "type": "histogram2dcontour"
           }
          ],
          "mesh3d": [
           {
            "colorbar": {
             "outlinewidth": 0,
             "ticks": ""
            },
            "type": "mesh3d"
           }
          ],
          "parcoords": [
           {
            "line": {
             "colorbar": {
              "outlinewidth": 0,
              "ticks": ""
             }
            },
            "type": "parcoords"
           }
          ],
          "pie": [
           {
            "automargin": true,
            "type": "pie"
           }
          ],
          "scatter": [
           {
            "fillpattern": {
             "fillmode": "overlay",
             "size": 10,
             "solidity": 0.2
            },
            "type": "scatter"
           }
          ],
          "scatter3d": [
           {
            "line": {
             "colorbar": {
              "outlinewidth": 0,
              "ticks": ""
             }
            },
            "marker": {
             "colorbar": {
              "outlinewidth": 0,
              "ticks": ""
             }
            },
            "type": "scatter3d"
           }
          ],
          "scattercarpet": [
           {
            "marker": {
             "colorbar": {
              "outlinewidth": 0,
              "ticks": ""
             }
            },
            "type": "scattercarpet"
           }
          ],
          "scattergeo": [
           {
            "marker": {
             "colorbar": {
              "outlinewidth": 0,
              "ticks": ""
             }
            },
            "type": "scattergeo"
           }
          ],
          "scattergl": [
           {
            "marker": {
             "colorbar": {
              "outlinewidth": 0,
              "ticks": ""
             }
            },
            "type": "scattergl"
           }
          ],
          "scattermapbox": [
           {
            "marker": {
             "colorbar": {
              "outlinewidth": 0,
              "ticks": ""
             }
            },
            "type": "scattermapbox"
           }
          ],
          "scatterpolar": [
           {
            "marker": {
             "colorbar": {
              "outlinewidth": 0,
              "ticks": ""
             }
            },
            "type": "scatterpolar"
           }
          ],
          "scatterpolargl": [
           {
            "marker": {
             "colorbar": {
              "outlinewidth": 0,
              "ticks": ""
             }
            },
            "type": "scatterpolargl"
           }
          ],
          "scatterternary": [
           {
            "marker": {
             "colorbar": {
              "outlinewidth": 0,
              "ticks": ""
             }
            },
            "type": "scatterternary"
           }
          ],
          "surface": [
           {
            "colorbar": {
             "outlinewidth": 0,
             "ticks": ""
            },
            "colorscale": [
             [
              0,
              "#0d0887"
             ],
             [
              0.1111111111111111,
              "#46039f"
             ],
             [
              0.2222222222222222,
              "#7201a8"
             ],
             [
              0.3333333333333333,
              "#9c179e"
             ],
             [
              0.4444444444444444,
              "#bd3786"
             ],
             [
              0.5555555555555556,
              "#d8576b"
             ],
             [
              0.6666666666666666,
              "#ed7953"
             ],
             [
              0.7777777777777778,
              "#fb9f3a"
             ],
             [
              0.8888888888888888,
              "#fdca26"
             ],
             [
              1,
              "#f0f921"
             ]
            ],
            "type": "surface"
           }
          ],
          "table": [
           {
            "cells": {
             "fill": {
              "color": "#EBF0F8"
             },
             "line": {
              "color": "white"
             }
            },
            "header": {
             "fill": {
              "color": "#C8D4E3"
             },
             "line": {
              "color": "white"
             }
            },
            "type": "table"
           }
          ]
         },
         "layout": {
          "annotationdefaults": {
           "arrowcolor": "#2a3f5f",
           "arrowhead": 0,
           "arrowwidth": 1
          },
          "autotypenumbers": "strict",
          "coloraxis": {
           "colorbar": {
            "outlinewidth": 0,
            "ticks": ""
           }
          },
          "colorscale": {
           "diverging": [
            [
             0,
             "#8e0152"
            ],
            [
             0.1,
             "#c51b7d"
            ],
            [
             0.2,
             "#de77ae"
            ],
            [
             0.3,
             "#f1b6da"
            ],
            [
             0.4,
             "#fde0ef"
            ],
            [
             0.5,
             "#f7f7f7"
            ],
            [
             0.6,
             "#e6f5d0"
            ],
            [
             0.7,
             "#b8e186"
            ],
            [
             0.8,
             "#7fbc41"
            ],
            [
             0.9,
             "#4d9221"
            ],
            [
             1,
             "#276419"
            ]
           ],
           "sequential": [
            [
             0,
             "#0d0887"
            ],
            [
             0.1111111111111111,
             "#46039f"
            ],
            [
             0.2222222222222222,
             "#7201a8"
            ],
            [
             0.3333333333333333,
             "#9c179e"
            ],
            [
             0.4444444444444444,
             "#bd3786"
            ],
            [
             0.5555555555555556,
             "#d8576b"
            ],
            [
             0.6666666666666666,
             "#ed7953"
            ],
            [
             0.7777777777777778,
             "#fb9f3a"
            ],
            [
             0.8888888888888888,
             "#fdca26"
            ],
            [
             1,
             "#f0f921"
            ]
           ],
           "sequentialminus": [
            [
             0,
             "#0d0887"
            ],
            [
             0.1111111111111111,
             "#46039f"
            ],
            [
             0.2222222222222222,
             "#7201a8"
            ],
            [
             0.3333333333333333,
             "#9c179e"
            ],
            [
             0.4444444444444444,
             "#bd3786"
            ],
            [
             0.5555555555555556,
             "#d8576b"
            ],
            [
             0.6666666666666666,
             "#ed7953"
            ],
            [
             0.7777777777777778,
             "#fb9f3a"
            ],
            [
             0.8888888888888888,
             "#fdca26"
            ],
            [
             1,
             "#f0f921"
            ]
           ]
          },
          "colorway": [
           "#636efa",
           "#EF553B",
           "#00cc96",
           "#ab63fa",
           "#FFA15A",
           "#19d3f3",
           "#FF6692",
           "#B6E880",
           "#FF97FF",
           "#FECB52"
          ],
          "font": {
           "color": "#2a3f5f"
          },
          "geo": {
           "bgcolor": "white",
           "lakecolor": "white",
           "landcolor": "#E5ECF6",
           "showlakes": true,
           "showland": true,
           "subunitcolor": "white"
          },
          "hoverlabel": {
           "align": "left"
          },
          "hovermode": "closest",
          "mapbox": {
           "style": "light"
          },
          "paper_bgcolor": "white",
          "plot_bgcolor": "#E5ECF6",
          "polar": {
           "angularaxis": {
            "gridcolor": "white",
            "linecolor": "white",
            "ticks": ""
           },
           "bgcolor": "#E5ECF6",
           "radialaxis": {
            "gridcolor": "white",
            "linecolor": "white",
            "ticks": ""
           }
          },
          "scene": {
           "xaxis": {
            "backgroundcolor": "#E5ECF6",
            "gridcolor": "white",
            "gridwidth": 2,
            "linecolor": "white",
            "showbackground": true,
            "ticks": "",
            "zerolinecolor": "white"
           },
           "yaxis": {
            "backgroundcolor": "#E5ECF6",
            "gridcolor": "white",
            "gridwidth": 2,
            "linecolor": "white",
            "showbackground": true,
            "ticks": "",
            "zerolinecolor": "white"
           },
           "zaxis": {
            "backgroundcolor": "#E5ECF6",
            "gridcolor": "white",
            "gridwidth": 2,
            "linecolor": "white",
            "showbackground": true,
            "ticks": "",
            "zerolinecolor": "white"
           }
          },
          "shapedefaults": {
           "line": {
            "color": "#2a3f5f"
           }
          },
          "ternary": {
           "aaxis": {
            "gridcolor": "white",
            "linecolor": "white",
            "ticks": ""
           },
           "baxis": {
            "gridcolor": "white",
            "linecolor": "white",
            "ticks": ""
           },
           "bgcolor": "#E5ECF6",
           "caxis": {
            "gridcolor": "white",
            "linecolor": "white",
            "ticks": ""
           }
          },
          "title": {
           "x": 0.05
          },
          "xaxis": {
           "automargin": true,
           "gridcolor": "white",
           "linecolor": "white",
           "ticks": "",
           "title": {
            "standoff": 15
           },
           "zerolinecolor": "white",
           "zerolinewidth": 2
          },
          "yaxis": {
           "automargin": true,
           "gridcolor": "white",
           "linecolor": "white",
           "ticks": "",
           "title": {
            "standoff": 15
           },
           "zerolinecolor": "white",
           "zerolinewidth": 2
          }
         }
        },
        "title": {
         "text": "Top Countries by Olympic Medals (Gold, Silver, Bronze)"
        },
        "xaxis": {
         "anchor": "y",
         "autorange": true,
         "domain": [
          0,
          1
         ],
         "range": [
          -0.5,
          10.5
         ],
         "title": {
          "text": "Country"
         },
         "type": "category"
        },
        "yaxis": {
         "anchor": "x",
         "autorange": true,
         "domain": [
          0,
          1
         ],
         "range": [
          0,
          132.6315789473684
         ],
         "title": {
          "text": "Medal Count"
         },
         "type": "linear"
        }
       }
      },
      "image/png": "[encoded data removed]",
      "text/html": [
       "<div>                            <div id=\"cec90cc0-9205-4fa8-a694-68654bbc1509\" class=\"plotly-graph-div\" style=\"height:525px; width:100%;\"></div>            <script type=\"text/javascript\">                require([\"plotly\"], function(Plotly) {                    window.PLOTLYENV=window.PLOTLYENV || {};                                    if (document.getElementById(\"cec90cc0-9205-4fa8-a694-68654bbc1509\")) {                    Plotly.newPlot(                        \"cec90cc0-9205-4fa8-a694-68654bbc1509\",                        [{\"alignmentgroup\":\"True\",\"hovertemplate\":\"medal=gold\\u003cbr\\u003ecountry=%{x}\\u003cbr\\u003ecount=%{text}\\u003cextra\\u003e\\u003c\\u002fextra\\u003e\",\"legendgroup\":\"gold\",\"marker\":{\"color\":\"#636efa\",\"pattern\":{\"shape\":\"\"}},\"name\":\"gold\",\"offsetgroup\":\"gold\",\"orientation\":\"v\",\"showlegend\":true,\"text\":[40.0,40.0,14.0,16.0,18.0,20.0,12.0,15.0,12.0,13.0,1.0],\"textposition\":\"auto\",\"x\":[\"United States\",\"China\",\"Great Britain\",\"France\",\"Australia\",\"Japan\",\"Italy\",\"Netherlands\",\"Germany\",\"South Korea\",\"Pakistan\"],\"xaxis\":\"x\",\"y\":[40,40,14,16,18,20,12,15,12,13,1],\"yaxis\":\"y\",\"type\":\"bar\"},{\"alignmentgroup\":\"True\",\"hovertemplate\":\"medal=silver\\u003cbr\\u003ecountry=%{x}\\u003cbr\\u003ecount=%{text}\\u003cextra\\u003e\\u003c\\u002fextra\\u003e\",\"legendgroup\":\"silver\",\"marker\":{\"color\":\"#EF553B\",\"pattern\":{\"shape\":\"\"}},\"name\":\"silver\",\"offsetgroup\":\"silver\",\"orientation\":\"v\",\"showlegend\":true,\"text\":[44.0,27.0,22.0,26.0,19.0,12.0,13.0,7.0,13.0,9.0,0.0],\"textposition\":\"auto\",\"x\":[\"United States\",\"China\",\"Great Britain\",\"France\",\"Australia\",\"Japan\",\"Italy\",\"Netherlands\",\"Germany\",\"South Korea\",\"Pakistan\"],\"xaxis\":\"x\",\"y\":[44,27,22,26,19,12,13,7,13,9,0],\"yaxis\":\"y\",\"type\":\"bar\"},{\"alignmentgroup\":\"True\",\"hovertemplate\":\"medal=bronze\\u003cbr\\u003ecountry=%{x}\\u003cbr\\u003ecount=%{text}\\u003cextra\\u003e\\u003c\\u002fextra\\u003e\",\"legendgroup\":\"bronze\",\"marker\":{\"color\":\"#00cc96\",\"pattern\":{\"shape\":\"\"}},\"name\":\"bronze\",\"offsetgroup\":\"bronze\",\"orientation\":\"v\",\"showlegend\":true,\"text\":[42.0,24.0,29.0,22.0,16.0,13.0,15.0,12.0,8.0,10.0,0.0],\"textposition\":\"auto\",\"x\":[\"United States\",\"China\",\"Great Britain\",\"France\",\"Australia\",\"Japan\",\"Italy\",\"Netherlands\",\"Germany\",\"South Korea\",\"Pakistan\"],\"xaxis\":\"x\",\"y\":[42,24,29,22,16,13,15,12,8,10,0],\"yaxis\":\"y\",\"type\":\"bar\"}],                        {\"template\":{\"data\":{\"histogram2dcontour\":[{\"type\":\"histogram2dcontour\",\"colorbar\":{\"outlinewidth\":0,\"ticks\":\"\"},\"colorscale\":[[0.0,\"#0d0887\"],[0.1111111111111111,\"#46039f\"],[0.2222222222222222,\"#7201a8\"],[0.3333333333333333,\"#9c179e\"],[0.4444444444444444,\"#bd3786\"],[0.5555555555555556,\"#d8576b\"],[0.6666666666666666,\"#ed7953\"],[0.7777777777777778,\"#fb9f3a\"],[0.8888888888888888,\"#fdca26\"],[1.0,\"#f0f921\"]]}],\"choropleth\":[{\"type\":\"choropleth\",\"colorbar\":{\"outlinewidth\":0,\"ticks\":\"\"}}],\"histogram2d\":[{\"type\":\"histogram2d\",\"colorbar\":{\"outlinewidth\":0,\"ticks\":\"\"},\"colorscale\":[[0.0,\"#0d0887\"],[0.1111111111111111,\"#46039f\"],[0.2222222222222222,\"#7201a8\"],[0.3333333333333333,\"#9c179e\"],[0.4444444444444444,\"#bd3786\"],[0.5555555555555556,\"#d8576b\"],[0.6666666666666666,\"#ed7953\"],[0.7777777777777778,\"#fb9f3a\"],[0.8888888888888888,\"#fdca26\"],[1.0,\"#f0f921\"]]}],\"heatmap\":[{\"type\":\"heatmap\",\"colorbar\":{\"outlinewidth\":0,\"ticks\":\"\"},\"colorscale\":[[0.0,\"#0d0887\"],[0.1111111111111111,\"#46039f\"],[0.2222222222222222,\"#7201a8\"],[0.3333333333333333,\"#9c179e\"],[0.4444444444444444,\"#bd3786\"],[0.5555555555555556,\"#d8576b\"],[0.6666666666666666,\"#ed7953\"],[0.7777777777777778,\"#fb9f3a\"],[0.8888888888888888,\"#fdca26\"],[1.0,\"#f0f921\"]]}],\"heatmapgl\":[{\"type\":\"heatmapgl\",\"colorbar\":{\"outlinewidth\":0,\"ticks\":\"\"},\"colorscale\":[[0.0,\"#0d0887\"],[0.1111111111111111,\"#46039f\"],[0.2222222222222222,\"#7201a8\"],[0.3333333333333333,\"#9c179e\"],[0.4444444444444444,\"#bd3786\"],[0.5555555555555556,\"#d8576b\"],[0.6666666666666666,\"#ed7953\"],[0.7777777777777778,\"#fb9f3a\"],[0.8888888888888888,\"#fdca26\"],[1.0,\"#f0f921\"]]}],\"contourcarpet\":[{\"type\":\"contourcarpet\",\"colorbar\":{\"outlinewidth\":0,\"ticks\":\"\"}}],\"contour\":[{\"type\":\"contour\",\"colorbar\":{\"outlinewidth\":0,\"ticks\":\"\"},\"colorscale\":[[0.0,\"#0d0887\"],[0.1111111111111111,\"#46039f\"],[0.2222222222222222,\"#7201a8\"],[0.3333333333333333,\"#9c179e\"],[0.4444444444444444,\"#bd3786\"],[0.5555555555555556,\"#d8576b\"],[0.6666666666666666,\"#ed7953\"],[0.7777777777777778,\"#fb9f3a\"],[0.8888888888888888,\"#fdca26\"],[1.0,\"#f0f921\"]]}],\"surface\":[{\"type\":\"surface\",\"colorbar\":{\"outlinewidth\":0,\"ticks\":\"\"},\"colorscale\":[[0.0,\"#0d0887\"],[0.1111111111111111,\"#46039f\"],[0.2222222222222222,\"#7201a8\"],[0.3333333333333333,\"#9c179e\"],[0.4444444444444444,\"#bd3786\"],[0.5555555555555556,\"#d8576b\"],[0.6666666666666666,\"#ed7953\"],[0.7777777777777778,\"#fb9f3a\"],[0.8888888888888888,\"#fdca26\"],[1.0,\"#f0f921\"]]}],\"mesh3d\":[{\"type\":\"mesh3d\",\"colorbar\":{\"outlinewidth\":0,\"ticks\":\"\"}}],\"scatter\":[{\"fillpattern\":{\"fillmode\":\"overlay\",\"size\":10,\"solidity\":0.2},\"type\":\"scatter\"}],\"parcoords\":[{\"type\":\"parcoords\",\"line\":{\"colorbar\":{\"outlinewidth\":0,\"ticks\":\"\"}}}],\"scatterpolargl\":[{\"type\":\"scatterpolargl\",\"marker\":{\"colorbar\":{\"outlinewidth\":0,\"ticks\":\"\"}}}],\"bar\":[{\"error_x\":{\"color\":\"#2a3f5f\"},\"error_y\":{\"color\":\"#2a3f5f\"},\"marker\":{\"line\":{\"color\":\"#E5ECF6\",\"width\":0.5},\"pattern\":{\"fillmode\":\"overlay\",\"size\":10,\"solidity\":0.2}},\"type\":\"bar\"}],\"scattergeo\":[{\"type\":\"scattergeo\",\"marker\":{\"colorbar\":{\"outlinewidth\":0,\"ticks\":\"\"}}}],\"scatterpolar\":[{\"type\":\"scatterpolar\",\"marker\":{\"colorbar\":{\"outlinewidth\":0,\"ticks\":\"\"}}}],\"histogram\":[{\"marker\":{\"pattern\":{\"fillmode\":\"overlay\",\"size\":10,\"solidity\":0.2}},\"type\":\"histogram\"}],\"scattergl\":[{\"type\":\"scattergl\",\"marker\":{\"colorbar\":{\"outlinewidth\":0,\"ticks\":\"\"}}}],\"scatter3d\":[{\"type\":\"scatter3d\",\"line\":{\"colorbar\":{\"outlinewidth\":0,\"ticks\":\"\"}},\"marker\":{\"colorbar\":{\"outlinewidth\":0,\"ticks\":\"\"}}}],\"scattermapbox\":[{\"type\":\"scattermapbox\",\"marker\":{\"colorbar\":{\"outlinewidth\":0,\"ticks\":\"\"}}}],\"scatterternary\":[{\"type\":\"scatterternary\",\"marker\":{\"colorbar\":{\"outlinewidth\":0,\"ticks\":\"\"}}}],\"scattercarpet\":[{\"type\":\"scattercarpet\",\"marker\":{\"colorbar\":{\"outlinewidth\":0,\"ticks\":\"\"}}}],\"carpet\":[{\"aaxis\":{\"endlinecolor\":\"#2a3f5f\",\"gridcolor\":\"white\",\"linecolor\":\"white\",\"minorgridcolor\":\"white\",\"startlinecolor\":\"#2a3f5f\"},\"baxis\":{\"endlinecolor\":\"#2a3f5f\",\"gridcolor\":\"white\",\"linecolor\":\"white\",\"minorgridcolor\":\"white\",\"startlinecolor\":\"#2a3f5f\"},\"type\":\"carpet\"}],\"table\":[{\"cells\":{\"fill\":{\"color\":\"#EBF0F8\"},\"line\":{\"color\":\"white\"}},\"header\":{\"fill\":{\"color\":\"#C8D4E3\"},\"line\":{\"color\":\"white\"}},\"type\":\"table\"}],\"barpolar\":[{\"marker\":{\"line\":{\"color\":\"#E5ECF6\",\"width\":0.5},\"pattern\":{\"fillmode\":\"overlay\",\"size\":10,\"solidity\":0.2}},\"type\":\"barpolar\"}],\"pie\":[{\"automargin\":true,\"type\":\"pie\"}]},\"layout\":{\"autotypenumbers\":\"strict\",\"colorway\":[\"#636efa\",\"#EF553B\",\"#00cc96\",\"#ab63fa\",\"#FFA15A\",\"#19d3f3\",\"#FF6692\",\"#B6E880\",\"#FF97FF\",\"#FECB52\"],\"font\":{\"color\":\"#2a3f5f\"},\"hovermode\":\"closest\",\"hoverlabel\":{\"align\":\"left\"},\"paper_bgcolor\":\"white\",\"plot_bgcolor\":\"#E5ECF6\",\"polar\":{\"bgcolor\":\"#E5ECF6\",\"angularaxis\":{\"gridcolor\":\"white\",\"linecolor\":\"white\",\"ticks\":\"\"},\"radialaxis\":{\"gridcolor\":\"white\",\"linecolor\":\"white\",\"ticks\":\"\"}},\"ternary\":{\"bgcolor\":\"#E5ECF6\",\"aaxis\":{\"gridcolor\":\"white\",\"linecolor\":\"white\",\"ticks\":\"\"},\"baxis\":{\"gridcolor\":\"white\",\"linecolor\":\"white\",\"ticks\":\"\"},\"caxis\":{\"gridcolor\":\"white\",\"linecolor\":\"white\",\"ticks\":\"\"}},\"coloraxis\":{\"colorbar\":{\"outlinewidth\":0,\"ticks\":\"\"}},\"colorscale\":{\"sequential\":[[0.0,\"#0d0887\"],[0.1111111111111111,\"#46039f\"],[0.2222222222222222,\"#7201a8\"],[0.3333333333333333,\"#9c179e\"],[0.4444444444444444,\"#bd3786\"],[0.5555555555555556,\"#d8576b\"],[0.6666666666666666,\"#ed7953\"],[0.7777777777777778,\"#fb9f3a\"],[0.8888888888888888,\"#fdca26\"],[1.0,\"#f0f921\"]],\"sequentialminus\":[[0.0,\"#0d0887\"],[0.1111111111111111,\"#46039f\"],[0.2222222222222222,\"#7201a8\"],[0.3333333333333333,\"#9c179e\"],[0.4444444444444444,\"#bd3786\"],[0.5555555555555556,\"#d8576b\"],[0.6666666666666666,\"#ed7953\"],[0.7777777777777778,\"#fb9f3a\"],[0.8888888888888888,\"#fdca26\"],[1.0,\"#f0f921\"]],\"diverging\":[[0,\"#8e0152\"],[0.1,\"#c51b7d\"],[0.2,\"#de77ae\"],[0.3,\"#f1b6da\"],[0.4,\"#fde0ef\"],[0.5,\"#f7f7f7\"],[0.6,\"#e6f5d0\"],[0.7,\"#b8e186\"],[0.8,\"#7fbc41\"],[0.9,\"#4d9221\"],[1,\"#276419\"]]},\"xaxis\":{\"gridcolor\":\"white\",\"linecolor\":\"white\",\"ticks\":\"\",\"title\":{\"standoff\":15},\"zerolinecolor\":\"white\",\"automargin\":true,\"zerolinewidth\":2},\"yaxis\":{\"gridcolor\":\"white\",\"linecolor\":\"white\",\"ticks\":\"\",\"title\":{\"standoff\":15},\"zerolinecolor\":\"white\",\"automargin\":true,\"zerolinewidth\":2},\"scene\":{\"xaxis\":{\"backgroundcolor\":\"#E5ECF6\",\"gridcolor\":\"white\",\"linecolor\":\"white\",\"showbackground\":true,\"ticks\":\"\",\"zerolinecolor\":\"white\",\"gridwidth\":2},\"yaxis\":{\"backgroundcolor\":\"#E5ECF6\",\"gridcolor\":\"white\",\"linecolor\":\"white\",\"showbackground\":true,\"ticks\":\"\",\"zerolinecolor\":\"white\",\"gridwidth\":2},\"zaxis\":{\"backgroundcolor\":\"#E5ECF6\",\"gridcolor\":\"white\",\"linecolor\":\"white\",\"showbackground\":true,\"ticks\":\"\",\"zerolinecolor\":\"white\",\"gridwidth\":2}},\"shapedefaults\":{\"line\":{\"color\":\"#2a3f5f\"}},\"annotationdefaults\":{\"arrowcolor\":\"#2a3f5f\",\"arrowhead\":0,\"arrowwidth\":1},\"geo\":{\"bgcolor\":\"white\",\"landcolor\":\"#E5ECF6\",\"subunitcolor\":\"white\",\"showland\":true,\"showlakes\":true,\"lakecolor\":\"white\"},\"title\":{\"x\":0.05},\"mapbox\":{\"style\":\"light\"}}},\"xaxis\":{\"anchor\":\"y\",\"domain\":[0.0,1.0],\"title\":{\"text\":\"Country\"}},\"yaxis\":{\"anchor\":\"x\",\"domain\":[0.0,1.0],\"title\":{\"text\":\"Medal Count\"}},\"legend\":{\"title\":{\"text\":\"medal\"},\"tracegroupgap\":0},\"title\":{\"text\":\"Top Countries by Olympic Medals (Gold, Silver, Bronze)\"},\"barmode\":\"stack\"},                        {\"responsive\": true}                    ).then(function(){\n",
       "                            \n",
       "var gd = document.getElementById('cec90cc0-9205-4fa8-a694-68654bbc1509');\n",
       "var x = new MutationObserver(function (mutations, observer) {{\n",
       "        var display = window.getComputedStyle(gd).display;\n",
       "        if (!display || display === 'none') {{\n",
       "            console.log([gd, 'removed!']);\n",
       "            Plotly.purge(gd);\n",
       "            observer.disconnect();\n",
       "        }}\n",
       "}});\n",
       "\n",
       "// Listen for the removal of the full notebook cells\n",
       "var notebookContainer = gd.closest('#notebook-container');\n",
       "if (notebookContainer) {{\n",
       "    x.observe(notebookContainer, {childList: true});\n",
       "}}\n",
       "\n",
       "// Listen for the clearing of the current output cell\n",
       "var outputEl = gd.closest('.output');\n",
       "if (outputEl) {{\n",
       "    x.observe(outputEl, {childList: true});\n",
       "}}\n",
       "\n",
       "                        })                };                });            </script>        </div>"
      ]
     },
     "metadata": {},
     "output_type": "display_data"
    },
    {
     "data": {
      "text/html": [
       "<style type=\"text/css\">\n",
       "#T_3fb66_row0_col2, #T_3fb66_row0_col3, #T_3fb66_row0_col4, #T_3fb66_row0_col5, #T_3fb66_row1_col2 {\n",
       "  background-color: #662506;\n",
       "  color: #f1f1f1;\n",
       "}\n",
       "#T_3fb66_row1_col3 {\n",
       "  background-color: #ed7316;\n",
       "  color: #f1f1f1;\n",
       "}\n",
       "#T_3fb66_row1_col4 {\n",
       "  background-color: #f4811d;\n",
       "  color: #f1f1f1;\n",
       "}\n",
       "#T_3fb66_row1_col5 {\n",
       "  background-color: #d35406;\n",
       "  color: #f1f1f1;\n",
       "}\n",
       "#T_3fb66_row2_col2 {\n",
       "  background-color: #fece65;\n",
       "  color: #000000;\n",
       "}\n",
       "#T_3fb66_row2_col3 {\n",
       "  background-color: #fe9829;\n",
       "  color: #000000;\n",
       "}\n",
       "#T_3fb66_row2_col4 {\n",
       "  background-color: #db5d0b;\n",
       "  color: #f1f1f1;\n",
       "}\n",
       "#T_3fb66_row2_col5 {\n",
       "  background-color: #fc9427;\n",
       "  color: #000000;\n",
       "}\n",
       "#T_3fb66_row3_col2 {\n",
       "  background-color: #fec14c;\n",
       "  color: #000000;\n",
       "}\n",
       "#T_3fb66_row3_col3 {\n",
       "  background-color: #f17b1a;\n",
       "  color: #f1f1f1;\n",
       "}\n",
       "#T_3fb66_row3_col4 {\n",
       "  background-color: #fa9125;\n",
       "  color: #f1f1f1;\n",
       "}\n",
       "#T_3fb66_row3_col5 {\n",
       "  background-color: #fd9728;\n",
       "  color: #000000;\n",
       "}\n",
       "#T_3fb66_row4_col2 {\n",
       "  background-color: #feaf3d;\n",
       "  color: #000000;\n",
       "}\n",
       "#T_3fb66_row4_col3 {\n",
       "  background-color: #feb13e;\n",
       "  color: #000000;\n",
       "}\n",
       "#T_3fb66_row4_col4 {\n",
       "  background-color: #fec24d;\n",
       "  color: #000000;\n",
       "}\n",
       "#T_3fb66_row4_col5 {\n",
       "  background-color: #feb643;\n",
       "  color: #000000;\n",
       "}\n",
       "#T_3fb66_row5_col2 {\n",
       "  background-color: #fe9e2d;\n",
       "  color: #000000;\n",
       "}\n",
       "#T_3fb66_row5_col3 {\n",
       "  background-color: #fede86;\n",
       "  color: #000000;\n",
       "}\n",
       "#T_3fb66_row5_col4, #T_3fb66_row6_col5 {\n",
       "  background-color: #fed471;\n",
       "  color: #000000;\n",
       "}\n",
       "#T_3fb66_row5_col5 {\n",
       "  background-color: #fec95b;\n",
       "  color: #000000;\n",
       "}\n",
       "#T_3fb66_row6_col2, #T_3fb66_row8_col2 {\n",
       "  background-color: #fedb80;\n",
       "  color: #000000;\n",
       "}\n",
       "#T_3fb66_row6_col3, #T_3fb66_row8_col3 {\n",
       "  background-color: #fed87a;\n",
       "  color: #000000;\n",
       "}\n",
       "#T_3fb66_row6_col4, #T_3fb66_row7_col2 {\n",
       "  background-color: #fec859;\n",
       "  color: #000000;\n",
       "}\n",
       "#T_3fb66_row7_col3 {\n",
       "  background-color: #fff2b1;\n",
       "  color: #000000;\n",
       "}\n",
       "#T_3fb66_row7_col4 {\n",
       "  background-color: #feda7e;\n",
       "  color: #000000;\n",
       "}\n",
       "#T_3fb66_row7_col5 {\n",
       "  background-color: #fee08a;\n",
       "  color: #000000;\n",
       "}\n",
       "#T_3fb66_row8_col4 {\n",
       "  background-color: #feeda6;\n",
       "  color: #000000;\n",
       "}\n",
       "#T_3fb66_row8_col5 {\n",
       "  background-color: #fee28e;\n",
       "  color: #000000;\n",
       "}\n",
       "#T_3fb66_row9_col2 {\n",
       "  background-color: #fed573;\n",
       "  color: #000000;\n",
       "}\n",
       "#T_3fb66_row9_col3 {\n",
       "  background-color: #feeaa1;\n",
       "  color: #000000;\n",
       "}\n",
       "#T_3fb66_row9_col4 {\n",
       "  background-color: #fee596;\n",
       "  color: #000000;\n",
       "}\n",
       "#T_3fb66_row9_col5 {\n",
       "  background-color: #fee392;\n",
       "  color: #000000;\n",
       "}\n",
       "#T_3fb66_row10_col2, #T_3fb66_row10_col3, #T_3fb66_row10_col4, #T_3fb66_row10_col5 {\n",
       "  background-color: #ffffe5;\n",
       "  color: #000000;\n",
       "}\n",
       "</style>\n",
       "<table id=\"T_3fb66\">\n",
       "  <thead>\n",
       "    <tr>\n",
       "      <th class=\"blank level0\" >&nbsp;</th>\n",
       "      <th id=\"T_3fb66_level0_col0\" class=\"col_heading level0 col0\" >country</th>\n",
       "      <th id=\"T_3fb66_level0_col1\" class=\"col_heading level0 col1\" >country_code</th>\n",
       "      <th id=\"T_3fb66_level0_col2\" class=\"col_heading level0 col2\" >gold</th>\n",
       "      <th id=\"T_3fb66_level0_col3\" class=\"col_heading level0 col3\" >silver</th>\n",
       "      <th id=\"T_3fb66_level0_col4\" class=\"col_heading level0 col4\" >bronze</th>\n",
       "      <th id=\"T_3fb66_level0_col5\" class=\"col_heading level0 col5\" >total</th>\n",
       "      <th id=\"T_3fb66_level0_col6\" class=\"col_heading level0 col6\" >gdp</th>\n",
       "      <th id=\"T_3fb66_level0_col7\" class=\"col_heading level0 col7\" >gdp_year</th>\n",
       "      <th id=\"T_3fb66_level0_col8\" class=\"col_heading level0 col8\" >population</th>\n",
       "    </tr>\n",
       "  </thead>\n",
       "  <tbody>\n",
       "    <tr>\n",
       "      <th id=\"T_3fb66_level0_row0\" class=\"row_heading level0 row0\" >0</th>\n",
       "      <td id=\"T_3fb66_row0_col0\" class=\"data row0 col0\" >United States</td>\n",
       "      <td id=\"T_3fb66_row0_col1\" class=\"data row0 col1\" >USA</td>\n",
       "      <td id=\"T_3fb66_row0_col2\" class=\"data row0 col2\" >40</td>\n",
       "      <td id=\"T_3fb66_row0_col3\" class=\"data row0 col3\" >44</td>\n",
       "      <td id=\"T_3fb66_row0_col4\" class=\"data row0 col4\" >42</td>\n",
       "      <td id=\"T_3fb66_row0_col5\" class=\"data row0 col5\" >126</td>\n",
       "      <td id=\"T_3fb66_row0_col6\" class=\"data row0 col6\" >81695.190000</td>\n",
       "      <td id=\"T_3fb66_row0_col7\" class=\"data row0 col7\" >2023</td>\n",
       "      <td id=\"T_3fb66_row0_col8\" class=\"data row0 col8\" >334.900000</td>\n",
       "    </tr>\n",
       "    <tr>\n",
       "      <th id=\"T_3fb66_level0_row1\" class=\"row_heading level0 row1\" >1</th>\n",
       "      <td id=\"T_3fb66_row1_col0\" class=\"data row1 col0\" >China</td>\n",
       "      <td id=\"T_3fb66_row1_col1\" class=\"data row1 col1\" >CHN</td>\n",
       "      <td id=\"T_3fb66_row1_col2\" class=\"data row1 col2\" >40</td>\n",
       "      <td id=\"T_3fb66_row1_col3\" class=\"data row1 col3\" >27</td>\n",
       "      <td id=\"T_3fb66_row1_col4\" class=\"data row1 col4\" >24</td>\n",
       "      <td id=\"T_3fb66_row1_col5\" class=\"data row1 col5\" >91</td>\n",
       "      <td id=\"T_3fb66_row1_col6\" class=\"data row1 col6\" >12614.060000</td>\n",
       "      <td id=\"T_3fb66_row1_col7\" class=\"data row1 col7\" >2023</td>\n",
       "      <td id=\"T_3fb66_row1_col8\" class=\"data row1 col8\" >1410.700000</td>\n",
       "    </tr>\n",
       "    <tr>\n",
       "      <th id=\"T_3fb66_level0_row2\" class=\"row_heading level0 row2\" >2</th>\n",
       "      <td id=\"T_3fb66_row2_col0\" class=\"data row2 col0\" >Great Britain</td>\n",
       "      <td id=\"T_3fb66_row2_col1\" class=\"data row2 col1\" >GBR</td>\n",
       "      <td id=\"T_3fb66_row2_col2\" class=\"data row2 col2\" >14</td>\n",
       "      <td id=\"T_3fb66_row2_col3\" class=\"data row2 col3\" >22</td>\n",
       "      <td id=\"T_3fb66_row2_col4\" class=\"data row2 col4\" >29</td>\n",
       "      <td id=\"T_3fb66_row2_col5\" class=\"data row2 col5\" >65</td>\n",
       "      <td id=\"T_3fb66_row2_col6\" class=\"data row2 col6\" >48866.600000</td>\n",
       "      <td id=\"T_3fb66_row2_col7\" class=\"data row2 col7\" >2023</td>\n",
       "      <td id=\"T_3fb66_row2_col8\" class=\"data row2 col8\" >68.300000</td>\n",
       "    </tr>\n",
       "    <tr>\n",
       "      <th id=\"T_3fb66_level0_row3\" class=\"row_heading level0 row3\" >3</th>\n",
       "      <td id=\"T_3fb66_row3_col0\" class=\"data row3 col0\" >France</td>\n",
       "      <td id=\"T_3fb66_row3_col1\" class=\"data row3 col1\" >FRA</td>\n",
       "      <td id=\"T_3fb66_row3_col2\" class=\"data row3 col2\" >16</td>\n",
       "      <td id=\"T_3fb66_row3_col3\" class=\"data row3 col3\" >26</td>\n",
       "      <td id=\"T_3fb66_row3_col4\" class=\"data row3 col4\" >22</td>\n",
       "      <td id=\"T_3fb66_row3_col5\" class=\"data row3 col5\" >64</td>\n",
       "      <td id=\"T_3fb66_row3_col6\" class=\"data row3 col6\" >44460.820000</td>\n",
       "      <td id=\"T_3fb66_row3_col7\" class=\"data row3 col7\" >2023</td>\n",
       "      <td id=\"T_3fb66_row3_col8\" class=\"data row3 col8\" >68.200000</td>\n",
       "    </tr>\n",
       "    <tr>\n",
       "      <th id=\"T_3fb66_level0_row4\" class=\"row_heading level0 row4\" >4</th>\n",
       "      <td id=\"T_3fb66_row4_col0\" class=\"data row4 col0\" >Australia</td>\n",
       "      <td id=\"T_3fb66_row4_col1\" class=\"data row4 col1\" >AUS</td>\n",
       "      <td id=\"T_3fb66_row4_col2\" class=\"data row4 col2\" >18</td>\n",
       "      <td id=\"T_3fb66_row4_col3\" class=\"data row4 col3\" >19</td>\n",
       "      <td id=\"T_3fb66_row4_col4\" class=\"data row4 col4\" >16</td>\n",
       "      <td id=\"T_3fb66_row4_col5\" class=\"data row4 col5\" >53</td>\n",
       "      <td id=\"T_3fb66_row4_col6\" class=\"data row4 col6\" >64711.770000</td>\n",
       "      <td id=\"T_3fb66_row4_col7\" class=\"data row4 col7\" >2023</td>\n",
       "      <td id=\"T_3fb66_row4_col8\" class=\"data row4 col8\" >26.600000</td>\n",
       "    </tr>\n",
       "    <tr>\n",
       "      <th id=\"T_3fb66_level0_row5\" class=\"row_heading level0 row5\" >5</th>\n",
       "      <td id=\"T_3fb66_row5_col0\" class=\"data row5 col0\" >Japan</td>\n",
       "      <td id=\"T_3fb66_row5_col1\" class=\"data row5 col1\" >JPN</td>\n",
       "      <td id=\"T_3fb66_row5_col2\" class=\"data row5 col2\" >20</td>\n",
       "      <td id=\"T_3fb66_row5_col3\" class=\"data row5 col3\" >12</td>\n",
       "      <td id=\"T_3fb66_row5_col4\" class=\"data row5 col4\" >13</td>\n",
       "      <td id=\"T_3fb66_row5_col5\" class=\"data row5 col5\" >45</td>\n",
       "      <td id=\"T_3fb66_row5_col6\" class=\"data row5 col6\" >33834.390000</td>\n",
       "      <td id=\"T_3fb66_row5_col7\" class=\"data row5 col7\" >2023</td>\n",
       "      <td id=\"T_3fb66_row5_col8\" class=\"data row5 col8\" >124.500000</td>\n",
       "    </tr>\n",
       "    <tr>\n",
       "      <th id=\"T_3fb66_level0_row6\" class=\"row_heading level0 row6\" >6</th>\n",
       "      <td id=\"T_3fb66_row6_col0\" class=\"data row6 col0\" >Italy</td>\n",
       "      <td id=\"T_3fb66_row6_col1\" class=\"data row6 col1\" >ITA</td>\n",
       "      <td id=\"T_3fb66_row6_col2\" class=\"data row6 col2\" >12</td>\n",
       "      <td id=\"T_3fb66_row6_col3\" class=\"data row6 col3\" >13</td>\n",
       "      <td id=\"T_3fb66_row6_col4\" class=\"data row6 col4\" >15</td>\n",
       "      <td id=\"T_3fb66_row6_col5\" class=\"data row6 col5\" >40</td>\n",
       "      <td id=\"T_3fb66_row6_col6\" class=\"data row6 col6\" >38373.170000</td>\n",
       "      <td id=\"T_3fb66_row6_col7\" class=\"data row6 col7\" >2023</td>\n",
       "      <td id=\"T_3fb66_row6_col8\" class=\"data row6 col8\" >58.800000</td>\n",
       "    </tr>\n",
       "    <tr>\n",
       "      <th id=\"T_3fb66_level0_row7\" class=\"row_heading level0 row7\" >7</th>\n",
       "      <td id=\"T_3fb66_row7_col0\" class=\"data row7 col0\" >Netherlands</td>\n",
       "      <td id=\"T_3fb66_row7_col1\" class=\"data row7 col1\" >NLD</td>\n",
       "      <td id=\"T_3fb66_row7_col2\" class=\"data row7 col2\" >15</td>\n",
       "      <td id=\"T_3fb66_row7_col3\" class=\"data row7 col3\" >7</td>\n",
       "      <td id=\"T_3fb66_row7_col4\" class=\"data row7 col4\" >12</td>\n",
       "      <td id=\"T_3fb66_row7_col5\" class=\"data row7 col5\" >34</td>\n",
       "      <td id=\"T_3fb66_row7_col6\" class=\"data row7 col6\" >62536.730000</td>\n",
       "      <td id=\"T_3fb66_row7_col7\" class=\"data row7 col7\" >2023</td>\n",
       "      <td id=\"T_3fb66_row7_col8\" class=\"data row7 col8\" >17.900000</td>\n",
       "    </tr>\n",
       "    <tr>\n",
       "      <th id=\"T_3fb66_level0_row8\" class=\"row_heading level0 row8\" >8</th>\n",
       "      <td id=\"T_3fb66_row8_col0\" class=\"data row8 col0\" >Germany</td>\n",
       "      <td id=\"T_3fb66_row8_col1\" class=\"data row8 col1\" >DEU</td>\n",
       "      <td id=\"T_3fb66_row8_col2\" class=\"data row8 col2\" >12</td>\n",
       "      <td id=\"T_3fb66_row8_col3\" class=\"data row8 col3\" >13</td>\n",
       "      <td id=\"T_3fb66_row8_col4\" class=\"data row8 col4\" >8</td>\n",
       "      <td id=\"T_3fb66_row8_col5\" class=\"data row8 col5\" >33</td>\n",
       "      <td id=\"T_3fb66_row8_col6\" class=\"data row8 col6\" >52745.760000</td>\n",
       "      <td id=\"T_3fb66_row8_col7\" class=\"data row8 col7\" >2023</td>\n",
       "      <td id=\"T_3fb66_row8_col8\" class=\"data row8 col8\" >84.500000</td>\n",
       "    </tr>\n",
       "    <tr>\n",
       "      <th id=\"T_3fb66_level0_row9\" class=\"row_heading level0 row9\" >9</th>\n",
       "      <td id=\"T_3fb66_row9_col0\" class=\"data row9 col0\" >South Korea</td>\n",
       "      <td id=\"T_3fb66_row9_col1\" class=\"data row9 col1\" >KOR</td>\n",
       "      <td id=\"T_3fb66_row9_col2\" class=\"data row9 col2\" >13</td>\n",
       "      <td id=\"T_3fb66_row9_col3\" class=\"data row9 col3\" >9</td>\n",
       "      <td id=\"T_3fb66_row9_col4\" class=\"data row9 col4\" >10</td>\n",
       "      <td id=\"T_3fb66_row9_col5\" class=\"data row9 col5\" >32</td>\n",
       "      <td id=\"T_3fb66_row9_col6\" class=\"data row9 col6\" >33121.370000</td>\n",
       "      <td id=\"T_3fb66_row9_col7\" class=\"data row9 col7\" >2023</td>\n",
       "      <td id=\"T_3fb66_row9_col8\" class=\"data row9 col8\" >51.700000</td>\n",
       "    </tr>\n",
       "    <tr>\n",
       "      <th id=\"T_3fb66_level0_row10\" class=\"row_heading level0 row10\" >10</th>\n",
       "      <td id=\"T_3fb66_row10_col0\" class=\"data row10 col0\" >Pakistan</td>\n",
       "      <td id=\"T_3fb66_row10_col1\" class=\"data row10 col1\" >PAK</td>\n",
       "      <td id=\"T_3fb66_row10_col2\" class=\"data row10 col2\" >1</td>\n",
       "      <td id=\"T_3fb66_row10_col3\" class=\"data row10 col3\" >0</td>\n",
       "      <td id=\"T_3fb66_row10_col4\" class=\"data row10 col4\" >0</td>\n",
       "      <td id=\"T_3fb66_row10_col5\" class=\"data row10 col5\" >1</td>\n",
       "      <td id=\"T_3fb66_row10_col6\" class=\"data row10 col6\" >1407.020000</td>\n",
       "      <td id=\"T_3fb66_row10_col7\" class=\"data row10 col7\" >2023</td>\n",
       "      <td id=\"T_3fb66_row10_col8\" class=\"data row10 col8\" >240.500000</td>\n",
       "    </tr>\n",
       "  </tbody>\n",
       "</table>\n"
      ],
      "text/plain": [
       "<pandas.io.formats.style.Styler at 0x7bb8fd90ec30>"
      ]
     },
     "execution_count": 18,
     "metadata": {},
     "output_type": "execute_result"
    }
   ],
   "source": [
    "import pandas as pd\n",
    "import os\n",
    "import plotly.express as px\n",
    "\n",
    "def load_olympics_data():\n",
    "    env_name = os.environ.get('KAGGLE_KERNEL_RUN_TYPE', 'Localhost')\n",
    "    if env_name == \"Localhost\":\n",
    "        df = pd.read_csv('../datasets/New/olympics-economics.csv', low_memory=False)\n",
    "    else:\n",
    "        df = pd.read_csv(\"/kaggle/input/olympics/olympics-economics.csv\")\n",
    "    return df\n",
    "\n",
    "def get_top_medal_countries(df, top_n=10, include_countries=None):\n",
    "    # Standardize country column name\n",
    "    if 'country' not in df.columns:\n",
    "        for col in df.columns:\n",
    "            if col.lower() == 'country':\n",
    "                df.rename(columns={col: 'country'}, inplace=True)\n",
    "                break\n",
    "    \n",
    "    # Clean country names\n",
    "    df['country'] = df['country'].str.strip()\n",
    "\n",
    "    # Compute total medals\n",
    "    df['total'] = df['gold'] + df['silver'] + df['bronze']\n",
    "    top_df = df.sort_values(by='total', ascending=False).head(top_n)\n",
    "\n",
    "    # Always include specified countries\n",
    "    if include_countries:\n",
    "        include_countries_clean = [c.strip() for c in include_countries]\n",
    "        extra_df = df[df['country'].isin(include_countries_clean)]\n",
    "        \n",
    "        # Debugging output\n",
    "        print(\"Included countries found in dataset:\", extra_df['country'].tolist())\n",
    "        \n",
    "        combined_df = pd.concat([top_df, extra_df]).drop_duplicates(subset='country')\n",
    "        combined_df = combined_df.sort_values(by='total', ascending=False).reset_index(drop=True)\n",
    "    else:\n",
    "        combined_df = top_df.reset_index(drop=True)\n",
    "\n",
    "    return combined_df\n",
    "\n",
    "def plot_medals_bar_chart(df):\n",
    "    df_melted = df.melt(id_vars='country', value_vars=['gold', 'silver', 'bronze'],\n",
    "                        var_name='medal', value_name='count')\n",
    "    fig = px.bar(df_melted,\n",
    "                 x='country',\n",
    "                 y='count',\n",
    "                 color='medal',\n",
    "                 title='Top Countries by Olympic Medals (Gold, Silver, Bronze)',\n",
    "                 text='count')\n",
    "    fig.update_layout(barmode='stack', xaxis_title='Country', yaxis_title='Medal Count')\n",
    "    fig.show()\n",
    "\n",
    "def style_gradient_table(df):\n",
    "    return df.style.background_gradient(subset=['gold', 'silver', 'bronze', 'total'], cmap='YlOrBr')\n",
    "\n",
    "# ---------------------\n",
    "# Main Execution\n",
    "# ---------------------\n",
    "\n",
    "df_olympics = load_olympics_data()\n",
    "\n",
    "include_countries = [\"Finland\", \"Pakistan\"]\n",
    "top_medal_df = get_top_medal_countries(df_olympics, top_n=10, include_countries=include_countries)\n",
    "\n",
    "plot_medals_bar_chart(top_medal_df)\n",
    "\n",
    "styled_table = style_gradient_table(top_medal_df)\n",
    "styled_table\n"
   ]
  },
  {
   "cell_type": "code",
   "execution_count": 20,
   "id": "b3860f32-1f51-4500-ab88-12874ca1915b",
   "metadata": {},
   "outputs": [
    {
     "data": {
      "application/vnd.plotly.v1+json": {
       "config": {
        "plotlyServerURL": "https://plot.ly"
       },
       "data": [
        {
         "hovertemplate": "<b>%{hovertext}</b><br><br>country=%{text}<br>GDP (in billions USD)=%{x}<br>Total Medals=%{marker.size}<extra></extra>",
         "hovertext": [
          "Ireland"
         ],
         "legendgroup": "Ireland",
         "marker": {
          "color": "#636efa",
          "size": [
           7
          ],
          "sizemode": "area",
          "sizeref": 0.315,
          "symbol": "circle"
         },
         "mode": "markers+text",
         "name": "Ireland",
         "orientation": "v",
         "showlegend": true,
         "text": [
          "Ireland"
         ],
         "textposition": "top center",
         "type": "scatter",
         "x": [
          103684.88
         ],
         "xaxis": "x",
         "y": [
          7
         ],
         "yaxis": "y"
        },
        {
         "hovertemplate": "<b>%{hovertext}</b><br><br>country=%{text}<br>GDP (in billions USD)=%{x}<br>Total Medals=%{marker.size}<extra></extra>",
         "hovertext": [
          "Switzerland"
         ],
         "legendgroup": "Switzerland",
         "marker": {
          "color": "#EF553B",
          "size": [
           8
          ],
          "sizemode": "area",
          "sizeref": 0.315,
          "symbol": "circle"
         },
         "mode": "markers+text",
         "name": "Switzerland",
         "orientation": "v",
         "showlegend": true,
         "text": [
          "Switzerland"
         ],
         "textposition": "top center",
         "type": "scatter",
         "x": [
          99994.94
         ],
         "xaxis": "x",
         "y": [
          8
         ],
         "yaxis": "y"
        },
        {
         "hovertemplate": "<b>%{hovertext}</b><br><br>country=%{text}<br>GDP (in billions USD)=%{x}<br>Total Medals=%{marker.size}<extra></extra>",
         "hovertext": [
          "Norway"
         ],
         "legendgroup": "Norway",
         "marker": {
          "color": "#00cc96",
          "size": [
           8
          ],
          "sizemode": "area",
          "sizeref": 0.315,
          "symbol": "circle"
         },
         "mode": "markers+text",
         "name": "Norway",
         "orientation": "v",
         "showlegend": true,
         "text": [
          "Norway"
         ],
         "textposition": "top center",
         "type": "scatter",
         "x": [
          87961.78
         ],
         "xaxis": "x",
         "y": [
          8
         ],
         "yaxis": "y"
        },
        {
         "hovertemplate": "<b>%{hovertext}</b><br><br>country=%{text}<br>GDP (in billions USD)=%{x}<br>Total Medals=%{marker.size}<extra></extra>",
         "hovertext": [
          "Qatar"
         ],
         "legendgroup": "Qatar",
         "marker": {
          "color": "#ab63fa",
          "size": [
           1
          ],
          "sizemode": "area",
          "sizeref": 0.315,
          "symbol": "circle"
         },
         "mode": "markers+text",
         "name": "Qatar",
         "orientation": "v",
         "showlegend": true,
         "text": [
          "Qatar"
         ],
         "textposition": "top center",
         "type": "scatter",
         "x": [
          87480.42
         ],
         "xaxis": "x",
         "y": [
          1
         ],
         "yaxis": "y"
        },
        {
         "hovertemplate": "<b>%{hovertext}</b><br><br>country=%{text}<br>GDP (in billions USD)=%{x}<br>Total Medals=%{marker.size}<extra></extra>",
         "hovertext": [
          "Singapore"
         ],
         "legendgroup": "Singapore",
         "marker": {
          "color": "#FFA15A",
          "size": [
           1
          ],
          "sizemode": "area",
          "sizeref": 0.315,
          "symbol": "circle"
         },
         "mode": "markers+text",
         "name": "Singapore",
         "orientation": "v",
         "showlegend": true,
         "text": [
          "Singapore"
         ],
         "textposition": "top center",
         "type": "scatter",
         "x": [
          84734.26
         ],
         "xaxis": "x",
         "y": [
          1
         ],
         "yaxis": "y"
        },
        {
         "hovertemplate": "<b>%{hovertext}</b><br><br>country=%{text}<br>GDP (in billions USD)=%{x}<br>Total Medals=%{marker.size}<extra></extra>",
         "hovertext": [
          "United States"
         ],
         "legendgroup": "United States",
         "marker": {
          "color": "#19d3f3",
          "size": [
           126
          ],
          "sizemode": "area",
          "sizeref": 0.315,
          "symbol": "circle"
         },
         "mode": "markers+text",
         "name": "United States",
         "orientation": "v",
         "showlegend": true,
         "text": [
          "United States"
         ],
         "textposition": "top center",
         "type": "scatter",
         "x": [
          81695.19
         ],
         "xaxis": "x",
         "y": [
          126
         ],
         "yaxis": "y"
        },
        {
         "hovertemplate": "<b>%{hovertext}</b><br><br>country=%{text}<br>GDP (in billions USD)=%{x}<br>Total Medals=%{marker.size}<extra></extra>",
         "hovertext": [
          "Denmark"
         ],
         "legendgroup": "Denmark",
         "marker": {
          "color": "#FF6692",
          "size": [
           9
          ],
          "sizemode": "area",
          "sizeref": 0.315,
          "symbol": "circle"
         },
         "mode": "markers+text",
         "name": "Denmark",
         "orientation": "v",
         "showlegend": true,
         "text": [
          "Denmark"
         ],
         "textposition": "top center",
         "type": "scatter",
         "x": [
          67967.38
         ],
         "xaxis": "x",
         "y": [
          9
         ],
         "yaxis": "y"
        },
        {
         "hovertemplate": "<b>%{hovertext}</b><br><br>country=%{text}<br>GDP (in billions USD)=%{x}<br>Total Medals=%{marker.size}<extra></extra>",
         "hovertext": [
          "Australia"
         ],
         "legendgroup": "Australia",
         "marker": {
          "color": "#B6E880",
          "size": [
           53
          ],
          "sizemode": "area",
          "sizeref": 0.315,
          "symbol": "circle"
         },
         "mode": "markers+text",
         "name": "Australia",
         "orientation": "v",
         "showlegend": true,
         "text": [
          "Australia"
         ],
         "textposition": "top center",
         "type": "scatter",
         "x": [
          64711.77
         ],
         "xaxis": "x",
         "y": [
          53
         ],
         "yaxis": "y"
        },
        {
         "hovertemplate": "<b>%{hovertext}</b><br><br>country=%{text}<br>GDP (in billions USD)=%{x}<br>Total Medals=%{marker.size}<extra></extra>",
         "hovertext": [
          "Netherlands"
         ],
         "legendgroup": "Netherlands",
         "marker": {
          "color": "#FF97FF",
          "size": [
           34
          ],
          "sizemode": "area",
          "sizeref": 0.315,
          "symbol": "circle"
         },
         "mode": "markers+text",
         "name": "Netherlands",
         "orientation": "v",
         "showlegend": true,
         "text": [
          "Netherlands"
         ],
         "textposition": "top center",
         "type": "scatter",
         "x": [
          62536.73
         ],
         "xaxis": "x",
         "y": [
          34
         ],
         "yaxis": "y"
        },
        {
         "hovertemplate": "<b>%{hovertext}</b><br><br>country=%{text}<br>GDP (in billions USD)=%{x}<br>Total Medals=%{marker.size}<extra></extra>",
         "hovertext": [
          "Austria"
         ],
         "legendgroup": "Austria",
         "marker": {
          "color": "#FECB52",
          "size": [
           5
          ],
          "sizemode": "area",
          "sizeref": 0.315,
          "symbol": "circle"
         },
         "mode": "markers+text",
         "name": "Austria",
         "orientation": "v",
         "showlegend": true,
         "text": [
          "Austria"
         ],
         "textposition": "top center",
         "type": "scatter",
         "x": [
          56505.97
         ],
         "xaxis": "x",
         "y": [
          5
         ],
         "yaxis": "y"
        }
       ],
       "layout": {
        "height": 700,
        "legend": {
         "itemsizing": "constant",
         "title": {
          "text": "country"
         },
         "tracegroupgap": 0
        },
        "showlegend": false,
        "template": {
         "data": {
          "bar": [
           {
            "error_x": {
             "color": "#2a3f5f"
            },
            "error_y": {
             "color": "#2a3f5f"
            },
            "marker": {
             "line": {
              "color": "#E5ECF6",
              "width": 0.5
             },
             "pattern": {
              "fillmode": "overlay",
              "size": 10,
              "solidity": 0.2
             }
            },
            "type": "bar"
           }
          ],
          "barpolar": [
           {
            "marker": {
             "line": {
              "color": "#E5ECF6",
              "width": 0.5
             },
             "pattern": {
              "fillmode": "overlay",
              "size": 10,
              "solidity": 0.2
             }
            },
            "type": "barpolar"
           }
          ],
          "carpet": [
           {
            "aaxis": {
             "endlinecolor": "#2a3f5f",
             "gridcolor": "white",
             "linecolor": "white",
             "minorgridcolor": "white",
             "startlinecolor": "#2a3f5f"
            },
            "baxis": {
             "endlinecolor": "#2a3f5f",
             "gridcolor": "white",
             "linecolor": "white",
             "minorgridcolor": "white",
             "startlinecolor": "#2a3f5f"
            },
            "type": "carpet"
           }
          ],
          "choropleth": [
           {
            "colorbar": {
             "outlinewidth": 0,
             "ticks": ""
            },
            "type": "choropleth"
           }
          ],
          "contour": [
           {
            "colorbar": {
             "outlinewidth": 0,
             "ticks": ""
            },
            "colorscale": [
             [
              0,
              "#0d0887"
             ],
             [
              0.1111111111111111,
              "#46039f"
             ],
             [
              0.2222222222222222,
              "#7201a8"
             ],
             [
              0.3333333333333333,
              "#9c179e"
             ],
             [
              0.4444444444444444,
              "#bd3786"
             ],
             [
              0.5555555555555556,
              "#d8576b"
             ],
             [
              0.6666666666666666,
              "#ed7953"
             ],
             [
              0.7777777777777778,
              "#fb9f3a"
             ],
             [
              0.8888888888888888,
              "#fdca26"
             ],
             [
              1,
              "#f0f921"
             ]
            ],
            "type": "contour"
           }
          ],
          "contourcarpet": [
           {
            "colorbar": {
             "outlinewidth": 0,
             "ticks": ""
            },
            "type": "contourcarpet"
           }
          ],
          "heatmap": [
           {
            "colorbar": {
             "outlinewidth": 0,
             "ticks": ""
            },
            "colorscale": [
             [
              0,
              "#0d0887"
             ],
             [
              0.1111111111111111,
              "#46039f"
             ],
             [
              0.2222222222222222,
              "#7201a8"
             ],
             [
              0.3333333333333333,
              "#9c179e"
             ],
             [
              0.4444444444444444,
              "#bd3786"
             ],
             [
              0.5555555555555556,
              "#d8576b"
             ],
             [
              0.6666666666666666,
              "#ed7953"
             ],
             [
              0.7777777777777778,
              "#fb9f3a"
             ],
             [
              0.8888888888888888,
              "#fdca26"
             ],
             [
              1,
              "#f0f921"
             ]
            ],
            "type": "heatmap"
           }
          ],
          "heatmapgl": [
           {
            "colorbar": {
             "outlinewidth": 0,
             "ticks": ""
            },
            "colorscale": [
             [
              0,
              "#0d0887"
             ],
             [
              0.1111111111111111,
              "#46039f"
             ],
             [
              0.2222222222222222,
              "#7201a8"
             ],
             [
              0.3333333333333333,
              "#9c179e"
             ],
             [
              0.4444444444444444,
              "#bd3786"
             ],
             [
              0.5555555555555556,
              "#d8576b"
             ],
             [
              0.6666666666666666,
              "#ed7953"
             ],
             [
              0.7777777777777778,
              "#fb9f3a"
             ],
             [
              0.8888888888888888,
              "#fdca26"
             ],
             [
              1,
              "#f0f921"
             ]
            ],
            "type": "heatmapgl"
           }
          ],
          "histogram": [
           {
            "marker": {
             "pattern": {
              "fillmode": "overlay",
              "size": 10,
              "solidity": 0.2
             }
            },
            "type": "histogram"
           }
          ],
          "histogram2d": [
           {
            "colorbar": {
             "outlinewidth": 0,
             "ticks": ""
            },
            "colorscale": [
             [
              0,
              "#0d0887"
             ],
             [
              0.1111111111111111,
              "#46039f"
             ],
             [
              0.2222222222222222,
              "#7201a8"
             ],
             [
              0.3333333333333333,
              "#9c179e"
             ],
             [
              0.4444444444444444,
              "#bd3786"
             ],
             [
              0.5555555555555556,
              "#d8576b"
             ],
             [
              0.6666666666666666,
              "#ed7953"
             ],
             [
              0.7777777777777778,
              "#fb9f3a"
             ],
             [
              0.8888888888888888,
              "#fdca26"
             ],
             [
              1,
              "#f0f921"
             ]
            ],
            "type": "histogram2d"
           }
          ],
          "histogram2dcontour": [
           {
            "colorbar": {
             "outlinewidth": 0,
             "ticks": ""
            },
            "colorscale": [
             [
              0,
              "#0d0887"
             ],
             [
              0.1111111111111111,
              "#46039f"
             ],
             [
              0.2222222222222222,
              "#7201a8"
             ],
             [
              0.3333333333333333,
              "#9c179e"
             ],
             [
              0.4444444444444444,
              "#bd3786"
             ],
             [
              0.5555555555555556,
              "#d8576b"
             ],
             [
              0.6666666666666666,
              "#ed7953"
             ],
             [
              0.7777777777777778,
              "#fb9f3a"
             ],
             [
              0.8888888888888888,
              "#fdca26"
             ],
             [
              1,
              "#f0f921"
             ]
            ],
            "type": "histogram2dcontour"
           }
          ],
          "mesh3d": [
           {
            "colorbar": {
             "outlinewidth": 0,
             "ticks": ""
            },
            "type": "mesh3d"
           }
          ],
          "parcoords": [
           {
            "line": {
             "colorbar": {
              "outlinewidth": 0,
              "ticks": ""
             }
            },
            "type": "parcoords"
           }
          ],
          "pie": [
           {
            "automargin": true,
            "type": "pie"
           }
          ],
          "scatter": [
           {
            "fillpattern": {
             "fillmode": "overlay",
             "size": 10,
             "solidity": 0.2
            },
            "type": "scatter"
           }
          ],
          "scatter3d": [
           {
            "line": {
             "colorbar": {
              "outlinewidth": 0,
              "ticks": ""
             }
            },
            "marker": {
             "colorbar": {
              "outlinewidth": 0,
              "ticks": ""
             }
            },
            "type": "scatter3d"
           }
          ],
          "scattercarpet": [
           {
            "marker": {
             "colorbar": {
              "outlinewidth": 0,
              "ticks": ""
             }
            },
            "type": "scattercarpet"
           }
          ],
          "scattergeo": [
           {
            "marker": {
             "colorbar": {
              "outlinewidth": 0,
              "ticks": ""
             }
            },
            "type": "scattergeo"
           }
          ],
          "scattergl": [
           {
            "marker": {
             "colorbar": {
              "outlinewidth": 0,
              "ticks": ""
             }
            },
            "type": "scattergl"
           }
          ],
          "scattermapbox": [
           {
            "marker": {
             "colorbar": {
              "outlinewidth": 0,
              "ticks": ""
             }
            },
            "type": "scattermapbox"
           }
          ],
          "scatterpolar": [
           {
            "marker": {
             "colorbar": {
              "outlinewidth": 0,
              "ticks": ""
             }
            },
            "type": "scatterpolar"
           }
          ],
          "scatterpolargl": [
           {
            "marker": {
             "colorbar": {
              "outlinewidth": 0,
              "ticks": ""
             }
            },
            "type": "scatterpolargl"
           }
          ],
          "scatterternary": [
           {
            "marker": {
             "colorbar": {
              "outlinewidth": 0,
              "ticks": ""
             }
            },
            "type": "scatterternary"
           }
          ],
          "surface": [
           {
            "colorbar": {
             "outlinewidth": 0,
             "ticks": ""
            },
            "colorscale": [
             [
              0,
              "#0d0887"
             ],
             [
              0.1111111111111111,
              "#46039f"
             ],
             [
              0.2222222222222222,
              "#7201a8"
             ],
             [
              0.3333333333333333,
              "#9c179e"
             ],
             [
              0.4444444444444444,
              "#bd3786"
             ],
             [
              0.5555555555555556,
              "#d8576b"
             ],
             [
              0.6666666666666666,
              "#ed7953"
             ],
             [
              0.7777777777777778,
              "#fb9f3a"
             ],
             [
              0.8888888888888888,
              "#fdca26"
             ],
             [
              1,
              "#f0f921"
             ]
            ],
            "type": "surface"
           }
          ],
          "table": [
           {
            "cells": {
             "fill": {
              "color": "#EBF0F8"
             },
             "line": {
              "color": "white"
             }
            },
            "header": {
             "fill": {
              "color": "#C8D4E3"
             },
             "line": {
              "color": "white"
             }
            },
            "type": "table"
           }
          ]
         },
         "layout": {
          "annotationdefaults": {
           "arrowcolor": "#2a3f5f",
           "arrowhead": 0,
           "arrowwidth": 1
          },
          "autotypenumbers": "strict",
          "coloraxis": {
           "colorbar": {
            "outlinewidth": 0,
            "ticks": ""
           }
          },
          "colorscale": {
           "diverging": [
            [
             0,
             "#8e0152"
            ],
            [
             0.1,
             "#c51b7d"
            ],
            [
             0.2,
             "#de77ae"
            ],
            [
             0.3,
             "#f1b6da"
            ],
            [
             0.4,
             "#fde0ef"
            ],
            [
             0.5,
             "#f7f7f7"
            ],
            [
             0.6,
             "#e6f5d0"
            ],
            [
             0.7,
             "#b8e186"
            ],
            [
             0.8,
             "#7fbc41"
            ],
            [
             0.9,
             "#4d9221"
            ],
            [
             1,
             "#276419"
            ]
           ],
           "sequential": [
            [
             0,
             "#0d0887"
            ],
            [
             0.1111111111111111,
             "#46039f"
            ],
            [
             0.2222222222222222,
             "#7201a8"
            ],
            [
             0.3333333333333333,
             "#9c179e"
            ],
            [
             0.4444444444444444,
             "#bd3786"
            ],
            [
             0.5555555555555556,
             "#d8576b"
            ],
            [
             0.6666666666666666,
             "#ed7953"
            ],
            [
             0.7777777777777778,
             "#fb9f3a"
            ],
            [
             0.8888888888888888,
             "#fdca26"
            ],
            [
             1,
             "#f0f921"
            ]
           ],
           "sequentialminus": [
            [
             0,
             "#0d0887"
            ],
            [
             0.1111111111111111,
             "#46039f"
            ],
            [
             0.2222222222222222,
             "#7201a8"
            ],
            [
             0.3333333333333333,
             "#9c179e"
            ],
            [
             0.4444444444444444,
             "#bd3786"
            ],
            [
             0.5555555555555556,
             "#d8576b"
            ],
            [
             0.6666666666666666,
             "#ed7953"
            ],
            [
             0.7777777777777778,
             "#fb9f3a"
            ],
            [
             0.8888888888888888,
             "#fdca26"
            ],
            [
             1,
             "#f0f921"
            ]
           ]
          },
          "colorway": [
           "#636efa",
           "#EF553B",
           "#00cc96",
           "#ab63fa",
           "#FFA15A",
           "#19d3f3",
           "#FF6692",
           "#B6E880",
           "#FF97FF",
           "#FECB52"
          ],
          "font": {
           "color": "#2a3f5f"
          },
          "geo": {
           "bgcolor": "white",
           "lakecolor": "white",
           "landcolor": "#E5ECF6",
           "showlakes": true,
           "showland": true,
           "subunitcolor": "white"
          },
          "hoverlabel": {
           "align": "left"
          },
          "hovermode": "closest",
          "mapbox": {
           "style": "light"
          },
          "paper_bgcolor": "white",
          "plot_bgcolor": "#E5ECF6",
          "polar": {
           "angularaxis": {
            "gridcolor": "white",
            "linecolor": "white",
            "ticks": ""
           },
           "bgcolor": "#E5ECF6",
           "radialaxis": {
            "gridcolor": "white",
            "linecolor": "white",
            "ticks": ""
           }
          },
          "scene": {
           "xaxis": {
            "backgroundcolor": "#E5ECF6",
            "gridcolor": "white",
            "gridwidth": 2,
            "linecolor": "white",
            "showbackground": true,
            "ticks": "",
            "zerolinecolor": "white"
           },
           "yaxis": {
            "backgroundcolor": "#E5ECF6",
            "gridcolor": "white",
            "gridwidth": 2,
            "linecolor": "white",
            "showbackground": true,
            "ticks": "",
            "zerolinecolor": "white"
           },
           "zaxis": {
            "backgroundcolor": "#E5ECF6",
            "gridcolor": "white",
            "gridwidth": 2,
            "linecolor": "white",
            "showbackground": true,
            "ticks": "",
            "zerolinecolor": "white"
           }
          },
          "shapedefaults": {
           "line": {
            "color": "#2a3f5f"
           }
          },
          "ternary": {
           "aaxis": {
            "gridcolor": "white",
            "linecolor": "white",
            "ticks": ""
           },
           "baxis": {
            "gridcolor": "white",
            "linecolor": "white",
            "ticks": ""
           },
           "bgcolor": "#E5ECF6",
           "caxis": {
            "gridcolor": "white",
            "linecolor": "white",
            "ticks": ""
           }
          },
          "title": {
           "x": 0.05
          },
          "xaxis": {
           "automargin": true,
           "gridcolor": "white",
           "linecolor": "white",
           "ticks": "",
           "title": {
            "standoff": 15
           },
           "zerolinecolor": "white",
           "zerolinewidth": 2
          },
          "yaxis": {
           "automargin": true,
           "gridcolor": "white",
           "linecolor": "white",
           "ticks": "",
           "title": {
            "standoff": 15
           },
           "zerolinecolor": "white",
           "zerolinewidth": 2
          }
         }
        },
        "title": {
         "text": "Top Countries by GDP vs Total Olympic Medals (2023)"
        },
        "width": 1000,
        "xaxis": {
         "anchor": "y",
         "autorange": true,
         "domain": [
          0,
          1
         ],
         "range": [
          53662.4952284486,
          106564.69833447719
         ],
         "title": {
          "text": "GDP (in billions USD)"
         },
         "type": "linear"
        },
        "yaxis": {
         "anchor": "x",
         "autorange": true,
         "domain": [
          0,
          1
         ],
         "range": [
          -7.070106644706803,
          137.63525388107035
         ],
         "title": {
          "text": "Total Olympic Medals"
         },
         "type": "linear"
        }
       }
      },
      "image/png": "[encoded data removed]",
      "text/html": [
       "<div>                            <div id=\"d72b440d-6e88-48c2-ad02-dfdb847e100a\" class=\"plotly-graph-div\" style=\"height:700px; width:1000px;\"></div>            <script type=\"text/javascript\">                require([\"plotly\"], function(Plotly) {                    window.PLOTLYENV=window.PLOTLYENV || {};                                    if (document.getElementById(\"d72b440d-6e88-48c2-ad02-dfdb847e100a\")) {                    Plotly.newPlot(                        \"d72b440d-6e88-48c2-ad02-dfdb847e100a\",                        [{\"hovertemplate\":\"\\u003cb\\u003e%{hovertext}\\u003c\\u002fb\\u003e\\u003cbr\\u003e\\u003cbr\\u003ecountry=%{text}\\u003cbr\\u003eGDP (in billions USD)=%{x}\\u003cbr\\u003eTotal Medals=%{marker.size}\\u003cextra\\u003e\\u003c\\u002fextra\\u003e\",\"hovertext\":[\"Ireland\"],\"legendgroup\":\"Ireland\",\"marker\":{\"color\":\"#636efa\",\"size\":[7],\"sizemode\":\"area\",\"sizeref\":0.315,\"symbol\":\"circle\"},\"mode\":\"markers+text\",\"name\":\"Ireland\",\"orientation\":\"v\",\"showlegend\":true,\"text\":[\"Ireland\"],\"x\":[103684.88],\"xaxis\":\"x\",\"y\":[7],\"yaxis\":\"y\",\"type\":\"scatter\",\"textposition\":\"top center\"},{\"hovertemplate\":\"\\u003cb\\u003e%{hovertext}\\u003c\\u002fb\\u003e\\u003cbr\\u003e\\u003cbr\\u003ecountry=%{text}\\u003cbr\\u003eGDP (in billions USD)=%{x}\\u003cbr\\u003eTotal Medals=%{marker.size}\\u003cextra\\u003e\\u003c\\u002fextra\\u003e\",\"hovertext\":[\"Switzerland\"],\"legendgroup\":\"Switzerland\",\"marker\":{\"color\":\"#EF553B\",\"size\":[8],\"sizemode\":\"area\",\"sizeref\":0.315,\"symbol\":\"circle\"},\"mode\":\"markers+text\",\"name\":\"Switzerland\",\"orientation\":\"v\",\"showlegend\":true,\"text\":[\"Switzerland\"],\"x\":[99994.94],\"xaxis\":\"x\",\"y\":[8],\"yaxis\":\"y\",\"type\":\"scatter\",\"textposition\":\"top center\"},{\"hovertemplate\":\"\\u003cb\\u003e%{hovertext}\\u003c\\u002fb\\u003e\\u003cbr\\u003e\\u003cbr\\u003ecountry=%{text}\\u003cbr\\u003eGDP (in billions USD)=%{x}\\u003cbr\\u003eTotal Medals=%{marker.size}\\u003cextra\\u003e\\u003c\\u002fextra\\u003e\",\"hovertext\":[\"Norway\"],\"legendgroup\":\"Norway\",\"marker\":{\"color\":\"#00cc96\",\"size\":[8],\"sizemode\":\"area\",\"sizeref\":0.315,\"symbol\":\"circle\"},\"mode\":\"markers+text\",\"name\":\"Norway\",\"orientation\":\"v\",\"showlegend\":true,\"text\":[\"Norway\"],\"x\":[87961.78],\"xaxis\":\"x\",\"y\":[8],\"yaxis\":\"y\",\"type\":\"scatter\",\"textposition\":\"top center\"},{\"hovertemplate\":\"\\u003cb\\u003e%{hovertext}\\u003c\\u002fb\\u003e\\u003cbr\\u003e\\u003cbr\\u003ecountry=%{text}\\u003cbr\\u003eGDP (in billions USD)=%{x}\\u003cbr\\u003eTotal Medals=%{marker.size}\\u003cextra\\u003e\\u003c\\u002fextra\\u003e\",\"hovertext\":[\"Qatar\"],\"legendgroup\":\"Qatar\",\"marker\":{\"color\":\"#ab63fa\",\"size\":[1],\"sizemode\":\"area\",\"sizeref\":0.315,\"symbol\":\"circle\"},\"mode\":\"markers+text\",\"name\":\"Qatar\",\"orientation\":\"v\",\"showlegend\":true,\"text\":[\"Qatar\"],\"x\":[87480.42],\"xaxis\":\"x\",\"y\":[1],\"yaxis\":\"y\",\"type\":\"scatter\",\"textposition\":\"top center\"},{\"hovertemplate\":\"\\u003cb\\u003e%{hovertext}\\u003c\\u002fb\\u003e\\u003cbr\\u003e\\u003cbr\\u003ecountry=%{text}\\u003cbr\\u003eGDP (in billions USD)=%{x}\\u003cbr\\u003eTotal Medals=%{marker.size}\\u003cextra\\u003e\\u003c\\u002fextra\\u003e\",\"hovertext\":[\"Singapore\"],\"legendgroup\":\"Singapore\",\"marker\":{\"color\":\"#FFA15A\",\"size\":[1],\"sizemode\":\"area\",\"sizeref\":0.315,\"symbol\":\"circle\"},\"mode\":\"markers+text\",\"name\":\"Singapore\",\"orientation\":\"v\",\"showlegend\":true,\"text\":[\"Singapore\"],\"x\":[84734.26],\"xaxis\":\"x\",\"y\":[1],\"yaxis\":\"y\",\"type\":\"scatter\",\"textposition\":\"top center\"},{\"hovertemplate\":\"\\u003cb\\u003e%{hovertext}\\u003c\\u002fb\\u003e\\u003cbr\\u003e\\u003cbr\\u003ecountry=%{text}\\u003cbr\\u003eGDP (in billions USD)=%{x}\\u003cbr\\u003eTotal Medals=%{marker.size}\\u003cextra\\u003e\\u003c\\u002fextra\\u003e\",\"hovertext\":[\"United States\"],\"legendgroup\":\"United States\",\"marker\":{\"color\":\"#19d3f3\",\"size\":[126],\"sizemode\":\"area\",\"sizeref\":0.315,\"symbol\":\"circle\"},\"mode\":\"markers+text\",\"name\":\"United States\",\"orientation\":\"v\",\"showlegend\":true,\"text\":[\"United States\"],\"x\":[81695.19],\"xaxis\":\"x\",\"y\":[126],\"yaxis\":\"y\",\"type\":\"scatter\",\"textposition\":\"top center\"},{\"hovertemplate\":\"\\u003cb\\u003e%{hovertext}\\u003c\\u002fb\\u003e\\u003cbr\\u003e\\u003cbr\\u003ecountry=%{text}\\u003cbr\\u003eGDP (in billions USD)=%{x}\\u003cbr\\u003eTotal Medals=%{marker.size}\\u003cextra\\u003e\\u003c\\u002fextra\\u003e\",\"hovertext\":[\"Denmark\"],\"legendgroup\":\"Denmark\",\"marker\":{\"color\":\"#FF6692\",\"size\":[9],\"sizemode\":\"area\",\"sizeref\":0.315,\"symbol\":\"circle\"},\"mode\":\"markers+text\",\"name\":\"Denmark\",\"orientation\":\"v\",\"showlegend\":true,\"text\":[\"Denmark\"],\"x\":[67967.38],\"xaxis\":\"x\",\"y\":[9],\"yaxis\":\"y\",\"type\":\"scatter\",\"textposition\":\"top center\"},{\"hovertemplate\":\"\\u003cb\\u003e%{hovertext}\\u003c\\u002fb\\u003e\\u003cbr\\u003e\\u003cbr\\u003ecountry=%{text}\\u003cbr\\u003eGDP (in billions USD)=%{x}\\u003cbr\\u003eTotal Medals=%{marker.size}\\u003cextra\\u003e\\u003c\\u002fextra\\u003e\",\"hovertext\":[\"Australia\"],\"legendgroup\":\"Australia\",\"marker\":{\"color\":\"#B6E880\",\"size\":[53],\"sizemode\":\"area\",\"sizeref\":0.315,\"symbol\":\"circle\"},\"mode\":\"markers+text\",\"name\":\"Australia\",\"orientation\":\"v\",\"showlegend\":true,\"text\":[\"Australia\"],\"x\":[64711.77],\"xaxis\":\"x\",\"y\":[53],\"yaxis\":\"y\",\"type\":\"scatter\",\"textposition\":\"top center\"},{\"hovertemplate\":\"\\u003cb\\u003e%{hovertext}\\u003c\\u002fb\\u003e\\u003cbr\\u003e\\u003cbr\\u003ecountry=%{text}\\u003cbr\\u003eGDP (in billions USD)=%{x}\\u003cbr\\u003eTotal Medals=%{marker.size}\\u003cextra\\u003e\\u003c\\u002fextra\\u003e\",\"hovertext\":[\"Netherlands\"],\"legendgroup\":\"Netherlands\",\"marker\":{\"color\":\"#FF97FF\",\"size\":[34],\"sizemode\":\"area\",\"sizeref\":0.315,\"symbol\":\"circle\"},\"mode\":\"markers+text\",\"name\":\"Netherlands\",\"orientation\":\"v\",\"showlegend\":true,\"text\":[\"Netherlands\"],\"x\":[62536.73],\"xaxis\":\"x\",\"y\":[34],\"yaxis\":\"y\",\"type\":\"scatter\",\"textposition\":\"top center\"},{\"hovertemplate\":\"\\u003cb\\u003e%{hovertext}\\u003c\\u002fb\\u003e\\u003cbr\\u003e\\u003cbr\\u003ecountry=%{text}\\u003cbr\\u003eGDP (in billions USD)=%{x}\\u003cbr\\u003eTotal Medals=%{marker.size}\\u003cextra\\u003e\\u003c\\u002fextra\\u003e\",\"hovertext\":[\"Austria\"],\"legendgroup\":\"Austria\",\"marker\":{\"color\":\"#FECB52\",\"size\":[5],\"sizemode\":\"area\",\"sizeref\":0.315,\"symbol\":\"circle\"},\"mode\":\"markers+text\",\"name\":\"Austria\",\"orientation\":\"v\",\"showlegend\":true,\"text\":[\"Austria\"],\"x\":[56505.97],\"xaxis\":\"x\",\"y\":[5],\"yaxis\":\"y\",\"type\":\"scatter\",\"textposition\":\"top center\"}],                        {\"template\":{\"data\":{\"histogram2dcontour\":[{\"type\":\"histogram2dcontour\",\"colorbar\":{\"outlinewidth\":0,\"ticks\":\"\"},\"colorscale\":[[0.0,\"#0d0887\"],[0.1111111111111111,\"#46039f\"],[0.2222222222222222,\"#7201a8\"],[0.3333333333333333,\"#9c179e\"],[0.4444444444444444,\"#bd3786\"],[0.5555555555555556,\"#d8576b\"],[0.6666666666666666,\"#ed7953\"],[0.7777777777777778,\"#fb9f3a\"],[0.8888888888888888,\"#fdca26\"],[1.0,\"#f0f921\"]]}],\"choropleth\":[{\"type\":\"choropleth\",\"colorbar\":{\"outlinewidth\":0,\"ticks\":\"\"}}],\"histogram2d\":[{\"type\":\"histogram2d\",\"colorbar\":{\"outlinewidth\":0,\"ticks\":\"\"},\"colorscale\":[[0.0,\"#0d0887\"],[0.1111111111111111,\"#46039f\"],[0.2222222222222222,\"#7201a8\"],[0.3333333333333333,\"#9c179e\"],[0.4444444444444444,\"#bd3786\"],[0.5555555555555556,\"#d8576b\"],[0.6666666666666666,\"#ed7953\"],[0.7777777777777778,\"#fb9f3a\"],[0.8888888888888888,\"#fdca26\"],[1.0,\"#f0f921\"]]}],\"heatmap\":[{\"type\":\"heatmap\",\"colorbar\":{\"outlinewidth\":0,\"ticks\":\"\"},\"colorscale\":[[0.0,\"#0d0887\"],[0.1111111111111111,\"#46039f\"],[0.2222222222222222,\"#7201a8\"],[0.3333333333333333,\"#9c179e\"],[0.4444444444444444,\"#bd3786\"],[0.5555555555555556,\"#d8576b\"],[0.6666666666666666,\"#ed7953\"],[0.7777777777777778,\"#fb9f3a\"],[0.8888888888888888,\"#fdca26\"],[1.0,\"#f0f921\"]]}],\"heatmapgl\":[{\"type\":\"heatmapgl\",\"colorbar\":{\"outlinewidth\":0,\"ticks\":\"\"},\"colorscale\":[[0.0,\"#0d0887\"],[0.1111111111111111,\"#46039f\"],[0.2222222222222222,\"#7201a8\"],[0.3333333333333333,\"#9c179e\"],[0.4444444444444444,\"#bd3786\"],[0.5555555555555556,\"#d8576b\"],[0.6666666666666666,\"#ed7953\"],[0.7777777777777778,\"#fb9f3a\"],[0.8888888888888888,\"#fdca26\"],[1.0,\"#f0f921\"]]}],\"contourcarpet\":[{\"type\":\"contourcarpet\",\"colorbar\":{\"outlinewidth\":0,\"ticks\":\"\"}}],\"contour\":[{\"type\":\"contour\",\"colorbar\":{\"outlinewidth\":0,\"ticks\":\"\"},\"colorscale\":[[0.0,\"#0d0887\"],[0.1111111111111111,\"#46039f\"],[0.2222222222222222,\"#7201a8\"],[0.3333333333333333,\"#9c179e\"],[0.4444444444444444,\"#bd3786\"],[0.5555555555555556,\"#d8576b\"],[0.6666666666666666,\"#ed7953\"],[0.7777777777777778,\"#fb9f3a\"],[0.8888888888888888,\"#fdca26\"],[1.0,\"#f0f921\"]]}],\"surface\":[{\"type\":\"surface\",\"colorbar\":{\"outlinewidth\":0,\"ticks\":\"\"},\"colorscale\":[[0.0,\"#0d0887\"],[0.1111111111111111,\"#46039f\"],[0.2222222222222222,\"#7201a8\"],[0.3333333333333333,\"#9c179e\"],[0.4444444444444444,\"#bd3786\"],[0.5555555555555556,\"#d8576b\"],[0.6666666666666666,\"#ed7953\"],[0.7777777777777778,\"#fb9f3a\"],[0.8888888888888888,\"#fdca26\"],[1.0,\"#f0f921\"]]}],\"mesh3d\":[{\"type\":\"mesh3d\",\"colorbar\":{\"outlinewidth\":0,\"ticks\":\"\"}}],\"scatter\":[{\"fillpattern\":{\"fillmode\":\"overlay\",\"size\":10,\"solidity\":0.2},\"type\":\"scatter\"}],\"parcoords\":[{\"type\":\"parcoords\",\"line\":{\"colorbar\":{\"outlinewidth\":0,\"ticks\":\"\"}}}],\"scatterpolargl\":[{\"type\":\"scatterpolargl\",\"marker\":{\"colorbar\":{\"outlinewidth\":0,\"ticks\":\"\"}}}],\"bar\":[{\"error_x\":{\"color\":\"#2a3f5f\"},\"error_y\":{\"color\":\"#2a3f5f\"},\"marker\":{\"line\":{\"color\":\"#E5ECF6\",\"width\":0.5},\"pattern\":{\"fillmode\":\"overlay\",\"size\":10,\"solidity\":0.2}},\"type\":\"bar\"}],\"scattergeo\":[{\"type\":\"scattergeo\",\"marker\":{\"colorbar\":{\"outlinewidth\":0,\"ticks\":\"\"}}}],\"scatterpolar\":[{\"type\":\"scatterpolar\",\"marker\":{\"colorbar\":{\"outlinewidth\":0,\"ticks\":\"\"}}}],\"histogram\":[{\"marker\":{\"pattern\":{\"fillmode\":\"overlay\",\"size\":10,\"solidity\":0.2}},\"type\":\"histogram\"}],\"scattergl\":[{\"type\":\"scattergl\",\"marker\":{\"colorbar\":{\"outlinewidth\":0,\"ticks\":\"\"}}}],\"scatter3d\":[{\"type\":\"scatter3d\",\"line\":{\"colorbar\":{\"outlinewidth\":0,\"ticks\":\"\"}},\"marker\":{\"colorbar\":{\"outlinewidth\":0,\"ticks\":\"\"}}}],\"scattermapbox\":[{\"type\":\"scattermapbox\",\"marker\":{\"colorbar\":{\"outlinewidth\":0,\"ticks\":\"\"}}}],\"scatterternary\":[{\"type\":\"scatterternary\",\"marker\":{\"colorbar\":{\"outlinewidth\":0,\"ticks\":\"\"}}}],\"scattercarpet\":[{\"type\":\"scattercarpet\",\"marker\":{\"colorbar\":{\"outlinewidth\":0,\"ticks\":\"\"}}}],\"carpet\":[{\"aaxis\":{\"endlinecolor\":\"#2a3f5f\",\"gridcolor\":\"white\",\"linecolor\":\"white\",\"minorgridcolor\":\"white\",\"startlinecolor\":\"#2a3f5f\"},\"baxis\":{\"endlinecolor\":\"#2a3f5f\",\"gridcolor\":\"white\",\"linecolor\":\"white\",\"minorgridcolor\":\"white\",\"startlinecolor\":\"#2a3f5f\"},\"type\":\"carpet\"}],\"table\":[{\"cells\":{\"fill\":{\"color\":\"#EBF0F8\"},\"line\":{\"color\":\"white\"}},\"header\":{\"fill\":{\"color\":\"#C8D4E3\"},\"line\":{\"color\":\"white\"}},\"type\":\"table\"}],\"barpolar\":[{\"marker\":{\"line\":{\"color\":\"#E5ECF6\",\"width\":0.5},\"pattern\":{\"fillmode\":\"overlay\",\"size\":10,\"solidity\":0.2}},\"type\":\"barpolar\"}],\"pie\":[{\"automargin\":true,\"type\":\"pie\"}]},\"layout\":{\"autotypenumbers\":\"strict\",\"colorway\":[\"#636efa\",\"#EF553B\",\"#00cc96\",\"#ab63fa\",\"#FFA15A\",\"#19d3f3\",\"#FF6692\",\"#B6E880\",\"#FF97FF\",\"#FECB52\"],\"font\":{\"color\":\"#2a3f5f\"},\"hovermode\":\"closest\",\"hoverlabel\":{\"align\":\"left\"},\"paper_bgcolor\":\"white\",\"plot_bgcolor\":\"#E5ECF6\",\"polar\":{\"bgcolor\":\"#E5ECF6\",\"angularaxis\":{\"gridcolor\":\"white\",\"linecolor\":\"white\",\"ticks\":\"\"},\"radialaxis\":{\"gridcolor\":\"white\",\"linecolor\":\"white\",\"ticks\":\"\"}},\"ternary\":{\"bgcolor\":\"#E5ECF6\",\"aaxis\":{\"gridcolor\":\"white\",\"linecolor\":\"white\",\"ticks\":\"\"},\"baxis\":{\"gridcolor\":\"white\",\"linecolor\":\"white\",\"ticks\":\"\"},\"caxis\":{\"gridcolor\":\"white\",\"linecolor\":\"white\",\"ticks\":\"\"}},\"coloraxis\":{\"colorbar\":{\"outlinewidth\":0,\"ticks\":\"\"}},\"colorscale\":{\"sequential\":[[0.0,\"#0d0887\"],[0.1111111111111111,\"#46039f\"],[0.2222222222222222,\"#7201a8\"],[0.3333333333333333,\"#9c179e\"],[0.4444444444444444,\"#bd3786\"],[0.5555555555555556,\"#d8576b\"],[0.6666666666666666,\"#ed7953\"],[0.7777777777777778,\"#fb9f3a\"],[0.8888888888888888,\"#fdca26\"],[1.0,\"#f0f921\"]],\"sequentialminus\":[[0.0,\"#0d0887\"],[0.1111111111111111,\"#46039f\"],[0.2222222222222222,\"#7201a8\"],[0.3333333333333333,\"#9c179e\"],[0.4444444444444444,\"#bd3786\"],[0.5555555555555556,\"#d8576b\"],[0.6666666666666666,\"#ed7953\"],[0.7777777777777778,\"#fb9f3a\"],[0.8888888888888888,\"#fdca26\"],[1.0,\"#f0f921\"]],\"diverging\":[[0,\"#8e0152\"],[0.1,\"#c51b7d\"],[0.2,\"#de77ae\"],[0.3,\"#f1b6da\"],[0.4,\"#fde0ef\"],[0.5,\"#f7f7f7\"],[0.6,\"#e6f5d0\"],[0.7,\"#b8e186\"],[0.8,\"#7fbc41\"],[0.9,\"#4d9221\"],[1,\"#276419\"]]},\"xaxis\":{\"gridcolor\":\"white\",\"linecolor\":\"white\",\"ticks\":\"\",\"title\":{\"standoff\":15},\"zerolinecolor\":\"white\",\"automargin\":true,\"zerolinewidth\":2},\"yaxis\":{\"gridcolor\":\"white\",\"linecolor\":\"white\",\"ticks\":\"\",\"title\":{\"standoff\":15},\"zerolinecolor\":\"white\",\"automargin\":true,\"zerolinewidth\":2},\"scene\":{\"xaxis\":{\"backgroundcolor\":\"#E5ECF6\",\"gridcolor\":\"white\",\"linecolor\":\"white\",\"showbackground\":true,\"ticks\":\"\",\"zerolinecolor\":\"white\",\"gridwidth\":2},\"yaxis\":{\"backgroundcolor\":\"#E5ECF6\",\"gridcolor\":\"white\",\"linecolor\":\"white\",\"showbackground\":true,\"ticks\":\"\",\"zerolinecolor\":\"white\",\"gridwidth\":2},\"zaxis\":{\"backgroundcolor\":\"#E5ECF6\",\"gridcolor\":\"white\",\"linecolor\":\"white\",\"showbackground\":true,\"ticks\":\"\",\"zerolinecolor\":\"white\",\"gridwidth\":2}},\"shapedefaults\":{\"line\":{\"color\":\"#2a3f5f\"}},\"annotationdefaults\":{\"arrowcolor\":\"#2a3f5f\",\"arrowhead\":0,\"arrowwidth\":1},\"geo\":{\"bgcolor\":\"white\",\"landcolor\":\"#E5ECF6\",\"subunitcolor\":\"white\",\"showland\":true,\"showlakes\":true,\"lakecolor\":\"white\"},\"title\":{\"x\":0.05},\"mapbox\":{\"style\":\"light\"}}},\"xaxis\":{\"anchor\":\"y\",\"domain\":[0.0,1.0],\"title\":{\"text\":\"GDP (in billions USD)\"}},\"yaxis\":{\"anchor\":\"x\",\"domain\":[0.0,1.0],\"title\":{\"text\":\"Total Olympic Medals\"}},\"legend\":{\"title\":{\"text\":\"country\"},\"tracegroupgap\":0,\"itemsizing\":\"constant\"},\"title\":{\"text\":\"Top Countries by GDP vs Total Olympic Medals (2023)\"},\"height\":700,\"width\":1000,\"showlegend\":false},                        {\"responsive\": true}                    ).then(function(){\n",
       "                            \n",
       "var gd = document.getElementById('d72b440d-6e88-48c2-ad02-dfdb847e100a');\n",
       "var x = new MutationObserver(function (mutations, observer) {{\n",
       "        var display = window.getComputedStyle(gd).display;\n",
       "        if (!display || display === 'none') {{\n",
       "            console.log([gd, 'removed!']);\n",
       "            Plotly.purge(gd);\n",
       "            observer.disconnect();\n",
       "        }}\n",
       "}});\n",
       "\n",
       "// Listen for the removal of the full notebook cells\n",
       "var notebookContainer = gd.closest('#notebook-container');\n",
       "if (notebookContainer) {{\n",
       "    x.observe(notebookContainer, {childList: true});\n",
       "}}\n",
       "\n",
       "// Listen for the clearing of the current output cell\n",
       "var outputEl = gd.closest('.output');\n",
       "if (outputEl) {{\n",
       "    x.observe(outputEl, {childList: true});\n",
       "}}\n",
       "\n",
       "                        })                };                });            </script>        </div>"
      ]
     },
     "metadata": {},
     "output_type": "display_data"
    }
   ],
   "source": [
    "import pandas as pd\n",
    "import os\n",
    "import plotly.express as px\n",
    "\n",
    "def load_olympics_data():\n",
    "    \"\"\"\n",
    "    Load Olympics dataset from local or Kaggle environment.\n",
    "    Returns:\n",
    "        DataFrame: Olympics data with medals, GDP, and population.\n",
    "    \"\"\"\n",
    "    env_name = os.environ.get('KAGGLE_KERNEL_RUN_TYPE', 'Localhost')\n",
    "    if env_name == \"Localhost\":\n",
    "        df = pd.read_csv('../datasets/New/olympics-economics.csv', low_memory=False)\n",
    "    else:\n",
    "        df = pd.read_csv(\"/kaggle/input/olympics/olympics-economics.csv\")\n",
    "    return df\n",
    "\n",
    "def get_top_gdp_countries(df, top_n=10, include_countries=None):\n",
    "    \"\"\"\n",
    "    Get top N countries by GDP and optionally include specific countries.\n",
    "    \n",
    "    Args:\n",
    "        df (DataFrame): Olympics data.\n",
    "        top_n (int): Number of top GDP countries.\n",
    "        include_countries (list): List of country names to always include.\n",
    "        \n",
    "    Returns:\n",
    "        DataFrame: Filtered dataframe with top GDP countries + included countries.\n",
    "    \"\"\"\n",
    "    # Clean 'country' column\n",
    "    if 'country' not in df.columns:\n",
    "        for col in df.columns:\n",
    "            if col.lower() == 'country':\n",
    "                df.rename(columns={col: 'country'}, inplace=True)\n",
    "                break\n",
    "    df['country'] = df['country'].astype(str).str.strip()\n",
    "\n",
    "    # Sort and select top N\n",
    "    top_df = df.sort_values(by='gdp', ascending=False).head(top_n)\n",
    "\n",
    "    # Always include specified countries\n",
    "    if include_countries:\n",
    "        include_countries_clean = [c.strip() for c in include_countries]\n",
    "        extra_df = df[df['country'].isin(include_countries_clean)]\n",
    "        combined_df = pd.concat([top_df, extra_df], ignore_index=True)\n",
    "        combined_df = combined_df.drop_duplicates(subset='country')\n",
    "        combined_df = combined_df.sort_values(by='gdp', ascending=False).reset_index(drop=True)\n",
    "    else:\n",
    "        combined_df = top_df.reset_index(drop=True)\n",
    "\n",
    "    return combined_df\n",
    "\n",
    "def plot_gdp_vs_medals(df):\n",
    "    \"\"\"\n",
    "    Plot a scatter plot of GDP vs Total Medals using Plotly.\n",
    "    \n",
    "    Args:\n",
    "        df (DataFrame): Filtered Olympics data.\n",
    "    \"\"\"\n",
    "    fig = px.scatter(df,\n",
    "                     x='gdp',\n",
    "                     y='total',\n",
    "                     text='country',\n",
    "                     size='total',\n",
    "                     color='country',\n",
    "                     hover_name='country',\n",
    "                     labels={'gdp': 'GDP (in billions USD)', 'total': 'Total Medals'},\n",
    "                     title='Top Countries by GDP vs Total Olympic Medals (2023)',\n",
    "                     height=700,\n",
    "                     width=1000)\n",
    "\n",
    "    fig.update_traces(textposition='top center')\n",
    "    fig.update_layout(xaxis_title='GDP (in billions USD)',\n",
    "                      yaxis_title='Total Olympic Medals',\n",
    "                      showlegend=False)\n",
    "    fig.show()\n",
    "\n",
    "# Main Execution\n",
    "if __name__ == \"__main__\":\n",
    "    # Load dataset\n",
    "    df_olympics = load_olympics_data()\n",
    "    \n",
    "    # Countries to always include\n",
    "    include_countries = [\"Finland\", \"Pakistan\"]\n",
    "\n",
    "    # Get top GDP countries + includes\n",
    "    top_gdp_df = get_top_gdp_countries(df_olympics, top_n=10, include_countries=include_countries)\n",
    "\n",
    "    # Plot GDP vs Total Medals\n",
    "    plot_gdp_vs_medals(top_gdp_df)\n"
   ]
  }
 ],
 "metadata": {
  "kernelspec": {
   "display_name": "Python [conda env:base] *",
   "language": "python",
   "name": "conda-base-py"
  },
  "language_info": {
   "codemirror_mode": {
    "name": "ipython",
    "version": 3
   },
   "file_extension": ".py",
   "mimetype": "text/x-python",
   "name": "python",
   "nbconvert_exporter": "python",
   "pygments_lexer": "ipython3",
   "version": "3.12.7"
  }
 },
 "nbformat": 4,
 "nbformat_minor": 5
}
