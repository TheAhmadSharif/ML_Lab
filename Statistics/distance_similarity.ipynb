{
 "cells": [
  {
   "cell_type": "code",
   "execution_count": 1,
   "id": "bce23ba8",
   "metadata": {},
   "outputs": [
    {
     "data": {
      "text/html": [
       "<div>\n",
       "<style scoped>\n",
       "    .dataframe tbody tr th:only-of-type {\n",
       "        vertical-align: middle;\n",
       "    }\n",
       "\n",
       "    .dataframe tbody tr th {\n",
       "        vertical-align: top;\n",
       "    }\n",
       "\n",
       "    .dataframe thead th {\n",
       "        text-align: right;\n",
       "    }\n",
       "</style>\n",
       "<table border=\"1\" class=\"dataframe\">\n",
       "  <thead>\n",
       "    <tr style=\"text-align: right;\">\n",
       "      <th></th>\n",
       "      <th>000</th>\n",
       "      <th>16</th>\n",
       "      <th>able</th>\n",
       "      <th>according</th>\n",
       "      <th>all</th>\n",
       "      <th>and</th>\n",
       "      <th>anthophila</th>\n",
       "      <th>ants</th>\n",
       "      <th>anyway</th>\n",
       "      <th>apoidea</th>\n",
       "      <th>...</th>\n",
       "      <th>think</th>\n",
       "      <th>to</th>\n",
       "      <th>too</th>\n",
       "      <th>wasps</th>\n",
       "      <th>way</th>\n",
       "      <th>western</th>\n",
       "      <th>what</th>\n",
       "      <th>while</th>\n",
       "      <th>wings</th>\n",
       "      <th>within</th>\n",
       "    </tr>\n",
       "  </thead>\n",
       "  <tbody>\n",
       "    <tr>\n",
       "      <th>Document 1</th>\n",
       "      <td>0</td>\n",
       "      <td>0</td>\n",
       "      <td>1</td>\n",
       "      <td>1</td>\n",
       "      <td>1</td>\n",
       "      <td>0</td>\n",
       "      <td>0</td>\n",
       "      <td>0</td>\n",
       "      <td>1</td>\n",
       "      <td>0</td>\n",
       "      <td>...</td>\n",
       "      <td>1</td>\n",
       "      <td>3</td>\n",
       "      <td>1</td>\n",
       "      <td>0</td>\n",
       "      <td>1</td>\n",
       "      <td>0</td>\n",
       "      <td>1</td>\n",
       "      <td>0</td>\n",
       "      <td>1</td>\n",
       "      <td>0</td>\n",
       "    </tr>\n",
       "    <tr>\n",
       "      <th>Document 2</th>\n",
       "      <td>1</td>\n",
       "      <td>1</td>\n",
       "      <td>0</td>\n",
       "      <td>0</td>\n",
       "      <td>0</td>\n",
       "      <td>4</td>\n",
       "      <td>1</td>\n",
       "      <td>1</td>\n",
       "      <td>0</td>\n",
       "      <td>1</td>\n",
       "      <td>...</td>\n",
       "      <td>0</td>\n",
       "      <td>1</td>\n",
       "      <td>0</td>\n",
       "      <td>1</td>\n",
       "      <td>0</td>\n",
       "      <td>1</td>\n",
       "      <td>0</td>\n",
       "      <td>1</td>\n",
       "      <td>0</td>\n",
       "      <td>1</td>\n",
       "    </tr>\n",
       "  </tbody>\n",
       "</table>\n",
       "<p>2 rows × 88 columns</p>\n",
       "</div>"
      ],
      "text/plain": [
       "            000  16  able  according  all  and  anthophila  ants  anyway  \\\n",
       "Document 1    0   0     1          1    1    0           0     0       1   \n",
       "Document 2    1   1     0          0    0    4           1     1       0   \n",
       "\n",
       "            apoidea  ...  think  to  too  wasps  way  western  what  while  \\\n",
       "Document 1        0  ...      1   3    1      0    1        0     1      0   \n",
       "Document 2        1  ...      0   1    0      1    0        1     0      1   \n",
       "\n",
       "            wings  within  \n",
       "Document 1      1       0  \n",
       "Document 2      0       1  \n",
       "\n",
       "[2 rows x 88 columns]"
      ]
     },
     "execution_count": 1,
     "metadata": {},
     "output_type": "execute_result"
    }
   ],
   "source": [
    "import pandas as pd\n",
    "from sklearn.feature_extraction.text import CountVectorizer\n",
    "count_vect = CountVectorizer()\n",
    "\n",
    "Document1 = \"\"\"According to all known laws of aviation, \n",
    "there is no way a bee should be able to fly. \n",
    "Its wings are too small to get its fat little body off the ground. \n",
    "The bee, of course, flies anyway because \n",
    "bees don't care what humans think is impossible.\"\"\"\n",
    "\n",
    "Document2 = \"\"\"Bees are flying insects closely related to wasps and ants, \n",
    "known for their role in pollination and, in the case of the best-known \n",
    "bee species, the western honey bee, for producing honey. \n",
    "Bees are a monophyletic lineage within the superfamily \n",
    "Apoidea. They are presently considered a clade, called \n",
    "Anthophila. There are over 16,000 known species of bees in seven \n",
    "recognized biological families. Some species – \n",
    "including honey bees, bumblebees, and stingless bees – \n",
    "live socially in colonies while some species – including mason bees, \n",
    "carpenter bees, leafcutter bees, and sweat bees – are solitary.\"\"\"\n",
    "\n",
    "corpus = [Document1,Document2]\n",
    "\n",
    "X_train_counts = count_vect.fit_transform(corpus)\n",
    "\n",
    "pd.DataFrame(X_train_counts.toarray(),columns=count_vect.get_feature_names_out(),index=['Document 1','Document 2'])"
   ]
  },
  {
   "cell_type": "markdown",
   "id": "b5e6b3d6",
   "metadata": {},
   "source": [
    "## Manhatan distance"
   ]
  },
  {
   "cell_type": "code",
   "execution_count": 2,
   "id": "9aaf06e9",
   "metadata": {},
   "outputs": [
    {
     "data": {
      "text/plain": [
       "9"
      ]
     },
     "execution_count": 2,
     "metadata": {},
     "output_type": "execute_result"
    }
   ],
   "source": [
    "from scipy.spatial.distance import cityblock\n",
    "A = [2, 4, 4, 6]\n",
    "B = [5, 5, 7, 8]\n",
    "cityblock(A, B)"
   ]
  },
  {
   "cell_type": "code",
   "execution_count": 3,
   "id": "2bfd63cc",
   "metadata": {},
   "outputs": [
    {
     "data": {
      "text/plain": [
       "1.0"
      ]
     },
     "execution_count": 3,
     "metadata": {},
     "output_type": "execute_result"
    }
   ],
   "source": [
    "from scipy.spatial import distance\n",
    "distance.cosine([1, 0, 0], [0, 1, 0])"
   ]
  },
  {
   "cell_type": "code",
   "execution_count": null,
   "id": "5049785c",
   "metadata": {},
   "outputs": [],
   "source": [
    "# Euclidean Distance"
   ]
  },
  {
   "cell_type": "code",
   "execution_count": 7,
   "id": "42230018",
   "metadata": {},
   "outputs": [
    {
     "data": {
      "text/plain": [
       "7.810249675906654"
      ]
     },
     "execution_count": 7,
     "metadata": {},
     "output_type": "execute_result"
    }
   ],
   "source": [
    "a = (0, 0)\n",
    "b = (5, 6)\n",
    "dst = distance.euclidean(a, b)\n",
    "dst"
   ]
  }
 ],
 "metadata": {
  "kernelspec": {
   "display_name": "Python 3 (ipykernel)",
   "language": "python",
   "name": "python3"
  },
  "language_info": {
   "codemirror_mode": {
    "name": "ipython",
    "version": 3
   },
   "file_extension": ".py",
   "mimetype": "text/x-python",
   "name": "python",
   "nbconvert_exporter": "python",
   "pygments_lexer": "ipython3",
   "version": "3.9.12"
  }
 },
 "nbformat": 4,
 "nbformat_minor": 5
}
