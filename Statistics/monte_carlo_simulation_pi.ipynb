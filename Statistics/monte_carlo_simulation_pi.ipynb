{
 "cells": [
  {
   "cell_type": "code",
   "execution_count": 1,
   "id": "e9347b05",
   "metadata": {},
   "outputs": [],
   "source": [
    "## Monte Carlo Simulation\n",
    "## Date:: 15 October 2022"
   ]
  },
  {
   "cell_type": "code",
   "execution_count": 4,
   "id": "21ffcbd4",
   "metadata": {},
   "outputs": [],
   "source": [
    "import numpy as np\n",
    "import random\n",
    "import math"
   ]
  },
  {
   "cell_type": "code",
   "execution_count": 19,
   "id": "ac6cbc33",
   "metadata": {},
   "outputs": [
    {
     "name": "stdout",
     "output_type": "stream",
     "text": [
      "Approximate value of pi: 3.156\n",
      "Approximate value of pi: 3.141592653589793\n"
     ]
    }
   ],
   "source": [
    "n_circle = 0\n",
    "n_square = 0\n",
    "\n",
    "for i in range(10000):\n",
    "    x = random.random()\n",
    "    y = random.random()\n",
    "    if x** 2 + y ** 2 <=1:\n",
    "        n_circle += 1\n",
    "    n_square += 1\n",
    "\n",
    "pi = 4.0 * n_circle/n_square\n",
    "\n",
    "print(\"Approximate value of pi:\", pi)\n",
    "print(\"Approximate value of pi:\", math.pi)"
   ]
  },
  {
   "cell_type": "code",
   "execution_count": null,
   "id": "cf5217fb",
   "metadata": {},
   "outputs": [],
   "source": [
    "total_shot_made = []\n",
    "\n",
    "\n",
    "for i in range(0, 10000):\n",
    "    shots_made = []\n",
    "    for k in range(0, 100)"
   ]
  },
  {
   "cell_type": "code",
   "execution_count": null,
   "id": "efcc2d8c",
   "metadata": {
    "collapsed": true
   },
   "outputs": [],
   "source": []
  },
  {
   "cell_type": "code",
   "execution_count": null,
   "id": "d969f2e3",
   "metadata": {},
   "outputs": [],
   "source": []
  }
 ],
 "metadata": {
  "kernelspec": {
   "display_name": "Python 3 (ipykernel)",
   "language": "python",
   "name": "python3"
  },
  "language_info": {
   "codemirror_mode": {
    "name": "ipython",
    "version": 3
   },
   "file_extension": ".py",
   "mimetype": "text/x-python",
   "name": "python",
   "nbconvert_exporter": "python",
   "pygments_lexer": "ipython3",
   "version": "3.9.12"
  }
 },
 "nbformat": 4,
 "nbformat_minor": 5
}
